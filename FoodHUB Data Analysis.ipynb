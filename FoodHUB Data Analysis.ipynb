{
  "cells": [
    {
      "cell_type": "markdown",
      "metadata": {
        "id": "Gc8x8QimJY_H"
      },
      "source": [
        "# Project Python Foundations: FoodHub Data Analysis"
      ]
    },
    {
      "cell_type": "markdown",
      "metadata": {
        "id": "NqikjkWwJY_L"
      },
      "source": [
        "### Context\n",
        "\n",
        "The number of restaurants in New York is increasing day by day. Lots of students and busy professionals rely on those restaurants due to their hectic lifestyles. Online food delivery service is a great option for them. It provides them with good food from their favorite restaurants. A food aggregator company FoodHub offers access to multiple restaurants through a single smartphone app.\n",
        "\n",
        "The app allows the restaurants to receive a direct online order from a customer. The app assigns a delivery person from the company to pick up the order after it is confirmed by the restaurant. The delivery person then uses the map to reach the restaurant and waits for the food package. Once the food package is handed over to the delivery person, he/she confirms the pick-up in the app and travels to the customer's location to deliver the food. The delivery person confirms the drop-off in the app after delivering the food package to the customer. The customer can rate the order in the app. The food aggregator earns money by collecting a fixed margin of the delivery order from the restaurants.\n",
        "\n",
        "### Objective\n",
        "\n",
        "The food aggregator company has stored the data of the different orders made by the registered customers in their online portal. They want to analyze the data to get a fair idea about the demand of different restaurants which will help them in enhancing their customer experience. Suppose you are hired as a Data Scientist in this company and the Data Science team has shared some of the key questions that need to be answered. Perform the data analysis to find answers to these questions that will help the company to improve the business.\n",
        "\n",
        "### Data Description\n",
        "\n",
        "The data contains the different data related to a food order. The detailed data dictionary is given below.\n",
        "\n",
        "### Data Dictionary\n",
        "\n",
        "* order_id: Unique ID of the order\n",
        "* customer_id: ID of the customer who ordered the food\n",
        "* restaurant_name: Name of the restaurant\n",
        "* cuisine_type: Cuisine ordered by the customer\n",
        "* cost_of_the_order: Cost of the order\n",
        "* day_of_the_week: Indicates whether the order is placed on a weekday or weekend (The weekday is from Monday to Friday and the weekend is Saturday and Sunday)\n",
        "* rating: Rating given by the customer out of 5\n",
        "* food_preparation_time: Time (in minutes) taken by the restaurant to prepare the food. This is calculated by taking the difference between the timestamps of the restaurant's order confirmation and the delivery person's pick-up confirmation.\n",
        "* delivery_time: Time (in minutes) taken by the delivery person to deliver the food package. This is calculated by taking the difference between the timestamps of the delivery person's pick-up confirmation and drop-off information"
      ]
    },
    {
      "cell_type": "markdown",
      "metadata": {
        "id": "cEtNUxNAJY_M"
      },
      "source": [
        "### Let us start by importing the required libraries"
      ]
    },
    {
      "cell_type": "code",
      "execution_count": 319,
      "metadata": {
        "id": "_aG-ZzhYXs_1"
      },
      "outputs": [],
      "source": [
        "# Installing the libraries with the specified version.\n",
        "!pip install numpy==1.25.2 pandas==2.0.3 matplotlib==3.7.1 seaborn==0.13.1 -q --user\n"
      ]
    },
    {
      "cell_type": "code",
      "source": [
        "# Import\n",
        "#Libraries to help with reading and manipulating data\n",
        "import numpy as np\n",
        "import pandas as pd\n",
        "\n",
        "# Libraries to help with data visualization\n",
        "import matplotlib.pyplot as plt\n",
        "import seaborn as sns\n",
        "\n",
        "# Command to tell Python to actually display the graphs\n",
        "%matplotlib inline\n",
        "\n",
        "#\n",
        "from ydata_profiling import ProfileReport\n",
        "\n",
        "import warnings\n",
        "\n",
        "# Suppress all warnings\n",
        "warnings.filterwarnings(\"ignore\", category=DeprecationWarning)\n",
        "\n",
        "\n",
        "\n"
      ],
      "metadata": {
        "id": "tRdy0SiTY45j"
      },
      "execution_count": 320,
      "outputs": []
    },
    {
      "cell_type": "markdown",
      "metadata": {
        "id": "7ueES9WOzI5X"
      },
      "source": [
        "**Note**: *After running the above cell, kindly restart the notebook kernel and run all cells sequentially from the start again.*"
      ]
    },
    {
      "cell_type": "markdown",
      "metadata": {
        "id": "AdracY0HJY_O"
      },
      "source": [
        "### Understanding the structure of the data"
      ]
    },
    {
      "cell_type": "code",
      "execution_count": 321,
      "metadata": {
        "id": "WBh2ZGB9kFhU",
        "colab": {
          "base_uri": "https://localhost:8080/"
        },
        "outputId": "97aa30d0-6fc8-4a6e-b52b-9337f7fedca8"
      },
      "outputs": [
        {
          "output_type": "stream",
          "name": "stdout",
          "text": [
            "Drive already mounted at /content/drive; to attempt to forcibly remount, call drive.mount(\"/content/drive\", force_remount=True).\n"
          ]
        }
      ],
      "source": [
        "# uncomment and run the following lines for Google Colab\n",
        "from google.colab import drive\n",
        "drive.mount('/content/drive')"
      ]
    },
    {
      "cell_type": "code",
      "execution_count": 322,
      "metadata": {
        "id": "GF01IZDbJY_O",
        "scrolled": true
      },
      "outputs": [],
      "source": [
        "# Write your code here to read the data\n",
        "Read_data=pd.read_csv(\"/content/sample_data/foodhub_order.csv\")\n",
        "#Using Approach 2 from Mentor Session"
      ]
    },
    {
      "cell_type": "code",
      "execution_count": 323,
      "metadata": {
        "id": "v32Z7ZZQVYB3",
        "colab": {
          "base_uri": "https://localhost:8080/",
          "height": 278
        },
        "outputId": "cb6dc31e-bb06-48d8-9c65-11dd54a5c6a0"
      },
      "outputs": [
        {
          "output_type": "execute_result",
          "data": {
            "text/plain": [
              "   order_id  customer_id            restaurant_name cuisine_type  \\\n",
              "0   1477147       337525                    Hangawi       Korean   \n",
              "1   1477685       358141  Blue Ribbon Sushi Izakaya     Japanese   \n",
              "2   1477070        66393                Cafe Habana      Mexican   \n",
              "3   1477334       106968  Blue Ribbon Fried Chicken     American   \n",
              "4   1478249        76942           Dirty Bird to Go     American   \n",
              "\n",
              "   cost_of_the_order day_of_the_week     rating  food_preparation_time  \\\n",
              "0              30.75         Weekend  Not given                     25   \n",
              "1              12.08         Weekend  Not given                     25   \n",
              "2              12.23         Weekday          5                     23   \n",
              "3              29.20         Weekend          3                     25   \n",
              "4              11.59         Weekday          4                     25   \n",
              "\n",
              "   delivery_time  \n",
              "0             20  \n",
              "1             23  \n",
              "2             28  \n",
              "3             15  \n",
              "4             24  "
            ],
            "text/html": [
              "\n",
              "  <div id=\"df-399a4e96-a2c7-4c08-8f5b-2bc7be7bda16\" class=\"colab-df-container\">\n",
              "    <div>\n",
              "<style scoped>\n",
              "    .dataframe tbody tr th:only-of-type {\n",
              "        vertical-align: middle;\n",
              "    }\n",
              "\n",
              "    .dataframe tbody tr th {\n",
              "        vertical-align: top;\n",
              "    }\n",
              "\n",
              "    .dataframe thead th {\n",
              "        text-align: right;\n",
              "    }\n",
              "</style>\n",
              "<table border=\"1\" class=\"dataframe\">\n",
              "  <thead>\n",
              "    <tr style=\"text-align: right;\">\n",
              "      <th></th>\n",
              "      <th>order_id</th>\n",
              "      <th>customer_id</th>\n",
              "      <th>restaurant_name</th>\n",
              "      <th>cuisine_type</th>\n",
              "      <th>cost_of_the_order</th>\n",
              "      <th>day_of_the_week</th>\n",
              "      <th>rating</th>\n",
              "      <th>food_preparation_time</th>\n",
              "      <th>delivery_time</th>\n",
              "    </tr>\n",
              "  </thead>\n",
              "  <tbody>\n",
              "    <tr>\n",
              "      <th>0</th>\n",
              "      <td>1477147</td>\n",
              "      <td>337525</td>\n",
              "      <td>Hangawi</td>\n",
              "      <td>Korean</td>\n",
              "      <td>30.75</td>\n",
              "      <td>Weekend</td>\n",
              "      <td>Not given</td>\n",
              "      <td>25</td>\n",
              "      <td>20</td>\n",
              "    </tr>\n",
              "    <tr>\n",
              "      <th>1</th>\n",
              "      <td>1477685</td>\n",
              "      <td>358141</td>\n",
              "      <td>Blue Ribbon Sushi Izakaya</td>\n",
              "      <td>Japanese</td>\n",
              "      <td>12.08</td>\n",
              "      <td>Weekend</td>\n",
              "      <td>Not given</td>\n",
              "      <td>25</td>\n",
              "      <td>23</td>\n",
              "    </tr>\n",
              "    <tr>\n",
              "      <th>2</th>\n",
              "      <td>1477070</td>\n",
              "      <td>66393</td>\n",
              "      <td>Cafe Habana</td>\n",
              "      <td>Mexican</td>\n",
              "      <td>12.23</td>\n",
              "      <td>Weekday</td>\n",
              "      <td>5</td>\n",
              "      <td>23</td>\n",
              "      <td>28</td>\n",
              "    </tr>\n",
              "    <tr>\n",
              "      <th>3</th>\n",
              "      <td>1477334</td>\n",
              "      <td>106968</td>\n",
              "      <td>Blue Ribbon Fried Chicken</td>\n",
              "      <td>American</td>\n",
              "      <td>29.20</td>\n",
              "      <td>Weekend</td>\n",
              "      <td>3</td>\n",
              "      <td>25</td>\n",
              "      <td>15</td>\n",
              "    </tr>\n",
              "    <tr>\n",
              "      <th>4</th>\n",
              "      <td>1478249</td>\n",
              "      <td>76942</td>\n",
              "      <td>Dirty Bird to Go</td>\n",
              "      <td>American</td>\n",
              "      <td>11.59</td>\n",
              "      <td>Weekday</td>\n",
              "      <td>4</td>\n",
              "      <td>25</td>\n",
              "      <td>24</td>\n",
              "    </tr>\n",
              "  </tbody>\n",
              "</table>\n",
              "</div>\n",
              "    <div class=\"colab-df-buttons\">\n",
              "\n",
              "  <div class=\"colab-df-container\">\n",
              "    <button class=\"colab-df-convert\" onclick=\"convertToInteractive('df-399a4e96-a2c7-4c08-8f5b-2bc7be7bda16')\"\n",
              "            title=\"Convert this dataframe to an interactive table.\"\n",
              "            style=\"display:none;\">\n",
              "\n",
              "  <svg xmlns=\"http://www.w3.org/2000/svg\" height=\"24px\" viewBox=\"0 -960 960 960\">\n",
              "    <path d=\"M120-120v-720h720v720H120Zm60-500h600v-160H180v160Zm220 220h160v-160H400v160Zm0 220h160v-160H400v160ZM180-400h160v-160H180v160Zm440 0h160v-160H620v160ZM180-180h160v-160H180v160Zm440 0h160v-160H620v160Z\"/>\n",
              "  </svg>\n",
              "    </button>\n",
              "\n",
              "  <style>\n",
              "    .colab-df-container {\n",
              "      display:flex;\n",
              "      gap: 12px;\n",
              "    }\n",
              "\n",
              "    .colab-df-convert {\n",
              "      background-color: #E8F0FE;\n",
              "      border: none;\n",
              "      border-radius: 50%;\n",
              "      cursor: pointer;\n",
              "      display: none;\n",
              "      fill: #1967D2;\n",
              "      height: 32px;\n",
              "      padding: 0 0 0 0;\n",
              "      width: 32px;\n",
              "    }\n",
              "\n",
              "    .colab-df-convert:hover {\n",
              "      background-color: #E2EBFA;\n",
              "      box-shadow: 0px 1px 2px rgba(60, 64, 67, 0.3), 0px 1px 3px 1px rgba(60, 64, 67, 0.15);\n",
              "      fill: #174EA6;\n",
              "    }\n",
              "\n",
              "    .colab-df-buttons div {\n",
              "      margin-bottom: 4px;\n",
              "    }\n",
              "\n",
              "    [theme=dark] .colab-df-convert {\n",
              "      background-color: #3B4455;\n",
              "      fill: #D2E3FC;\n",
              "    }\n",
              "\n",
              "    [theme=dark] .colab-df-convert:hover {\n",
              "      background-color: #434B5C;\n",
              "      box-shadow: 0px 1px 3px 1px rgba(0, 0, 0, 0.15);\n",
              "      filter: drop-shadow(0px 1px 2px rgba(0, 0, 0, 0.3));\n",
              "      fill: #FFFFFF;\n",
              "    }\n",
              "  </style>\n",
              "\n",
              "    <script>\n",
              "      const buttonEl =\n",
              "        document.querySelector('#df-399a4e96-a2c7-4c08-8f5b-2bc7be7bda16 button.colab-df-convert');\n",
              "      buttonEl.style.display =\n",
              "        google.colab.kernel.accessAllowed ? 'block' : 'none';\n",
              "\n",
              "      async function convertToInteractive(key) {\n",
              "        const element = document.querySelector('#df-399a4e96-a2c7-4c08-8f5b-2bc7be7bda16');\n",
              "        const dataTable =\n",
              "          await google.colab.kernel.invokeFunction('convertToInteractive',\n",
              "                                                    [key], {});\n",
              "        if (!dataTable) return;\n",
              "\n",
              "        const docLinkHtml = 'Like what you see? Visit the ' +\n",
              "          '<a target=\"_blank\" href=https://colab.research.google.com/notebooks/data_table.ipynb>data table notebook</a>'\n",
              "          + ' to learn more about interactive tables.';\n",
              "        element.innerHTML = '';\n",
              "        dataTable['output_type'] = 'display_data';\n",
              "        await google.colab.output.renderOutput(dataTable, element);\n",
              "        const docLink = document.createElement('div');\n",
              "        docLink.innerHTML = docLinkHtml;\n",
              "        element.appendChild(docLink);\n",
              "      }\n",
              "    </script>\n",
              "  </div>\n",
              "\n",
              "\n",
              "<div id=\"df-7d05ee80-4228-48b6-bd04-9d5c481584c2\">\n",
              "  <button class=\"colab-df-quickchart\" onclick=\"quickchart('df-7d05ee80-4228-48b6-bd04-9d5c481584c2')\"\n",
              "            title=\"Suggest charts\"\n",
              "            style=\"display:none;\">\n",
              "\n",
              "<svg xmlns=\"http://www.w3.org/2000/svg\" height=\"24px\"viewBox=\"0 0 24 24\"\n",
              "     width=\"24px\">\n",
              "    <g>\n",
              "        <path d=\"M19 3H5c-1.1 0-2 .9-2 2v14c0 1.1.9 2 2 2h14c1.1 0 2-.9 2-2V5c0-1.1-.9-2-2-2zM9 17H7v-7h2v7zm4 0h-2V7h2v10zm4 0h-2v-4h2v4z\"/>\n",
              "    </g>\n",
              "</svg>\n",
              "  </button>\n",
              "\n",
              "<style>\n",
              "  .colab-df-quickchart {\n",
              "      --bg-color: #E8F0FE;\n",
              "      --fill-color: #1967D2;\n",
              "      --hover-bg-color: #E2EBFA;\n",
              "      --hover-fill-color: #174EA6;\n",
              "      --disabled-fill-color: #AAA;\n",
              "      --disabled-bg-color: #DDD;\n",
              "  }\n",
              "\n",
              "  [theme=dark] .colab-df-quickchart {\n",
              "      --bg-color: #3B4455;\n",
              "      --fill-color: #D2E3FC;\n",
              "      --hover-bg-color: #434B5C;\n",
              "      --hover-fill-color: #FFFFFF;\n",
              "      --disabled-bg-color: #3B4455;\n",
              "      --disabled-fill-color: #666;\n",
              "  }\n",
              "\n",
              "  .colab-df-quickchart {\n",
              "    background-color: var(--bg-color);\n",
              "    border: none;\n",
              "    border-radius: 50%;\n",
              "    cursor: pointer;\n",
              "    display: none;\n",
              "    fill: var(--fill-color);\n",
              "    height: 32px;\n",
              "    padding: 0;\n",
              "    width: 32px;\n",
              "  }\n",
              "\n",
              "  .colab-df-quickchart:hover {\n",
              "    background-color: var(--hover-bg-color);\n",
              "    box-shadow: 0 1px 2px rgba(60, 64, 67, 0.3), 0 1px 3px 1px rgba(60, 64, 67, 0.15);\n",
              "    fill: var(--button-hover-fill-color);\n",
              "  }\n",
              "\n",
              "  .colab-df-quickchart-complete:disabled,\n",
              "  .colab-df-quickchart-complete:disabled:hover {\n",
              "    background-color: var(--disabled-bg-color);\n",
              "    fill: var(--disabled-fill-color);\n",
              "    box-shadow: none;\n",
              "  }\n",
              "\n",
              "  .colab-df-spinner {\n",
              "    border: 2px solid var(--fill-color);\n",
              "    border-color: transparent;\n",
              "    border-bottom-color: var(--fill-color);\n",
              "    animation:\n",
              "      spin 1s steps(1) infinite;\n",
              "  }\n",
              "\n",
              "  @keyframes spin {\n",
              "    0% {\n",
              "      border-color: transparent;\n",
              "      border-bottom-color: var(--fill-color);\n",
              "      border-left-color: var(--fill-color);\n",
              "    }\n",
              "    20% {\n",
              "      border-color: transparent;\n",
              "      border-left-color: var(--fill-color);\n",
              "      border-top-color: var(--fill-color);\n",
              "    }\n",
              "    30% {\n",
              "      border-color: transparent;\n",
              "      border-left-color: var(--fill-color);\n",
              "      border-top-color: var(--fill-color);\n",
              "      border-right-color: var(--fill-color);\n",
              "    }\n",
              "    40% {\n",
              "      border-color: transparent;\n",
              "      border-right-color: var(--fill-color);\n",
              "      border-top-color: var(--fill-color);\n",
              "    }\n",
              "    60% {\n",
              "      border-color: transparent;\n",
              "      border-right-color: var(--fill-color);\n",
              "    }\n",
              "    80% {\n",
              "      border-color: transparent;\n",
              "      border-right-color: var(--fill-color);\n",
              "      border-bottom-color: var(--fill-color);\n",
              "    }\n",
              "    90% {\n",
              "      border-color: transparent;\n",
              "      border-bottom-color: var(--fill-color);\n",
              "    }\n",
              "  }\n",
              "</style>\n",
              "\n",
              "  <script>\n",
              "    async function quickchart(key) {\n",
              "      const quickchartButtonEl =\n",
              "        document.querySelector('#' + key + ' button');\n",
              "      quickchartButtonEl.disabled = true;  // To prevent multiple clicks.\n",
              "      quickchartButtonEl.classList.add('colab-df-spinner');\n",
              "      try {\n",
              "        const charts = await google.colab.kernel.invokeFunction(\n",
              "            'suggestCharts', [key], {});\n",
              "      } catch (error) {\n",
              "        console.error('Error during call to suggestCharts:', error);\n",
              "      }\n",
              "      quickchartButtonEl.classList.remove('colab-df-spinner');\n",
              "      quickchartButtonEl.classList.add('colab-df-quickchart-complete');\n",
              "    }\n",
              "    (() => {\n",
              "      let quickchartButtonEl =\n",
              "        document.querySelector('#df-7d05ee80-4228-48b6-bd04-9d5c481584c2 button');\n",
              "      quickchartButtonEl.style.display =\n",
              "        google.colab.kernel.accessAllowed ? 'block' : 'none';\n",
              "    })();\n",
              "  </script>\n",
              "</div>\n",
              "\n",
              "    </div>\n",
              "  </div>\n"
            ],
            "application/vnd.google.colaboratory.intrinsic+json": {
              "type": "dataframe",
              "variable_name": "Read_data",
              "summary": "{\n  \"name\": \"Read_data\",\n  \"rows\": 1898,\n  \"fields\": [\n    {\n      \"column\": \"order_id\",\n      \"properties\": {\n        \"dtype\": \"number\",\n        \"std\": 548,\n        \"min\": 1476547,\n        \"max\": 1478444,\n        \"num_unique_values\": 1898,\n        \"samples\": [\n          1477722,\n          1478319,\n          1477650\n        ],\n        \"semantic_type\": \"\",\n        \"description\": \"\"\n      }\n    },\n    {\n      \"column\": \"customer_id\",\n      \"properties\": {\n        \"dtype\": \"number\",\n        \"std\": 113698,\n        \"min\": 1311,\n        \"max\": 405334,\n        \"num_unique_values\": 1200,\n        \"samples\": [\n          351329,\n          49987,\n          345899\n        ],\n        \"semantic_type\": \"\",\n        \"description\": \"\"\n      }\n    },\n    {\n      \"column\": \"restaurant_name\",\n      \"properties\": {\n        \"dtype\": \"category\",\n        \"num_unique_values\": 178,\n        \"samples\": [\n          \"Tortaria\",\n          \"Osteria Morini\",\n          \"Philippe Chow\"\n        ],\n        \"semantic_type\": \"\",\n        \"description\": \"\"\n      }\n    },\n    {\n      \"column\": \"cuisine_type\",\n      \"properties\": {\n        \"dtype\": \"category\",\n        \"num_unique_values\": 14,\n        \"samples\": [\n          \"Thai\",\n          \"French\",\n          \"Korean\"\n        ],\n        \"semantic_type\": \"\",\n        \"description\": \"\"\n      }\n    },\n    {\n      \"column\": \"cost_of_the_order\",\n      \"properties\": {\n        \"dtype\": \"number\",\n        \"std\": 7.48381211004957,\n        \"min\": 4.47,\n        \"max\": 35.41,\n        \"num_unique_values\": 312,\n        \"samples\": [\n          21.29,\n          7.18,\n          13.34\n        ],\n        \"semantic_type\": \"\",\n        \"description\": \"\"\n      }\n    },\n    {\n      \"column\": \"day_of_the_week\",\n      \"properties\": {\n        \"dtype\": \"category\",\n        \"num_unique_values\": 2,\n        \"samples\": [\n          \"Weekday\",\n          \"Weekend\"\n        ],\n        \"semantic_type\": \"\",\n        \"description\": \"\"\n      }\n    },\n    {\n      \"column\": \"rating\",\n      \"properties\": {\n        \"dtype\": \"category\",\n        \"num_unique_values\": 4,\n        \"samples\": [\n          \"5\",\n          \"4\"\n        ],\n        \"semantic_type\": \"\",\n        \"description\": \"\"\n      }\n    },\n    {\n      \"column\": \"food_preparation_time\",\n      \"properties\": {\n        \"dtype\": \"number\",\n        \"std\": 4,\n        \"min\": 20,\n        \"max\": 35,\n        \"num_unique_values\": 16,\n        \"samples\": [\n          25,\n          23\n        ],\n        \"semantic_type\": \"\",\n        \"description\": \"\"\n      }\n    },\n    {\n      \"column\": \"delivery_time\",\n      \"properties\": {\n        \"dtype\": \"number\",\n        \"std\": 4,\n        \"min\": 15,\n        \"max\": 33,\n        \"num_unique_values\": 19,\n        \"samples\": [\n          20,\n          21\n        ],\n        \"semantic_type\": \"\",\n        \"description\": \"\"\n      }\n    }\n  ]\n}"
            }
          },
          "metadata": {},
          "execution_count": 323
        }
      ],
      "source": [
        "# Write your code here to view the first 5 rows\n",
        "Read_data.head(5)"
      ]
    },
    {
      "cell_type": "markdown",
      "metadata": {
        "id": "c3kenV4vJY_Q"
      },
      "source": [
        "### **Question 1:** How many rows and columns are present in the data? [0.5 mark]"
      ]
    },
    {
      "cell_type": "code",
      "execution_count": 324,
      "metadata": {
        "id": "Yvz5i-PhJY_Q",
        "colab": {
          "base_uri": "https://localhost:8080/"
        },
        "outputId": "33dcb75b-dc84-4891-b873-49e1907544cc"
      },
      "outputs": [
        {
          "output_type": "stream",
          "name": "stdout",
          "text": [
            "There are  1898 rows and 9 columns\n"
          ]
        }
      ],
      "source": [
        "# Write your code here\n",
        "Read_data.shape\n",
        "# checking the shape of the data\n",
        "print(\"There are \",Read_data.shape[0],\"rows and\",Read_data.shape[1],\"columns\")"
      ]
    },
    {
      "cell_type": "markdown",
      "metadata": {
        "id": "UsTNy3unJY_R"
      },
      "source": [
        "#### Observations:The Dataset has 1898 number of rows with 9 columns\n"
      ]
    },
    {
      "cell_type": "markdown",
      "metadata": {
        "id": "jRXakVrUJY_R"
      },
      "source": [
        "### **Question 2:** What are the datatypes of the different columns in the dataset? (The info() function can be used) [0.5 mark]"
      ]
    },
    {
      "cell_type": "code",
      "execution_count": 325,
      "metadata": {
        "id": "Kp70Z0BNJY_R",
        "colab": {
          "base_uri": "https://localhost:8080/"
        },
        "outputId": "def847c0-bee6-4dc8-95f7-a1bb369b7749"
      },
      "outputs": [
        {
          "output_type": "stream",
          "name": "stdout",
          "text": [
            "<class 'pandas.core.frame.DataFrame'>\n",
            "RangeIndex: 1898 entries, 0 to 1897\n",
            "Data columns (total 9 columns):\n",
            " #   Column                 Non-Null Count  Dtype  \n",
            "---  ------                 --------------  -----  \n",
            " 0   order_id               1898 non-null   int64  \n",
            " 1   customer_id            1898 non-null   int64  \n",
            " 2   restaurant_name        1898 non-null   object \n",
            " 3   cuisine_type           1898 non-null   object \n",
            " 4   cost_of_the_order      1898 non-null   float64\n",
            " 5   day_of_the_week        1898 non-null   object \n",
            " 6   rating                 1898 non-null   object \n",
            " 7   food_preparation_time  1898 non-null   int64  \n",
            " 8   delivery_time          1898 non-null   int64  \n",
            "dtypes: float64(1), int64(4), object(4)\n",
            "memory usage: 133.6+ KB\n"
          ]
        }
      ],
      "source": [
        "# Write your code here\n",
        "Read_data.info()"
      ]
    },
    {
      "cell_type": "markdown",
      "metadata": {
        "id": "WJes5GP2JY_S"
      },
      "source": [
        "#### Observations:\n",
        "There is only 1 Float Dataype column\n",
        "  4 object datatype column\n",
        "  4 numerical datatypes\n",
        "All the columns have 1898 observations.\n",
        "\n",
        "*There are 3 Categorical variables -\n",
        "     \n",
        "\n",
        "1.   Cuisine Name\n",
        "2.   rating\n",
        "3. Day of week\n",
        "\n",
        "* 1 Object Text data : Restaurant  Name\n",
        "\n",
        "* 4 Numeric Data -\n",
        "1.   Order id\n",
        "2.   Customer id\n",
        "3.   Food Preparation Time\n",
        "4.   Delivery Time  \n",
        "\n",
        "\n",
        "\n",
        "\n",
        "\n"
      ]
    },
    {
      "cell_type": "markdown",
      "metadata": {
        "id": "pF_92MN6JY_S"
      },
      "source": [
        "### **Question 3:** Are there any missing values in the data? If yes, treat them using an appropriate method. [1 mark]"
      ]
    },
    {
      "cell_type": "code",
      "execution_count": 326,
      "metadata": {
        "id": "Zth-RR1PJY_S",
        "colab": {
          "base_uri": "https://localhost:8080/"
        },
        "outputId": "a0b43889-fbe6-49d6-c165-448785b99b46"
      },
      "outputs": [
        {
          "output_type": "stream",
          "name": "stdout",
          "text": [
            "order_id                 0.0\n",
            "customer_id              0.0\n",
            "restaurant_name          0.0\n",
            "cuisine_type             0.0\n",
            "cost_of_the_order        0.0\n",
            "day_of_the_week          0.0\n",
            "rating                   0.0\n",
            "food_preparation_time    0.0\n",
            "delivery_time            0.0\n",
            "dtype: float64\n",
            "Checking data column: order_id [1477147 1477685 1477070 ... 1477819 1477513 1478056]\n",
            "Checking data column: customer_id [337525 358141  66393 ...  97838 292602 397537]\n",
            "Checking data column: restaurant_name ['Hangawi' 'Blue Ribbon Sushi Izakaya' 'Cafe Habana'\n",
            " 'Blue Ribbon Fried Chicken' 'Dirty Bird to Go' 'Tamarind TriBeCa'\n",
            " 'The Meatball Shop' 'Barbounia' 'Anjappar Chettinad' 'Bukhara Grill'\n",
            " 'Big Wong Restaurant \\x8c_¤¾Ñ¼' 'Empanada Mama (closed)' 'Pylos'\n",
            " \"Lucky's Famous Burgers\" 'Shake Shack' 'Sushi of Gari' 'RedFarm Hudson'\n",
            " 'Blue Ribbon Sushi' 'Five Guys Burgers and Fries' 'Tortaria'\n",
            " 'Cafe Mogador' 'Otto Enoteca Pizzeria' 'Vezzo Thin Crust Pizza'\n",
            " 'Sushi of Gari 46' 'The Kati Roll Company' 'Klong' '5 Napkin Burger'\n",
            " 'TAO' 'Parm' 'Sushi Samba' 'Haru Gramercy Park'\n",
            " 'Chipotle Mexican Grill $1.99 Delivery' 'RedFarm Broadway' 'Cafeteria'\n",
            " 'DuMont Burger' \"Sarabeth's East\" 'Hill Country Fried Chicken' 'Bistango'\n",
            " \"Jack's Wife Freda\" \"Mamoun's Falafel\" 'Prosperity Dumpling'\n",
            " 'Blue Ribbon Sushi Bar & Grill' 'Westville Hudson' 'Blue Ribbon Brooklyn'\n",
            " 'Nobu Next Door' 'Osteria Morini' 'Haandi' 'Benihana' 'Han Dynasty'\n",
            " 'Chote Nawab' 'Mission Cantina' \"Xi'an Famous Foods\" 'Rubirosa'\n",
            " \"Joe's Shanghai \\x8e_À\\x8eü£¾÷´\" 'Bareburger' 'The Odeon' 'Pongsri Thai'\n",
            " 'Yama Japanese Restaurant' 'Momoya' 'Balthazar Boulangerie' 'CafÌ© China'\n",
            " 'Boqueria' 'Song Thai Restaurant & Bar' 'Five Leaves'\n",
            " 'Pinto Nouveau Thai Bistro' \"Amy Ruth's\" 'Pepe Giallo' 'indikitch'\n",
            " 'Yama 49' 'Piccolo Angolo' 'Pepe Rosso To Go' \"L'Express\" 'Amma'\n",
            " 'Delicatessen' \"S'MAC\" \"Vanessa's Dumplings\" 'Bhatti Indian Grill'\n",
            " 'Taro Sushi' 'Donburi-ya' 'Hatsuhana' 'Samurai Mama' 'Waverly Diner'\n",
            " 'Tarallucci e Vino Restaurant' \"P.J. Clarke's\" 'Lantern Thai Kitchen'\n",
            " 'ilili Restaurant' 'The Smile' \"Vanessa's Dumpling House\" \"Bubby's \"\n",
            " 'Woorijip' 'Dirty Bird To Go (archived)' 'Haveli Indian Restaurant'\n",
            " 'Dos Caminos' 'da Umberto' 'Sushi of Gari Tribeca' 'Burger Joint'\n",
            " 'Room Service' \"Sarabeth's Restaurant\" 'Xe May Sandwich Shop' 'Hibino'\n",
            " 'Mira Sushi' 'Melt Shop' 'J. G. Melon' 'Hummus Place' 'Saravanaa Bhavan'\n",
            " 'Friend of a Farmer' 'The Loop' 'Balade' 'Posto' 'Terakawa Ramen'\n",
            " 'Kambi Ramen House' 'Wo Hop Restaurant' 'Spice Thai'\n",
            " \"Dickson's Farmstand Meats\" 'UVA Wine Bar & Restaurant'\n",
            " 'Serafina Fabulous Pizza' 'Gaia Italian Cafe'\n",
            " 'Chola Eclectic Indian Cuisine' 'Hot Kitchen' 'Junoon'\n",
            " 'Ravagh Persian Grill' 'Rohm Thai' 'Dig Inn Seasonal Market' 'Olea'\n",
            " 'Cho Dang Gol' 'El Parador Cafe' 'Socarrat Paella Bar'\n",
            " \"Don's Bogam BBQ & Wine Bar\" 'Alidoro' \"Tony's Di Napoli\"\n",
            " 'Cipriani Le Specialita' 'Sushi Choshi' 'Kanoyama' 'V-Nam Cafe'\n",
            " 'Zero Otto Nove' 'Dos Caminos Soho' 'Go! Go! Curry!' 'La Follia'\n",
            " 'Izakaya Ten' '12 Chairs' 'Philippe Chow' 'The MasalaWala' 'brgr'\n",
            " \"Carmine's\" 'Asuka Sushi' 'Aurora' \"Sarabeth's\" 'Crema Restaurante'\n",
            " \"Big Daddy's\" 'Moonstruck on Second' 'Cafe de La Esquina' 'Olive Garden'\n",
            " '67 Burger' 'Tres Carnes' \"Schnipper's Quality Kitchen\" 'Nha Trang One'\n",
            " 'Market Table' 'Galli Restaurant' 'Hampton Chutney Co.'\n",
            " 'Byblos Restaurant' 'Grand Sichuan International' 'Le Grainne Cafe'\n",
            " 'Il Bambino' 'Kori Restaurant and Bar' 'DespaÌ±a' 'Lamarca Pasta'\n",
            " 'Lucky Strike' \"Paul & Jimmy's\" 'Hunan Manor' \"Coppola's East\" 'Emporio'\n",
            " 'Wa Jeal' 'Le Zie 2000 Trattoria' 'Rye House' \"Hiroko's Place\"\n",
            " 'Frank Restaurant' \"Sarabeth's West\" \"'wichcraft\"]\n",
            "Checking data column: cuisine_type  ['Korean' 'Japanese' 'Mexican' 'American' 'Indian' 'Italian'\n",
            " 'Mediterranean' 'Chinese' 'Middle Eastern' 'Thai' 'Southern' 'French'\n",
            " 'Spanish' 'Vietnamese']\n",
            "Checking data column: cost_of_the_order [30.75 12.08 12.23 29.2  11.59 25.22  6.07  5.97 16.44  7.18  5.92  8.1\n",
            " 24.3  11.3  12.13 16.2  16.98 33.03 14.12 24.2  15.91 29.1   8.92 15.86\n",
            " 21.88 14.02  9.17 12.18 31.33 29.05  8.39  9.12 15.47 16.01 29.83 19.89\n",
            " 19.35 33.22 24.25 22.75  6.74 13.78 16.93 29.39 20.23 14.6   6.79 31.38\n",
            "  8.34 12.46 14.55 32.93  8.   13.05  5.67 29.29 16.15 13.34  9.75  6.69\n",
            "  4.75 12.56 21.2  19.31 16.3  25.27 14.79  5.72  9.22 16.39 17.03 21.83\n",
            " 31.29 11.83 22.26 20.47 15.81 22.36  8.68 12.9  29.15  7.86 16.1  12.95\n",
            " 11.69 12.32 14.99 10.38  9.65  5.77  9.56 29.34 11.16 14.07 22.8  15.23\n",
            " 16.49  8.83 16.25 16.83 10.24 19.4  13.97 13.    8.49 20.18 19.59 16.11\n",
            " 12.27 13.39  9.02 15.33 31.43 29.35 15.28  9.6   8.88 15.96  8.05  8.54\n",
            "  7.23 19.69  9.27  8.97 11.64 13.15  9.41  9.07 14.46  6.7  19.45 12.22\n",
            " 29.25 16.05 17.08 32.98 13.73 14.31 14.7  15.52  6.11 21.93 15.76  9.46\n",
            " 12.61 22.85 16.06 21.39  8.25 14.94 14.26 21.34 14.16  5.68 15.57 14.45\n",
            "  8.15  8.78  8.59 15.62  5.87  6.01  9.85  6.84  5.82  7.96  9.7   4.85\n",
            "  6.06 12.66  6.02  7.08 12.37 14.84 22.31 13.1  14.75 24.35 25.17  9.26\n",
            "  9.55 13.92  4.66 13.87  7.61 15.72  8.35 14.21 14.65  4.71  8.63 13.68\n",
            " 11.93 35.41  6.64 10.72  8.73 16.78  5.58 13.63 29.54 29.49 15.04 18.24\n",
            "  4.47  8.98 15.71  8.93  9.51  9.61  7.38 13.19 10.82  6.26  8.2   7.33\n",
            " 12.71  5.63 17.07  5.48 22.12 15.77  6.45 11.79 11.98 20.32 28.57 22.07\n",
            " 21.29 14.41 29.88  4.8  10.14  8.44 16.54  7.71 29.78 31.86 19.98 12.42\n",
            " 12.52 15.38  8.3  13.24  8.01 29.68  9.32 12.51  5.34  6.4  19.3  17.85\n",
            " 16.88 13.77  5.73 11.84 15.67 13.58 33.18  6.55 20.52 28.62 15.18 29.3\n",
            " 12.81 29.44 11.11 14.5  22.02 11.88 33.32 18.43 12.47 20.13 20.57 15.09\n",
            " 19.74 18.04 31.67  5.05  7.03 14.8  12.17  7.28 15.13  7.81 16.74  9.31\n",
            " 21.25 31.87 19.02 34.19  5.53 22.46 29.73 10.43 19.5   4.9  15.37  7.67\n",
            "  7.91 13.53 33.37 19.6  13.48 20.71 20.61  7.66 10.86  7.95 20.86 29.59]\n",
            "Checking data column: day_of_the_week  ['Weekend' 'Weekday']\n",
            "Checking data column: rating ['Not given' '5' '3' '4']\n",
            "Checking data column: food_preparation_time [25 23 20 28 33 21 29 34 24 30 35 32 31 27 22 26]\n",
            "Checking data column: delivery_time [20 23 28 15 24 21 30 26 22 17 25 16 29 27 18 31 32 19 33]\n"
          ]
        }
      ],
      "source": [
        "# Write your code here\n",
        "\n",
        "Null_perc = round(100*(Read_data.isnull().sum()/len(Read_data.index)),2)\n",
        "print(Null_perc)\n",
        "print(\"Checking data column: order_id\",Read_data['order_id'].unique())\n",
        "\n",
        "print(\"Checking data column: customer_id\",Read_data['customer_id'].unique())\n",
        "\n",
        "print(\"Checking data column: restaurant_name\",Read_data['restaurant_name'].unique())\n",
        "\n",
        "print(\"Checking data column: cuisine_type \",Read_data['cuisine_type'].unique())\n",
        "\n",
        "print(\"Checking data column: cost_of_the_order\",Read_data['cost_of_the_order'].unique())\n",
        "\n",
        "print(\"Checking data column: day_of_the_week \",Read_data['day_of_the_week'].unique())\n",
        "\n",
        "print(\"Checking data column: rating\",Read_data['rating'].unique())\n",
        "\n",
        "print(\"Checking data column: food_preparation_time\",Read_data['food_preparation_time'].unique())\n",
        "\n",
        "print(\"Checking data column: delivery_time\",Read_data['delivery_time'].unique())\n",
        "\n",
        "\n"
      ]
    },
    {
      "cell_type": "markdown",
      "metadata": {
        "id": "jDHT3vD1JY_S"
      },
      "source": [
        "#### Observations: Although isnull function shows that all records are Not null. Rating is a Data attribute which is  actually missing data as customers chose not give give a response and therefore has missing values.\n",
        "\n",
        "Imputation by Mode - which means Replacing missing values with the most frequently occurring value\n",
        "in the column - primarily used for categorical variables\n",
        "\n",
        "But this needs to be consulted with Business to understand if they approve this approach.\n"
      ]
    },
    {
      "cell_type": "markdown",
      "metadata": {
        "id": "MnJo7MWrJY_S"
      },
      "source": [
        "### **Question 4:** Check the statistical summary of the data. What is the minimum, average, and maximum time it takes for food to be prepared once an order is placed? [2 marks]"
      ]
    },
    {
      "cell_type": "code",
      "execution_count": 327,
      "metadata": {
        "id": "WprQBgOSJY_T",
        "colab": {
          "base_uri": "https://localhost:8080/"
        },
        "outputId": "4c3b57a7-835a-449c-dda8-7177d43c8522"
      },
      "outputs": [
        {
          "output_type": "stream",
          "name": "stdout",
          "text": [
            "                        count          mean            std         min  \\\n",
            "order_id               1898.0  1.477496e+06     548.049724  1476547.00   \n",
            "customer_id            1898.0  1.711685e+05  113698.139743     1311.00   \n",
            "cost_of_the_order      1898.0  1.649885e+01       7.483812        4.47   \n",
            "food_preparation_time  1898.0  2.737197e+01       4.632481       20.00   \n",
            "delivery_time          1898.0  2.416175e+01       4.972637       15.00   \n",
            "\n",
            "                              25%         50%           75%         max  \n",
            "order_id               1477021.25  1477495.50  1.477970e+06  1478444.00  \n",
            "customer_id              77787.75   128600.00  2.705250e+05   405334.00  \n",
            "cost_of_the_order           12.08       14.14  2.229750e+01       35.41  \n",
            "food_preparation_time       23.00       27.00  3.100000e+01       35.00  \n",
            "delivery_time               20.00       25.00  2.800000e+01       33.00  \n",
            "###############Extracting required statistical summary############\n",
            "Min: 20.00\n",
            "Mean: 27.37\n",
            "Max: 35.00\n"
          ]
        }
      ],
      "source": [
        "# Write your code here\n",
        "stats =Read_data.describe().T\n",
        "print(stats)\n",
        "print(\"###############Extracting required statistical summary############\" )\n",
        "min_value = np.min(Read_data['food_preparation_time'])\n",
        "print(f\"Min: {min_value:.2f}\")\n",
        "mean_value = np.mean(Read_data['food_preparation_time'])\n",
        "print(f\"Mean: {mean_value:.2f}\")\n",
        "max_value = np.max(Read_data['food_preparation_time'])\n",
        "print(f\"Max: {max_value:.2f}\")\n"
      ]
    },
    {
      "cell_type": "markdown",
      "metadata": {
        "id": "9YbSOR5wJY_T"
      },
      "source": [
        "#### Observations:\n",
        "\n",
        "\n",
        "The minimum, average, and maximum time it takes for food to be prepared once an order is placed are the following\n",
        "#Minimum : 20 minutes\n",
        "#Average : 27.37 minutes\n",
        "#Maximum: 35 minutes\n",
        "\n"
      ]
    },
    {
      "cell_type": "markdown",
      "metadata": {
        "id": "cw3l58z_JY_T"
      },
      "source": [
        "### **Question 5:** How many orders are not rated? [1 mark]"
      ]
    },
    {
      "cell_type": "code",
      "execution_count": 328,
      "metadata": {
        "id": "hEzDUL9wgksi",
        "colab": {
          "base_uri": "https://localhost:8080/"
        },
        "outputId": "ef9e9644-0ccf-4c51-f836-10c59a37e8f6"
      },
      "outputs": [
        {
          "output_type": "stream",
          "name": "stdout",
          "text": [
            "Checking data column: rating ['Not given' '5' '3' '4']\n",
            "The number of orders that were not rated by customers: 736\n"
          ]
        }
      ],
      "source": [
        "# Write the code here\n",
        "print(\"Checking data column: rating\",Read_data['rating'].unique())\n",
        "\n",
        "count = Read_data['rating'].value_counts()['Not given']\n",
        "\n",
        "print(\"The number of orders that were not rated by customers:\",count)\n"
      ]
    },
    {
      "cell_type": "code",
      "source": [
        "Rating_perc = count/len(Read_data['rating'].index)*100\n",
        "print(\"Percentage of missing data:\", Rating_perc)"
      ],
      "metadata": {
        "colab": {
          "base_uri": "https://localhost:8080/"
        },
        "id": "N7Iie-a_StUy",
        "outputId": "c343e595-ca9c-4731-fe24-04a6a5a4098c"
      },
      "execution_count": 329,
      "outputs": [
        {
          "output_type": "stream",
          "name": "stdout",
          "text": [
            "Percentage of missing data: 38.77766069546891\n"
          ]
        }
      ]
    },
    {
      "cell_type": "markdown",
      "metadata": {
        "id": "5E0O_oviJY_T"
      },
      "source": [
        "#### Observations:\n",
        "736 orders did not get any Rating\n",
        "\n",
        "-'Not given' can be treated as a missing values. 38% of data is missing\n",
        "\n",
        "-We need to treat missing values.\n"
      ]
    },
    {
      "cell_type": "markdown",
      "metadata": {
        "id": "7msIfXE-JY_T"
      },
      "source": [
        "### Exploratory Data Analysis (EDA)"
      ]
    },
    {
      "cell_type": "markdown",
      "metadata": {
        "id": "-2xfI28YJY_T"
      },
      "source": [
        "### Univariate Analysis"
      ]
    },
    {
      "cell_type": "markdown",
      "metadata": {
        "id": "0RHZnugBJY_U"
      },
      "source": [
        "### **Question 6:** Explore all the variables and provide observations on their distributions. (Generally, histograms, boxplots, countplots, etc. are used for univariate exploration.) [9 marks]"
      ]
    },
    {
      "cell_type": "markdown",
      "source": [
        "#Order ID"
      ],
      "metadata": {
        "id": "YXtF-zqkfsD9"
      }
    },
    {
      "cell_type": "code",
      "source": [
        "# check unique order ID\n",
        "Read_data['order_id'].nunique()"
      ],
      "metadata": {
        "colab": {
          "base_uri": "https://localhost:8080/"
        },
        "id": "M4WJA_s2fvgH",
        "outputId": "7ccb3c26-b512-4bb6-9ee0-0a2ab04ae6c2"
      },
      "execution_count": 330,
      "outputs": [
        {
          "output_type": "execute_result",
          "data": {
            "text/plain": [
              "1898"
            ]
          },
          "metadata": {},
          "execution_count": 330
        }
      ]
    },
    {
      "cell_type": "markdown",
      "source": [
        "#Customer ID"
      ],
      "metadata": {
        "id": "qiPjfWrthBG3"
      }
    },
    {
      "cell_type": "code",
      "source": [
        "# check unique customer ID\n",
        "Read_data['customer_id'].nunique() ## Complete the code to find out number of unique Customer ID"
      ],
      "metadata": {
        "colab": {
          "base_uri": "https://localhost:8080/"
        },
        "id": "c7mNmnwbhEbN",
        "outputId": "798784c2-cf29-44ad-90d1-d54c17d6f9aa"
      },
      "execution_count": 331,
      "outputs": [
        {
          "output_type": "execute_result",
          "data": {
            "text/plain": [
              "1200"
            ]
          },
          "metadata": {},
          "execution_count": 331
        }
      ]
    },
    {
      "cell_type": "markdown",
      "source": [
        "#Restaurant Name"
      ],
      "metadata": {
        "id": "15XXzG7whm-Z"
      }
    },
    {
      "cell_type": "code",
      "source": [
        "# check unique Restaurant Name\n",
        "Read_data['restaurant_name'].nunique()"
      ],
      "metadata": {
        "colab": {
          "base_uri": "https://localhost:8080/"
        },
        "id": "6T6n-17shhbL",
        "outputId": "6c5ef023-16e0-439e-9157-578956369dbc"
      },
      "execution_count": 332,
      "outputs": [
        {
          "output_type": "execute_result",
          "data": {
            "text/plain": [
              "178"
            ]
          },
          "metadata": {},
          "execution_count": 332
        }
      ]
    },
    {
      "cell_type": "markdown",
      "source": [
        "#Cuisine type"
      ],
      "metadata": {
        "id": "5LHGwQHWiKC6"
      }
    },
    {
      "cell_type": "code",
      "source": [
        "# Check unique cuisine type\n",
        "Read_data['cuisine_type'].nunique()"
      ],
      "metadata": {
        "colab": {
          "base_uri": "https://localhost:8080/"
        },
        "id": "DI4KquMCi0gZ",
        "outputId": "fd42ddc5-e682-4fcd-f535-7afb82e00233"
      },
      "execution_count": 333,
      "outputs": [
        {
          "output_type": "execute_result",
          "data": {
            "text/plain": [
              "14"
            ]
          },
          "metadata": {},
          "execution_count": 333
        }
      ]
    },
    {
      "cell_type": "code",
      "source": [
        "\n",
        "## Create a countplot for cuisine type.\n",
        "plt.figure(figsize = (15,5))\n",
        "sns.countplot(data = Read_data, x = 'cuisine_type')"
      ],
      "metadata": {
        "colab": {
          "base_uri": "https://localhost:8080/",
          "height": 344
        },
        "id": "6nq0904FiJQe",
        "outputId": "38cb73ec-fd5f-4723-b516-c7036d0453f1"
      },
      "execution_count": 334,
      "outputs": [
        {
          "output_type": "execute_result",
          "data": {
            "text/plain": [
              "<Axes: xlabel='cuisine_type', ylabel='count'>"
            ]
          },
          "metadata": {},
          "execution_count": 334
        },
        {
          "output_type": "display_data",
          "data": {
            "text/plain": [
              "<Figure size 1500x500 with 1 Axes>"
            ],
            "image/png": "[encoded data removed]"
          },
          "metadata": {}
        }
      ]
    },
    {
      "cell_type": "markdown",
      "source": [],
      "metadata": {
        "id": "B5wyjLmcj3RO"
      }
    },
    {
      "cell_type": "markdown",
      "source": [
        "##Exploring  Specific categorical variables :Day of the week , Rating, Cost of Order, Food Peparation time and Delivery Time"
      ],
      "metadata": {
        "id": "8KGyv537SJVK"
      }
    },
    {
      "cell_type": "markdown",
      "source": [],
      "metadata": {
        "id": "elYi3GDzk2Av"
      }
    },
    {
      "cell_type": "markdown",
      "source": [
        "#Day of the week"
      ],
      "metadata": {
        "id": "bAu8po4uj0oN"
      }
    },
    {
      "cell_type": "code",
      "source": [
        "# # Check the unique values\n",
        "Read_data['day_of_the_week'].nunique()"
      ],
      "metadata": {
        "colab": {
          "base_uri": "https://localhost:8080/"
        },
        "id": "9OLI8Xipj4NU",
        "outputId": "474a0d5d-39c6-4399-9345-9b846f797bac"
      },
      "execution_count": 335,
      "outputs": [
        {
          "output_type": "execute_result",
          "data": {
            "text/plain": [
              "2"
            ]
          },
          "metadata": {},
          "execution_count": 335
        }
      ]
    },
    {
      "cell_type": "code",
      "source": [
        "sns.countplot(data = Read_data, x = 'day_of_the_week')"
      ],
      "metadata": {
        "colab": {
          "base_uri": "https://localhost:8080/",
          "height": 467
        },
        "id": "grzjqCUzkGOO",
        "outputId": "013ec0eb-55bd-4fa1-cc0d-c693f5b96890"
      },
      "execution_count": 336,
      "outputs": [
        {
          "output_type": "execute_result",
          "data": {
            "text/plain": [
              "<Axes: xlabel='day_of_the_week', ylabel='count'>"
            ]
          },
          "metadata": {},
          "execution_count": 336
        },
        {
          "output_type": "display_data",
          "data": {
            "text/plain": [
              "<Figure size 640x480 with 1 Axes>"
            ],
            "image/png": "[encoded data removed]"
          },
          "metadata": {}
        }
      ]
    },
    {
      "cell_type": "markdown",
      "source": [
        "#Rating"
      ],
      "metadata": {
        "id": "5vMc1vUyk8d2"
      }
    },
    {
      "cell_type": "code",
      "source": [
        "# Check the unique values\n",
        "Read_data['rating'].nunique()"
      ],
      "metadata": {
        "colab": {
          "base_uri": "https://localhost:8080/"
        },
        "id": "TYVQDDSwlKW6",
        "outputId": "18935acb-743e-4bdd-cbe9-c86032bfc436"
      },
      "execution_count": 337,
      "outputs": [
        {
          "output_type": "execute_result",
          "data": {
            "text/plain": [
              "4"
            ]
          },
          "metadata": {},
          "execution_count": 337
        }
      ]
    },
    {
      "cell_type": "code",
      "source": [
        "sns.countplot(data = df, x = 'rating')"
      ],
      "metadata": {
        "colab": {
          "base_uri": "https://localhost:8080/",
          "height": 466
        },
        "id": "hMYZu1pLlUS3",
        "outputId": "acb7ad6d-e72e-41ef-bd65-f6ab999dfc3a"
      },
      "execution_count": 338,
      "outputs": [
        {
          "output_type": "execute_result",
          "data": {
            "text/plain": [
              "<Axes: xlabel='rating', ylabel='count'>"
            ]
          },
          "metadata": {},
          "execution_count": 338
        },
        {
          "output_type": "display_data",
          "data": {
            "text/plain": [
              "<Figure size 640x480 with 1 Axes>"
            ],
            "image/png": "[encoded data removed]"
          },
          "metadata": {}
        }
      ]
    },
    {
      "cell_type": "markdown",
      "source": [],
      "metadata": {
        "id": "IEhONKIzk_kN"
      }
    },
    {
      "cell_type": "markdown",
      "source": [
        "#COST OF THE ORDER"
      ],
      "metadata": {
        "id": "q1VHI4xq3w2A"
      }
    },
    {
      "cell_type": "code",
      "source": [
        "sns.histplot(data=Read_data, x= 'cost_of_the_order')"
      ],
      "metadata": {
        "colab": {
          "base_uri": "https://localhost:8080/",
          "height": 467
        },
        "id": "KDqrUDvX0auV",
        "outputId": "2782555d-22b2-4481-ec82-98b21c2b9696"
      },
      "execution_count": 339,
      "outputs": [
        {
          "output_type": "execute_result",
          "data": {
            "text/plain": [
              "<Axes: xlabel='cost_of_the_order', ylabel='Count'>"
            ]
          },
          "metadata": {},
          "execution_count": 339
        },
        {
          "output_type": "display_data",
          "data": {
            "text/plain": [
              "<Figure size 640x480 with 1 Axes>"
            ],
            "image/png": "[encoded data removed]"
          },
          "metadata": {}
        }
      ]
    },
    {
      "cell_type": "code",
      "execution_count": 340,
      "metadata": {
        "id": "rU5ZqISjJY_U",
        "colab": {
          "base_uri": "https://localhost:8080/",
          "height": 467
        },
        "outputId": "a50e7037-68bf-444e-dd25-9c61f0c55bf7"
      },
      "outputs": [
        {
          "output_type": "execute_result",
          "data": {
            "text/plain": [
              "<Axes: xlabel='cost_of_the_order', ylabel='Count'>"
            ]
          },
          "metadata": {},
          "execution_count": 340
        },
        {
          "output_type": "display_data",
          "data": {
            "text/plain": [
              "<Figure size 640x480 with 1 Axes>"
            ],
            "image/png": "[encoded data removed]"
          },
          "metadata": {}
        }
      ],
      "source": [
        "#Histogram\n",
        "sns.histplot(data=Read_data, x='cost_of_the_order',bins=5, kde = True)\n"
      ]
    },
    {
      "cell_type": "markdown",
      "source": [
        "#Observations:\n",
        "A histogram is a univariate plot which helps us understand the distribution of a continuous numerical variable.\n",
        "It breaks the range of the continuous variables into a intervals of equal length and then counts the number of observations in each interval.\n",
        "We will use the histplot() function of seaborn to create histograms.\n",
        "\n",
        "For this project ,\n",
        "\n",
        "1) we can see that orders that cost between 10 dollars  to 15 dollars have the highest number of order\n",
        " (count is more for orders that cost between 10 to 18 USD)\n",
        " The tallest clusters of bars, i.e., peaks, in a histogram represent the modes of the data.\n",
        "A histogram skewed to the right has a large number of occurrences on the left side of the plot and a few on the right side of the plot.\n",
        "Similarly, a histogram skewed to the left has a large number of occurrences on the right side of the plot and few on the left side of the plot.\n",
        "\n",
        " 2) From the KDE plot(Meant for Categorical data), we can say that it is right skewed and has majority of the data points concentrated more on the left side\n"
      ],
      "metadata": {
        "id": "d6fiOhBKX2Rq"
      }
    },
    {
      "cell_type": "code",
      "source": [
        "sns.boxplot(data=Read_data, x='cost_of_the_order')"
      ],
      "metadata": {
        "colab": {
          "base_uri": "https://localhost:8080/",
          "height": 467
        },
        "id": "XsdXIsKo3A__",
        "outputId": "8ea5f841-fd60-4d3a-a9dc-730a4713f8f4"
      },
      "execution_count": 341,
      "outputs": [
        {
          "output_type": "execute_result",
          "data": {
            "text/plain": [
              "<Axes: xlabel='cost_of_the_order'>"
            ]
          },
          "metadata": {},
          "execution_count": 341
        },
        {
          "output_type": "display_data",
          "data": {
            "text/plain": [
              "<Figure size 640x480 with 1 Axes>"
            ],
            "image/png": "[encoded data removed]"
          },
          "metadata": {}
        }
      ]
    },
    {
      "cell_type": "markdown",
      "source": [
        "#Observations:\n",
        "\n",
        "Cost of  the order  Data has no outliers and is Right Skewed .\n",
        "\n",
        "Median< Mean\n",
        "\n",
        "When the median is closer to the left of the box and the whisker is shorter on the left end of the box, we say that the distribution is positively skewed (skewed right)"
      ],
      "metadata": {
        "id": "j8eMB1Hwlhb-"
      }
    },
    {
      "cell_type": "markdown",
      "source": [
        "#FOOD PREPARATION TIME"
      ],
      "metadata": {
        "id": "mXY2JNE63pVH"
      }
    },
    {
      "cell_type": "code",
      "source": [
        "#histplot - food_preparation_time\n",
        "sns.histplot(data=Read_data, x='food_preparation_time')"
      ],
      "metadata": {
        "colab": {
          "base_uri": "https://localhost:8080/",
          "height": 467
        },
        "id": "RsTGXei2S_W8",
        "outputId": "3090a3a1-d271-4be4-d7d6-652382e385b0"
      },
      "execution_count": 342,
      "outputs": [
        {
          "output_type": "execute_result",
          "data": {
            "text/plain": [
              "<Axes: xlabel='food_preparation_time', ylabel='Count'>"
            ]
          },
          "metadata": {},
          "execution_count": 342
        },
        {
          "output_type": "display_data",
          "data": {
            "text/plain": [
              "<Figure size 640x480 with 1 Axes>"
            ],
            "image/png": "[encoded data removed]"
          },
          "metadata": {}
        }
      ]
    },
    {
      "cell_type": "code",
      "source": [
        "#Histogram\n",
        "sns.histplot(data=Read_data, x='food_preparation_time',bins=5, kde = True)"
      ],
      "metadata": {
        "colab": {
          "base_uri": "https://localhost:8080/",
          "height": 467
        },
        "id": "el84pNP-Ssgq",
        "outputId": "808b0487-fac6-474a-fa35-c48cb7304bdb"
      },
      "execution_count": 343,
      "outputs": [
        {
          "output_type": "execute_result",
          "data": {
            "text/plain": [
              "<Axes: xlabel='food_preparation_time', ylabel='Count'>"
            ]
          },
          "metadata": {},
          "execution_count": 343
        },
        {
          "output_type": "display_data",
          "data": {
            "text/plain": [
              "<Figure size 640x480 with 1 Axes>"
            ],
            "image/png": "[encoded data removed]"
          },
          "metadata": {}
        }
      ]
    },
    {
      "cell_type": "markdown",
      "source": [
        "#Observations:\n",
        "\n",
        "1) we can see that longest time to prepare food took 32 to 34 minutes  The tallest clusters of bars, i.e., peaks, in a histogram represent the modes of the data.\n",
        "2) From the KDE plot(Meant for Categorical data), A histogram skewness is almost flat and equal  which means the data is even . Median is same as Mode\n"
      ],
      "metadata": {
        "id": "yh2LI3DhTZqV"
      }
    },
    {
      "cell_type": "code",
      "source": [
        "#Boxplot - food_preparation_time\n",
        "sns.boxplot(data=Read_data, x='food_preparation_time')\n",
        "\n",
        "\n"
      ],
      "metadata": {
        "colab": {
          "base_uri": "https://localhost:8080/",
          "height": 467
        },
        "outputId": "b97bf05f-f7be-444f-c1fe-14471f4c0c71",
        "id": "4hDZ6LBsTAAq"
      },
      "execution_count": 344,
      "outputs": [
        {
          "output_type": "execute_result",
          "data": {
            "text/plain": [
              "<Axes: xlabel='food_preparation_time'>"
            ]
          },
          "metadata": {},
          "execution_count": 344
        },
        {
          "output_type": "display_data",
          "data": {
            "text/plain": [
              "<Figure size 640x480 with 1 Axes>"
            ],
            "image/png": "[encoded data removed]"
          },
          "metadata": {}
        }
      ]
    },
    {
      "cell_type": "markdown",
      "source": [
        "#Observations:\n",
        "Food preparation time Data has no outliers and has no skewness. Median = Mean"
      ],
      "metadata": {
        "id": "EezyXWyklEdf"
      }
    },
    {
      "cell_type": "markdown",
      "source": [
        "#DELIVERY TIME"
      ],
      "metadata": {
        "id": "HF5wnpQo39F0"
      }
    },
    {
      "cell_type": "code",
      "source": [
        "sns.histplot(data=Read_data, x='delivery_time')"
      ],
      "metadata": {
        "colab": {
          "base_uri": "https://localhost:8080/",
          "height": 467
        },
        "id": "7YnWpkEVTTyL",
        "outputId": "dd9fcf7d-f1e3-4835-8fab-617f192d3a5d"
      },
      "execution_count": 345,
      "outputs": [
        {
          "output_type": "execute_result",
          "data": {
            "text/plain": [
              "<Axes: xlabel='delivery_time', ylabel='Count'>"
            ]
          },
          "metadata": {},
          "execution_count": 345
        },
        {
          "output_type": "display_data",
          "data": {
            "text/plain": [
              "<Figure size 640x480 with 1 Axes>"
            ],
            "image/png": "[encoded data removed]"
          },
          "metadata": {}
        }
      ]
    },
    {
      "cell_type": "code",
      "source": [
        "sns.histplot(data=Read_data, x='delivery_time',bins=5, kde = True)"
      ],
      "metadata": {
        "colab": {
          "base_uri": "https://localhost:8080/",
          "height": 470
        },
        "id": "o0GSLeoLTGt6",
        "outputId": "3484cd61-0e08-424d-c7aa-d5d539b2d3fa"
      },
      "execution_count": 346,
      "outputs": [
        {
          "output_type": "execute_result",
          "data": {
            "text/plain": [
              "<Axes: xlabel='delivery_time', ylabel='Count'>"
            ]
          },
          "metadata": {},
          "execution_count": 346
        },
        {
          "output_type": "display_data",
          "data": {
            "text/plain": [
              "<Figure size 640x480 with 1 Axes>"
            ],
            "image/png": "[encoded data removed]"
          },
          "metadata": {}
        }
      ]
    },
    {
      "cell_type": "markdown",
      "source": [],
      "metadata": {
        "id": "HRYAr61QUJjK"
      }
    },
    {
      "cell_type": "code",
      "source": [
        "sns.boxplot(data=Read_data, x='delivery_time')"
      ],
      "metadata": {
        "colab": {
          "base_uri": "https://localhost:8080/",
          "height": 467
        },
        "id": "7woQyS2OjFck",
        "outputId": "a8e3a9c3-ee67-4bdb-84ba-79801fa2bebc"
      },
      "execution_count": 347,
      "outputs": [
        {
          "output_type": "execute_result",
          "data": {
            "text/plain": [
              "<Axes: xlabel='delivery_time'>"
            ]
          },
          "metadata": {},
          "execution_count": 347
        },
        {
          "output_type": "display_data",
          "data": {
            "text/plain": [
              "<Figure size 640x480 with 1 Axes>"
            ],
            "image/png": "[encoded data removed]"
          },
          "metadata": {}
        }
      ]
    },
    {
      "cell_type": "markdown",
      "source": [
        "#Observations:\n",
        "\n",
        "Delivery time Data has no outliers and is left Skewed .\n",
        "Median > Mean\n",
        " When the median is closer to the right of the box and the whisker is shorter on the right end of the box, we say that the distribution is negatively skewed (skewed left)"
      ],
      "metadata": {
        "id": "K3--T6x-lPQR"
      }
    },
    {
      "cell_type": "code",
      "source": [
        "sns.boxplot(data=Read_data, x='food_preparation_time', y='delivery_time') ;"
      ],
      "metadata": {
        "colab": {
          "base_uri": "https://localhost:8080/",
          "height": 450
        },
        "id": "pnC_UlmUowaI",
        "outputId": "047400ea-d67a-406b-d2f8-61736bef5ade"
      },
      "execution_count": 348,
      "outputs": [
        {
          "output_type": "display_data",
          "data": {
            "text/plain": [
              "<Figure size 640x480 with 1 Axes>"
            ],
            "image/png": "[encoded data removed]"
          },
          "metadata": {}
        }
      ]
    },
    {
      "cell_type": "markdown",
      "source": [
        "#Categorical Data Analysis: cuisine_type,rating and day_of_the_week\n",
        "\n",
        "looking for uniques\n"
      ],
      "metadata": {
        "id": "MsRDAVEweZcd"
      }
    },
    {
      "cell_type": "code",
      "source": [
        "Read_data['cuisine_type'].unique()"
      ],
      "metadata": {
        "colab": {
          "base_uri": "https://localhost:8080/"
        },
        "id": "fGs2xjr0dwYy",
        "outputId": "0deef901-40db-4871-d13e-60ea4d85a57f"
      },
      "execution_count": 349,
      "outputs": [
        {
          "output_type": "execute_result",
          "data": {
            "text/plain": [
              "array(['Korean', 'Japanese', 'Mexican', 'American', 'Indian', 'Italian',\n",
              "       'Mediterranean', 'Chinese', 'Middle Eastern', 'Thai', 'Southern',\n",
              "       'French', 'Spanish', 'Vietnamese'], dtype=object)"
            ]
          },
          "metadata": {},
          "execution_count": 349
        }
      ]
    },
    {
      "cell_type": "code",
      "source": [
        "sns.countplot(data=Read_data,x='cuisine_type')"
      ],
      "metadata": {
        "colab": {
          "base_uri": "https://localhost:8080/",
          "height": 467
        },
        "id": "Yre0hiCugU_z",
        "outputId": "d442916c-f3d1-4799-bed7-edf17cddae38"
      },
      "execution_count": 350,
      "outputs": [
        {
          "output_type": "execute_result",
          "data": {
            "text/plain": [
              "<Axes: xlabel='cuisine_type', ylabel='count'>"
            ]
          },
          "metadata": {},
          "execution_count": 350
        },
        {
          "output_type": "display_data",
          "data": {
            "text/plain": [
              "<Figure size 640x480 with 1 Axes>"
            ],
            "image/png": "[encoded data removed]"
          },
          "metadata": {}
        }
      ]
    },
    {
      "cell_type": "code",
      "source": [
        "Read_data['day_of_the_week'].unique()"
      ],
      "metadata": {
        "colab": {
          "base_uri": "https://localhost:8080/"
        },
        "id": "lfgo-gCLdwVQ",
        "outputId": "65c2fbbc-7668-4e1f-de5f-2bf616dd6f51"
      },
      "execution_count": 351,
      "outputs": [
        {
          "output_type": "execute_result",
          "data": {
            "text/plain": [
              "array(['Weekend', 'Weekday'], dtype=object)"
            ]
          },
          "metadata": {},
          "execution_count": 351
        }
      ]
    },
    {
      "cell_type": "code",
      "source": [
        "sns.countplot(data=Read_data,x='day_of_the_week')"
      ],
      "metadata": {
        "colab": {
          "base_uri": "https://localhost:8080/",
          "height": 467
        },
        "id": "p5HczwX3ghKs",
        "outputId": "152c50c5-3268-4f2e-9d78-433bf03718fd"
      },
      "execution_count": 352,
      "outputs": [
        {
          "output_type": "execute_result",
          "data": {
            "text/plain": [
              "<Axes: xlabel='day_of_the_week', ylabel='count'>"
            ]
          },
          "metadata": {},
          "execution_count": 352
        },
        {
          "output_type": "display_data",
          "data": {
            "text/plain": [
              "<Figure size 640x480 with 1 Axes>"
            ],
            "image/png": "[encoded data removed]"
          },
          "metadata": {}
        }
      ]
    },
    {
      "cell_type": "code",
      "source": [
        "Read_data['rating'].unique()"
      ],
      "metadata": {
        "colab": {
          "base_uri": "https://localhost:8080/"
        },
        "id": "azk7dmvrdwRk",
        "outputId": "28dfa07b-0b4a-4b18-c88b-ee94441a1dff"
      },
      "execution_count": 353,
      "outputs": [
        {
          "output_type": "execute_result",
          "data": {
            "text/plain": [
              "array(['Not given', '5', '3', '4'], dtype=object)"
            ]
          },
          "metadata": {},
          "execution_count": 353
        }
      ]
    },
    {
      "cell_type": "code",
      "source": [
        "sns.countplot(data=Read_data,x='rating')"
      ],
      "metadata": {
        "colab": {
          "base_uri": "https://localhost:8080/",
          "height": 466
        },
        "id": "nJ6-4EogdwNg",
        "outputId": "d03703fa-dad4-44e7-a999-064dc8f40939"
      },
      "execution_count": 354,
      "outputs": [
        {
          "output_type": "execute_result",
          "data": {
            "text/plain": [
              "<Axes: xlabel='rating', ylabel='count'>"
            ]
          },
          "metadata": {},
          "execution_count": 354
        },
        {
          "output_type": "display_data",
          "data": {
            "text/plain": [
              "<Figure size 640x480 with 1 Axes>"
            ],
            "image/png": "[encoded data removed]"
          },
          "metadata": {}
        }
      ]
    },
    {
      "cell_type": "markdown",
      "source": [
        "# Treatment evaluation  for categorical missing values\n",
        "\n",
        "- **Evaluation Method** Replace with value based on percentages\n",
        "\n",
        "- Need to find the perc of missing data\n"
      ],
      "metadata": {
        "id": "SmnJdYdSRZDt"
      }
    },
    {
      "cell_type": "code",
      "source": [
        "Rating_perc = count/len(Read_data['rating'].index)*100\n",
        "print(\"Percentage of missing data:\", Rating_perc)"
      ],
      "metadata": {
        "id": "SocxvJ0-dv-f",
        "colab": {
          "base_uri": "https://localhost:8080/"
        },
        "outputId": "718897a1-7282-498b-ad4a-8eec1bef0707"
      },
      "execution_count": 355,
      "outputs": [
        {
          "output_type": "stream",
          "name": "stdout",
          "text": [
            "Percentage of missing data: 38.77766069546891\n"
          ]
        }
      ]
    },
    {
      "cell_type": "markdown",
      "source": [
        "Observation:\n",
        "\n",
        "If Percentage greater than 25% , need to treat categorical missing values . Will treat with Mode imputation"
      ],
      "metadata": {
        "id": "Y3ZPTZXqAwIg"
      }
    },
    {
      "cell_type": "markdown",
      "source": [
        "# Treatment for categorical missing values\n",
        "\n",
        "- **Treatment Method** Imputation by Mode - which means Replacing missing values with the most frequently occurring value\n",
        "in the column - primarily used for categorical variables\n",
        "\n",
        "- Need to find the mode of Rating data"
      ],
      "metadata": {
        "id": "e4-emstkO9rF"
      }
    },
    {
      "cell_type": "code",
      "source": [
        "Rating_with_valid_data = Read_data[Read_data['rating'] != 'Not given']\n",
        "\n",
        "Mode_Rating= Rating_with_valid_data['rating'].mode()\n",
        "print(Mode_Rating)\n",
        "\n"
      ],
      "metadata": {
        "colab": {
          "base_uri": "https://localhost:8080/"
        },
        "id": "Vvus4RwyO7pd",
        "outputId": "ac5281dc-9fd3-4149-a0c1-a947dbda3bd0"
      },
      "execution_count": 356,
      "outputs": [
        {
          "output_type": "stream",
          "name": "stdout",
          "text": [
            "0    5\n",
            "Name: rating, dtype: object\n"
          ]
        }
      ]
    },
    {
      "cell_type": "markdown",
      "source": [
        "#Observations:\n",
        "* * Although we have bad data , later we may or may choose to treat the data depending on the question .\n",
        "* * This is just an attempt to treat bad data when needed based on the questions asked by business.\n",
        "\n",
        "* * If we were to treat Bad data , we will do the imputation method in the following manner"
      ],
      "metadata": {
        "id": "lRrKsiEly15n"
      }
    },
    {
      "cell_type": "markdown",
      "source": [
        "#REPLACE BAD DATA WITH MODE"
      ],
      "metadata": {
        "id": "Ulvfq6U7CJcT"
      }
    },
    {
      "cell_type": "code",
      "source": [
        "data_replace = Read_data.copy()\n",
        "data_replace.loc[data_replace['rating'] == 'Not given', 'rating'] = '5'\n",
        "data_replace\n"
      ],
      "metadata": {
        "colab": {
          "base_uri": "https://localhost:8080/",
          "height": 513
        },
        "id": "pmwvISwnAROZ",
        "outputId": "0be7f17c-75df-4012-d424-d8e3949f0c39"
      },
      "execution_count": 357,
      "outputs": [
        {
          "output_type": "execute_result",
          "data": {
            "text/plain": [
              "      order_id  customer_id                        restaurant_name  \\\n",
              "0      1477147       337525                                Hangawi   \n",
              "1      1477685       358141              Blue Ribbon Sushi Izakaya   \n",
              "2      1477070        66393                            Cafe Habana   \n",
              "3      1477334       106968              Blue Ribbon Fried Chicken   \n",
              "4      1478249        76942                       Dirty Bird to Go   \n",
              "...        ...          ...                                    ...   \n",
              "1893   1476701       292602  Chipotle Mexican Grill $1.99 Delivery   \n",
              "1894   1477421       397537                              The Smile   \n",
              "1895   1477819        35309                      Blue Ribbon Sushi   \n",
              "1896   1477513        64151                      Jack's Wife Freda   \n",
              "1897   1478056       120353                      Blue Ribbon Sushi   \n",
              "\n",
              "       cuisine_type  cost_of_the_order day_of_the_week rating  \\\n",
              "0            Korean              30.75         Weekend      5   \n",
              "1          Japanese              12.08         Weekend      5   \n",
              "2           Mexican              12.23         Weekday      5   \n",
              "3          American              29.20         Weekend      3   \n",
              "4          American              11.59         Weekday      4   \n",
              "...             ...                ...             ...    ...   \n",
              "1893        Mexican              22.31         Weekend      5   \n",
              "1894       American              12.18         Weekend      5   \n",
              "1895       Japanese              25.22         Weekday      5   \n",
              "1896  Mediterranean              12.18         Weekday      5   \n",
              "1897       Japanese              19.45         Weekend      5   \n",
              "\n",
              "      food_preparation_time  delivery_time  \n",
              "0                        25             20  \n",
              "1                        25             23  \n",
              "2                        23             28  \n",
              "3                        25             15  \n",
              "4                        25             24  \n",
              "...                     ...            ...  \n",
              "1893                     31             17  \n",
              "1894                     31             19  \n",
              "1895                     31             24  \n",
              "1896                     23             31  \n",
              "1897                     28             24  \n",
              "\n",
              "[1898 rows x 9 columns]"
            ],
            "text/html": [
              "\n",
              "  <div id=\"df-3d27f215-e4cf-415a-9a25-ef728ed42786\" class=\"colab-df-container\">\n",
              "    <div>\n",
              "<style scoped>\n",
              "    .dataframe tbody tr th:only-of-type {\n",
              "        vertical-align: middle;\n",
              "    }\n",
              "\n",
              "    .dataframe tbody tr th {\n",
              "        vertical-align: top;\n",
              "    }\n",
              "\n",
              "    .dataframe thead th {\n",
              "        text-align: right;\n",
              "    }\n",
              "</style>\n",
              "<table border=\"1\" class=\"dataframe\">\n",
              "  <thead>\n",
              "    <tr style=\"text-align: right;\">\n",
              "      <th></th>\n",
              "      <th>order_id</th>\n",
              "      <th>customer_id</th>\n",
              "      <th>restaurant_name</th>\n",
              "      <th>cuisine_type</th>\n",
              "      <th>cost_of_the_order</th>\n",
              "      <th>day_of_the_week</th>\n",
              "      <th>rating</th>\n",
              "      <th>food_preparation_time</th>\n",
              "      <th>delivery_time</th>\n",
              "    </tr>\n",
              "  </thead>\n",
              "  <tbody>\n",
              "    <tr>\n",
              "      <th>0</th>\n",
              "      <td>1477147</td>\n",
              "      <td>337525</td>\n",
              "      <td>Hangawi</td>\n",
              "      <td>Korean</td>\n",
              "      <td>30.75</td>\n",
              "      <td>Weekend</td>\n",
              "      <td>5</td>\n",
              "      <td>25</td>\n",
              "      <td>20</td>\n",
              "    </tr>\n",
              "    <tr>\n",
              "      <th>1</th>\n",
              "      <td>1477685</td>\n",
              "      <td>358141</td>\n",
              "      <td>Blue Ribbon Sushi Izakaya</td>\n",
              "      <td>Japanese</td>\n",
              "      <td>12.08</td>\n",
              "      <td>Weekend</td>\n",
              "      <td>5</td>\n",
              "      <td>25</td>\n",
              "      <td>23</td>\n",
              "    </tr>\n",
              "    <tr>\n",
              "      <th>2</th>\n",
              "      <td>1477070</td>\n",
              "      <td>66393</td>\n",
              "      <td>Cafe Habana</td>\n",
              "      <td>Mexican</td>\n",
              "      <td>12.23</td>\n",
              "      <td>Weekday</td>\n",
              "      <td>5</td>\n",
              "      <td>23</td>\n",
              "      <td>28</td>\n",
              "    </tr>\n",
              "    <tr>\n",
              "      <th>3</th>\n",
              "      <td>1477334</td>\n",
              "      <td>106968</td>\n",
              "      <td>Blue Ribbon Fried Chicken</td>\n",
              "      <td>American</td>\n",
              "      <td>29.20</td>\n",
              "      <td>Weekend</td>\n",
              "      <td>3</td>\n",
              "      <td>25</td>\n",
              "      <td>15</td>\n",
              "    </tr>\n",
              "    <tr>\n",
              "      <th>4</th>\n",
              "      <td>1478249</td>\n",
              "      <td>76942</td>\n",
              "      <td>Dirty Bird to Go</td>\n",
              "      <td>American</td>\n",
              "      <td>11.59</td>\n",
              "      <td>Weekday</td>\n",
              "      <td>4</td>\n",
              "      <td>25</td>\n",
              "      <td>24</td>\n",
              "    </tr>\n",
              "    <tr>\n",
              "      <th>...</th>\n",
              "      <td>...</td>\n",
              "      <td>...</td>\n",
              "      <td>...</td>\n",
              "      <td>...</td>\n",
              "      <td>...</td>\n",
              "      <td>...</td>\n",
              "      <td>...</td>\n",
              "      <td>...</td>\n",
              "      <td>...</td>\n",
              "    </tr>\n",
              "    <tr>\n",
              "      <th>1893</th>\n",
              "      <td>1476701</td>\n",
              "      <td>292602</td>\n",
              "      <td>Chipotle Mexican Grill $1.99 Delivery</td>\n",
              "      <td>Mexican</td>\n",
              "      <td>22.31</td>\n",
              "      <td>Weekend</td>\n",
              "      <td>5</td>\n",
              "      <td>31</td>\n",
              "      <td>17</td>\n",
              "    </tr>\n",
              "    <tr>\n",
              "      <th>1894</th>\n",
              "      <td>1477421</td>\n",
              "      <td>397537</td>\n",
              "      <td>The Smile</td>\n",
              "      <td>American</td>\n",
              "      <td>12.18</td>\n",
              "      <td>Weekend</td>\n",
              "      <td>5</td>\n",
              "      <td>31</td>\n",
              "      <td>19</td>\n",
              "    </tr>\n",
              "    <tr>\n",
              "      <th>1895</th>\n",
              "      <td>1477819</td>\n",
              "      <td>35309</td>\n",
              "      <td>Blue Ribbon Sushi</td>\n",
              "      <td>Japanese</td>\n",
              "      <td>25.22</td>\n",
              "      <td>Weekday</td>\n",
              "      <td>5</td>\n",
              "      <td>31</td>\n",
              "      <td>24</td>\n",
              "    </tr>\n",
              "    <tr>\n",
              "      <th>1896</th>\n",
              "      <td>1477513</td>\n",
              "      <td>64151</td>\n",
              "      <td>Jack's Wife Freda</td>\n",
              "      <td>Mediterranean</td>\n",
              "      <td>12.18</td>\n",
              "      <td>Weekday</td>\n",
              "      <td>5</td>\n",
              "      <td>23</td>\n",
              "      <td>31</td>\n",
              "    </tr>\n",
              "    <tr>\n",
              "      <th>1897</th>\n",
              "      <td>1478056</td>\n",
              "      <td>120353</td>\n",
              "      <td>Blue Ribbon Sushi</td>\n",
              "      <td>Japanese</td>\n",
              "      <td>19.45</td>\n",
              "      <td>Weekend</td>\n",
              "      <td>5</td>\n",
              "      <td>28</td>\n",
              "      <td>24</td>\n",
              "    </tr>\n",
              "  </tbody>\n",
              "</table>\n",
              "<p>1898 rows × 9 columns</p>\n",
              "</div>\n",
              "    <div class=\"colab-df-buttons\">\n",
              "\n",
              "  <div class=\"colab-df-container\">\n",
              "    <button class=\"colab-df-convert\" onclick=\"convertToInteractive('df-3d27f215-e4cf-415a-9a25-ef728ed42786')\"\n",
              "            title=\"Convert this dataframe to an interactive table.\"\n",
              "            style=\"display:none;\">\n",
              "\n",
              "  <svg xmlns=\"http://www.w3.org/2000/svg\" height=\"24px\" viewBox=\"0 -960 960 960\">\n",
              "    <path d=\"M120-120v-720h720v720H120Zm60-500h600v-160H180v160Zm220 220h160v-160H400v160Zm0 220h160v-160H400v160ZM180-400h160v-160H180v160Zm440 0h160v-160H620v160ZM180-180h160v-160H180v160Zm440 0h160v-160H620v160Z\"/>\n",
              "  </svg>\n",
              "    </button>\n",
              "\n",
              "  <style>\n",
              "    .colab-df-container {\n",
              "      display:flex;\n",
              "      gap: 12px;\n",
              "    }\n",
              "\n",
              "    .colab-df-convert {\n",
              "      background-color: #E8F0FE;\n",
              "      border: none;\n",
              "      border-radius: 50%;\n",
              "      cursor: pointer;\n",
              "      display: none;\n",
              "      fill: #1967D2;\n",
              "      height: 32px;\n",
              "      padding: 0 0 0 0;\n",
              "      width: 32px;\n",
              "    }\n",
              "\n",
              "    .colab-df-convert:hover {\n",
              "      background-color: #E2EBFA;\n",
              "      box-shadow: 0px 1px 2px rgba(60, 64, 67, 0.3), 0px 1px 3px 1px rgba(60, 64, 67, 0.15);\n",
              "      fill: #174EA6;\n",
              "    }\n",
              "\n",
              "    .colab-df-buttons div {\n",
              "      margin-bottom: 4px;\n",
              "    }\n",
              "\n",
              "    [theme=dark] .colab-df-convert {\n",
              "      background-color: #3B4455;\n",
              "      fill: #D2E3FC;\n",
              "    }\n",
              "\n",
              "    [theme=dark] .colab-df-convert:hover {\n",
              "      background-color: #434B5C;\n",
              "      box-shadow: 0px 1px 3px 1px rgba(0, 0, 0, 0.15);\n",
              "      filter: drop-shadow(0px 1px 2px rgba(0, 0, 0, 0.3));\n",
              "      fill: #FFFFFF;\n",
              "    }\n",
              "  </style>\n",
              "\n",
              "    <script>\n",
              "      const buttonEl =\n",
              "        document.querySelector('#df-3d27f215-e4cf-415a-9a25-ef728ed42786 button.colab-df-convert');\n",
              "      buttonEl.style.display =\n",
              "        google.colab.kernel.accessAllowed ? 'block' : 'none';\n",
              "\n",
              "      async function convertToInteractive(key) {\n",
              "        const element = document.querySelector('#df-3d27f215-e4cf-415a-9a25-ef728ed42786');\n",
              "        const dataTable =\n",
              "          await google.colab.kernel.invokeFunction('convertToInteractive',\n",
              "                                                    [key], {});\n",
              "        if (!dataTable) return;\n",
              "\n",
              "        const docLinkHtml = 'Like what you see? Visit the ' +\n",
              "          '<a target=\"_blank\" href=https://colab.research.google.com/notebooks/data_table.ipynb>data table notebook</a>'\n",
              "          + ' to learn more about interactive tables.';\n",
              "        element.innerHTML = '';\n",
              "        dataTable['output_type'] = 'display_data';\n",
              "        await google.colab.output.renderOutput(dataTable, element);\n",
              "        const docLink = document.createElement('div');\n",
              "        docLink.innerHTML = docLinkHtml;\n",
              "        element.appendChild(docLink);\n",
              "      }\n",
              "    </script>\n",
              "  </div>\n",
              "\n",
              "\n",
              "<div id=\"df-f665dcec-7129-4770-b086-2b7a54d46927\">\n",
              "  <button class=\"colab-df-quickchart\" onclick=\"quickchart('df-f665dcec-7129-4770-b086-2b7a54d46927')\"\n",
              "            title=\"Suggest charts\"\n",
              "            style=\"display:none;\">\n",
              "\n",
              "<svg xmlns=\"http://www.w3.org/2000/svg\" height=\"24px\"viewBox=\"0 0 24 24\"\n",
              "     width=\"24px\">\n",
              "    <g>\n",
              "        <path d=\"M19 3H5c-1.1 0-2 .9-2 2v14c0 1.1.9 2 2 2h14c1.1 0 2-.9 2-2V5c0-1.1-.9-2-2-2zM9 17H7v-7h2v7zm4 0h-2V7h2v10zm4 0h-2v-4h2v4z\"/>\n",
              "    </g>\n",
              "</svg>\n",
              "  </button>\n",
              "\n",
              "<style>\n",
              "  .colab-df-quickchart {\n",
              "      --bg-color: #E8F0FE;\n",
              "      --fill-color: #1967D2;\n",
              "      --hover-bg-color: #E2EBFA;\n",
              "      --hover-fill-color: #174EA6;\n",
              "      --disabled-fill-color: #AAA;\n",
              "      --disabled-bg-color: #DDD;\n",
              "  }\n",
              "\n",
              "  [theme=dark] .colab-df-quickchart {\n",
              "      --bg-color: #3B4455;\n",
              "      --fill-color: #D2E3FC;\n",
              "      --hover-bg-color: #434B5C;\n",
              "      --hover-fill-color: #FFFFFF;\n",
              "      --disabled-bg-color: #3B4455;\n",
              "      --disabled-fill-color: #666;\n",
              "  }\n",
              "\n",
              "  .colab-df-quickchart {\n",
              "    background-color: var(--bg-color);\n",
              "    border: none;\n",
              "    border-radius: 50%;\n",
              "    cursor: pointer;\n",
              "    display: none;\n",
              "    fill: var(--fill-color);\n",
              "    height: 32px;\n",
              "    padding: 0;\n",
              "    width: 32px;\n",
              "  }\n",
              "\n",
              "  .colab-df-quickchart:hover {\n",
              "    background-color: var(--hover-bg-color);\n",
              "    box-shadow: 0 1px 2px rgba(60, 64, 67, 0.3), 0 1px 3px 1px rgba(60, 64, 67, 0.15);\n",
              "    fill: var(--button-hover-fill-color);\n",
              "  }\n",
              "\n",
              "  .colab-df-quickchart-complete:disabled,\n",
              "  .colab-df-quickchart-complete:disabled:hover {\n",
              "    background-color: var(--disabled-bg-color);\n",
              "    fill: var(--disabled-fill-color);\n",
              "    box-shadow: none;\n",
              "  }\n",
              "\n",
              "  .colab-df-spinner {\n",
              "    border: 2px solid var(--fill-color);\n",
              "    border-color: transparent;\n",
              "    border-bottom-color: var(--fill-color);\n",
              "    animation:\n",
              "      spin 1s steps(1) infinite;\n",
              "  }\n",
              "\n",
              "  @keyframes spin {\n",
              "    0% {\n",
              "      border-color: transparent;\n",
              "      border-bottom-color: var(--fill-color);\n",
              "      border-left-color: var(--fill-color);\n",
              "    }\n",
              "    20% {\n",
              "      border-color: transparent;\n",
              "      border-left-color: var(--fill-color);\n",
              "      border-top-color: var(--fill-color);\n",
              "    }\n",
              "    30% {\n",
              "      border-color: transparent;\n",
              "      border-left-color: var(--fill-color);\n",
              "      border-top-color: var(--fill-color);\n",
              "      border-right-color: var(--fill-color);\n",
              "    }\n",
              "    40% {\n",
              "      border-color: transparent;\n",
              "      border-right-color: var(--fill-color);\n",
              "      border-top-color: var(--fill-color);\n",
              "    }\n",
              "    60% {\n",
              "      border-color: transparent;\n",
              "      border-right-color: var(--fill-color);\n",
              "    }\n",
              "    80% {\n",
              "      border-color: transparent;\n",
              "      border-right-color: var(--fill-color);\n",
              "      border-bottom-color: var(--fill-color);\n",
              "    }\n",
              "    90% {\n",
              "      border-color: transparent;\n",
              "      border-bottom-color: var(--fill-color);\n",
              "    }\n",
              "  }\n",
              "</style>\n",
              "\n",
              "  <script>\n",
              "    async function quickchart(key) {\n",
              "      const quickchartButtonEl =\n",
              "        document.querySelector('#' + key + ' button');\n",
              "      quickchartButtonEl.disabled = true;  // To prevent multiple clicks.\n",
              "      quickchartButtonEl.classList.add('colab-df-spinner');\n",
              "      try {\n",
              "        const charts = await google.colab.kernel.invokeFunction(\n",
              "            'suggestCharts', [key], {});\n",
              "      } catch (error) {\n",
              "        console.error('Error during call to suggestCharts:', error);\n",
              "      }\n",
              "      quickchartButtonEl.classList.remove('colab-df-spinner');\n",
              "      quickchartButtonEl.classList.add('colab-df-quickchart-complete');\n",
              "    }\n",
              "    (() => {\n",
              "      let quickchartButtonEl =\n",
              "        document.querySelector('#df-f665dcec-7129-4770-b086-2b7a54d46927 button');\n",
              "      quickchartButtonEl.style.display =\n",
              "        google.colab.kernel.accessAllowed ? 'block' : 'none';\n",
              "    })();\n",
              "  </script>\n",
              "</div>\n",
              "\n",
              "  <div id=\"id_78f8d4ea-b3ff-4d54-b7f7-3e669a390a8f\">\n",
              "    <style>\n",
              "      .colab-df-generate {\n",
              "        background-color: #E8F0FE;\n",
              "        border: none;\n",
              "        border-radius: 50%;\n",
              "        cursor: pointer;\n",
              "        display: none;\n",
              "        fill: #1967D2;\n",
              "        height: 32px;\n",
              "        padding: 0 0 0 0;\n",
              "        width: 32px;\n",
              "      }\n",
              "\n",
              "      .colab-df-generate:hover {\n",
              "        background-color: #E2EBFA;\n",
              "        box-shadow: 0px 1px 2px rgba(60, 64, 67, 0.3), 0px 1px 3px 1px rgba(60, 64, 67, 0.15);\n",
              "        fill: #174EA6;\n",
              "      }\n",
              "\n",
              "      [theme=dark] .colab-df-generate {\n",
              "        background-color: #3B4455;\n",
              "        fill: #D2E3FC;\n",
              "      }\n",
              "\n",
              "      [theme=dark] .colab-df-generate:hover {\n",
              "        background-color: #434B5C;\n",
              "        box-shadow: 0px 1px 3px 1px rgba(0, 0, 0, 0.15);\n",
              "        filter: drop-shadow(0px 1px 2px rgba(0, 0, 0, 0.3));\n",
              "        fill: #FFFFFF;\n",
              "      }\n",
              "    </style>\n",
              "    <button class=\"colab-df-generate\" onclick=\"generateWithVariable('data_replace')\"\n",
              "            title=\"Generate code using this dataframe.\"\n",
              "            style=\"display:none;\">\n",
              "\n",
              "  <svg xmlns=\"http://www.w3.org/2000/svg\" height=\"24px\"viewBox=\"0 0 24 24\"\n",
              "       width=\"24px\">\n",
              "    <path d=\"M7,19H8.4L18.45,9,17,7.55,7,17.6ZM5,21V16.75L18.45,3.32a2,2,0,0,1,2.83,0l1.4,1.43a1.91,1.91,0,0,1,.58,1.4,1.91,1.91,0,0,1-.58,1.4L9.25,21ZM18.45,9,17,7.55Zm-12,3A5.31,5.31,0,0,0,4.9,8.1,5.31,5.31,0,0,0,1,6.5,5.31,5.31,0,0,0,4.9,4.9,5.31,5.31,0,0,0,6.5,1,5.31,5.31,0,0,0,8.1,4.9,5.31,5.31,0,0,0,12,6.5,5.46,5.46,0,0,0,6.5,12Z\"/>\n",
              "  </svg>\n",
              "    </button>\n",
              "    <script>\n",
              "      (() => {\n",
              "      const buttonEl =\n",
              "        document.querySelector('#id_78f8d4ea-b3ff-4d54-b7f7-3e669a390a8f button.colab-df-generate');\n",
              "      buttonEl.style.display =\n",
              "        google.colab.kernel.accessAllowed ? 'block' : 'none';\n",
              "\n",
              "      buttonEl.onclick = () => {\n",
              "        google.colab.notebook.generateWithVariable('data_replace');\n",
              "      }\n",
              "      })();\n",
              "    </script>\n",
              "  </div>\n",
              "\n",
              "    </div>\n",
              "  </div>\n"
            ],
            "application/vnd.google.colaboratory.intrinsic+json": {
              "type": "dataframe",
              "variable_name": "data_replace",
              "summary": "{\n  \"name\": \"data_replace\",\n  \"rows\": 1898,\n  \"fields\": [\n    {\n      \"column\": \"order_id\",\n      \"properties\": {\n        \"dtype\": \"number\",\n        \"std\": 548,\n        \"min\": 1476547,\n        \"max\": 1478444,\n        \"num_unique_values\": 1898,\n        \"samples\": [\n          1477722,\n          1478319,\n          1477650\n        ],\n        \"semantic_type\": \"\",\n        \"description\": \"\"\n      }\n    },\n    {\n      \"column\": \"customer_id\",\n      \"properties\": {\n        \"dtype\": \"number\",\n        \"std\": 113698,\n        \"min\": 1311,\n        \"max\": 405334,\n        \"num_unique_values\": 1200,\n        \"samples\": [\n          351329,\n          49987,\n          345899\n        ],\n        \"semantic_type\": \"\",\n        \"description\": \"\"\n      }\n    },\n    {\n      \"column\": \"restaurant_name\",\n      \"properties\": {\n        \"dtype\": \"category\",\n        \"num_unique_values\": 178,\n        \"samples\": [\n          \"Tortaria\",\n          \"Osteria Morini\",\n          \"Philippe Chow\"\n        ],\n        \"semantic_type\": \"\",\n        \"description\": \"\"\n      }\n    },\n    {\n      \"column\": \"cuisine_type\",\n      \"properties\": {\n        \"dtype\": \"category\",\n        \"num_unique_values\": 14,\n        \"samples\": [\n          \"Thai\",\n          \"French\",\n          \"Korean\"\n        ],\n        \"semantic_type\": \"\",\n        \"description\": \"\"\n      }\n    },\n    {\n      \"column\": \"cost_of_the_order\",\n      \"properties\": {\n        \"dtype\": \"number\",\n        \"std\": 7.48381211004957,\n        \"min\": 4.47,\n        \"max\": 35.41,\n        \"num_unique_values\": 312,\n        \"samples\": [\n          21.29,\n          7.18,\n          13.34\n        ],\n        \"semantic_type\": \"\",\n        \"description\": \"\"\n      }\n    },\n    {\n      \"column\": \"day_of_the_week\",\n      \"properties\": {\n        \"dtype\": \"category\",\n        \"num_unique_values\": 2,\n        \"samples\": [\n          \"Weekday\",\n          \"Weekend\"\n        ],\n        \"semantic_type\": \"\",\n        \"description\": \"\"\n      }\n    },\n    {\n      \"column\": \"rating\",\n      \"properties\": {\n        \"dtype\": \"category\",\n        \"num_unique_values\": 3,\n        \"samples\": [\n          \"5\",\n          \"3\"\n        ],\n        \"semantic_type\": \"\",\n        \"description\": \"\"\n      }\n    },\n    {\n      \"column\": \"food_preparation_time\",\n      \"properties\": {\n        \"dtype\": \"number\",\n        \"std\": 4,\n        \"min\": 20,\n        \"max\": 35,\n        \"num_unique_values\": 16,\n        \"samples\": [\n          25,\n          23\n        ],\n        \"semantic_type\": \"\",\n        \"description\": \"\"\n      }\n    },\n    {\n      \"column\": \"delivery_time\",\n      \"properties\": {\n        \"dtype\": \"number\",\n        \"std\": 4,\n        \"min\": 15,\n        \"max\": 33,\n        \"num_unique_values\": 19,\n        \"samples\": [\n          20,\n          21\n        ],\n        \"semantic_type\": \"\",\n        \"description\": \"\"\n      }\n    }\n  ]\n}"
            }
          },
          "metadata": {},
          "execution_count": 357
        }
      ]
    },
    {
      "cell_type": "code",
      "source": [
        "test = data_replace['rating'].unique()\n",
        "test"
      ],
      "metadata": {
        "colab": {
          "base_uri": "https://localhost:8080/"
        },
        "id": "pe71ilo7E7mI",
        "outputId": "77100158-038d-4071-c030-c757ea3b6e8b"
      },
      "execution_count": 358,
      "outputs": [
        {
          "output_type": "execute_result",
          "data": {
            "text/plain": [
              "array(['5', '3', '4'], dtype=object)"
            ]
          },
          "metadata": {},
          "execution_count": 358
        }
      ]
    },
    {
      "cell_type": "markdown",
      "source": [
        "\n",
        "\n",
        "*   Will use data_replace data for all further analysis involving rating data"
      ],
      "metadata": {
        "id": "uLUzlIz5Fcqn"
      }
    },
    {
      "cell_type": "markdown",
      "metadata": {
        "id": "K9CqA5H_JY_U"
      },
      "source": [
        "### **Question 7**: Which are the top 5 restaurants in terms of the number of orders received? [1 mark]"
      ]
    },
    {
      "cell_type": "code",
      "execution_count": 359,
      "metadata": {
        "id": "PaJZ3wlOJY_U",
        "colab": {
          "base_uri": "https://localhost:8080/",
          "height": 810
        },
        "outputId": "f4692fb8-28fe-485a-bcf8-e3a8f5babe2d"
      },
      "outputs": [
        {
          "output_type": "stream",
          "name": "stdout",
          "text": [
            "The top 5 restaurants in terms of the number of orders received are  restaurant_name\n",
            "Shake Shack                  219\n",
            "The Meatball Shop            132\n",
            "Blue Ribbon Sushi            119\n",
            "Blue Ribbon Fried Chicken     96\n",
            "Parm                          68\n",
            "Name: count, dtype: int64\n"
          ]
        },
        {
          "output_type": "display_data",
          "data": {
            "text/plain": [
              "<Figure size 1000x600 with 1 Axes>"
            ],
            "image/png": "[encoded data removed]"
          },
          "metadata": {}
        }
      ],
      "source": [
        "# Write the code here\n",
        "\n",
        "top_5restaurant=Read_data.value_counts('restaurant_name').nlargest(5)\n",
        "print(\"The top 5 restaurants in terms of the number of orders received are \",top_5restaurant)\n",
        "\n",
        "#top_5restaurant.plot(kind='bar', ylabel='Number of orders', title='Top 5 restaurant by orders')\n",
        "#plt.xticks(rotation=45)\n",
        "#plt.show()\n",
        "\n",
        "plt.figure(figsize=(10, 6))\n",
        "ax = top_5restaurant.plot(kind='bar', ylabel='Number of orders', title='Top 5 restaurants by orders')\n",
        "plt.xticks(rotation=45)\n",
        "\n",
        "for i, count in enumerate(top_5restaurant):\n",
        "    ax.annotate(f\"{count}\", xy=(i, count), ha='center', va='bottom')\n",
        "\n",
        "plt.show()\n",
        "\n",
        "\n"
      ]
    },
    {
      "cell_type": "markdown",
      "metadata": {
        "id": "tnjhWgUfJY_U"
      },
      "source": [
        "#### Observations:\n",
        "\n",
        "\n",
        "1.   Rank 1 : Shake Shack\n",
        "2.   Rank 2 : The Meatball Shop\n",
        "3.   Rank 3 : Blue Ribbon Sushi\n",
        "4.   Rank 4 : Blue Ribbon fried Chicken\n",
        "5.   Rank 5 : Parm\n",
        "\n",
        "But we noticed that Blue Ribbon restaurant seems to have menu items entered as restaurant name instead of a whole food company . Data may need to be corrected\n",
        "\n",
        "\n"
      ]
    },
    {
      "cell_type": "code",
      "source": [
        "blue_ribbon_df = Read_data[Read_data[\"restaurant_name\"].str.contains(\"Blue Ribbon\", case=False)]\n",
        "blue_ribbon_df"
      ],
      "metadata": {
        "colab": {
          "base_uri": "https://localhost:8080/",
          "height": 583
        },
        "id": "alVx6nFAuogy",
        "outputId": "fdaf6234-acf3-4bb0-d86c-de5f35954d0a"
      },
      "execution_count": 360,
      "outputs": [
        {
          "output_type": "execute_result",
          "data": {
            "text/plain": [
              "      order_id  customer_id            restaurant_name cuisine_type  \\\n",
              "1      1477685       358141  Blue Ribbon Sushi Izakaya     Japanese   \n",
              "3      1477334       106968  Blue Ribbon Fried Chicken     American   \n",
              "12     1476966       129969  Blue Ribbon Fried Chicken     American   \n",
              "17     1477373       139885  Blue Ribbon Sushi Izakaya     Japanese   \n",
              "19     1477354        67487          Blue Ribbon Sushi     Japanese   \n",
              "...        ...          ...                        ...          ...   \n",
              "1872   1477000       328731  Blue Ribbon Fried Chicken     American   \n",
              "1878   1477194        62540          Blue Ribbon Sushi     Japanese   \n",
              "1879   1477132       110792          Blue Ribbon Sushi     Japanese   \n",
              "1895   1477819        35309          Blue Ribbon Sushi     Japanese   \n",
              "1897   1478056       120353          Blue Ribbon Sushi     Japanese   \n",
              "\n",
              "      cost_of_the_order day_of_the_week     rating  food_preparation_time  \\\n",
              "1                 12.08         Weekend  Not given                     25   \n",
              "3                 29.20         Weekend          3                     25   \n",
              "12                24.30         Weekend          5                     23   \n",
              "17                33.03         Weekend  Not given                     21   \n",
              "19                16.20         Weekend          4                     35   \n",
              "...                 ...             ...        ...                    ...   \n",
              "1872              29.59         Weekend          5                     23   \n",
              "1878               5.92         Weekday  Not given                     27   \n",
              "1879              12.13         Weekend          5                     28   \n",
              "1895              25.22         Weekday  Not given                     31   \n",
              "1897              19.45         Weekend  Not given                     28   \n",
              "\n",
              "      delivery_time  \n",
              "1                23  \n",
              "3                15  \n",
              "12               17  \n",
              "17               22  \n",
              "19               26  \n",
              "...             ...  \n",
              "1872             25  \n",
              "1878             31  \n",
              "1879             15  \n",
              "1895             24  \n",
              "1897             24  \n",
              "\n",
              "[292 rows x 9 columns]"
            ],
            "text/html": [
              "\n",
              "  <div id=\"df-f2070740-9ecf-4fef-a141-520546481932\" class=\"colab-df-container\">\n",
              "    <div>\n",
              "<style scoped>\n",
              "    .dataframe tbody tr th:only-of-type {\n",
              "        vertical-align: middle;\n",
              "    }\n",
              "\n",
              "    .dataframe tbody tr th {\n",
              "        vertical-align: top;\n",
              "    }\n",
              "\n",
              "    .dataframe thead th {\n",
              "        text-align: right;\n",
              "    }\n",
              "</style>\n",
              "<table border=\"1\" class=\"dataframe\">\n",
              "  <thead>\n",
              "    <tr style=\"text-align: right;\">\n",
              "      <th></th>\n",
              "      <th>order_id</th>\n",
              "      <th>customer_id</th>\n",
              "      <th>restaurant_name</th>\n",
              "      <th>cuisine_type</th>\n",
              "      <th>cost_of_the_order</th>\n",
              "      <th>day_of_the_week</th>\n",
              "      <th>rating</th>\n",
              "      <th>food_preparation_time</th>\n",
              "      <th>delivery_time</th>\n",
              "    </tr>\n",
              "  </thead>\n",
              "  <tbody>\n",
              "    <tr>\n",
              "      <th>1</th>\n",
              "      <td>1477685</td>\n",
              "      <td>358141</td>\n",
              "      <td>Blue Ribbon Sushi Izakaya</td>\n",
              "      <td>Japanese</td>\n",
              "      <td>12.08</td>\n",
              "      <td>Weekend</td>\n",
              "      <td>Not given</td>\n",
              "      <td>25</td>\n",
              "      <td>23</td>\n",
              "    </tr>\n",
              "    <tr>\n",
              "      <th>3</th>\n",
              "      <td>1477334</td>\n",
              "      <td>106968</td>\n",
              "      <td>Blue Ribbon Fried Chicken</td>\n",
              "      <td>American</td>\n",
              "      <td>29.20</td>\n",
              "      <td>Weekend</td>\n",
              "      <td>3</td>\n",
              "      <td>25</td>\n",
              "      <td>15</td>\n",
              "    </tr>\n",
              "    <tr>\n",
              "      <th>12</th>\n",
              "      <td>1476966</td>\n",
              "      <td>129969</td>\n",
              "      <td>Blue Ribbon Fried Chicken</td>\n",
              "      <td>American</td>\n",
              "      <td>24.30</td>\n",
              "      <td>Weekend</td>\n",
              "      <td>5</td>\n",
              "      <td>23</td>\n",
              "      <td>17</td>\n",
              "    </tr>\n",
              "    <tr>\n",
              "      <th>17</th>\n",
              "      <td>1477373</td>\n",
              "      <td>139885</td>\n",
              "      <td>Blue Ribbon Sushi Izakaya</td>\n",
              "      <td>Japanese</td>\n",
              "      <td>33.03</td>\n",
              "      <td>Weekend</td>\n",
              "      <td>Not given</td>\n",
              "      <td>21</td>\n",
              "      <td>22</td>\n",
              "    </tr>\n",
              "    <tr>\n",
              "      <th>19</th>\n",
              "      <td>1477354</td>\n",
              "      <td>67487</td>\n",
              "      <td>Blue Ribbon Sushi</td>\n",
              "      <td>Japanese</td>\n",
              "      <td>16.20</td>\n",
              "      <td>Weekend</td>\n",
              "      <td>4</td>\n",
              "      <td>35</td>\n",
              "      <td>26</td>\n",
              "    </tr>\n",
              "    <tr>\n",
              "      <th>...</th>\n",
              "      <td>...</td>\n",
              "      <td>...</td>\n",
              "      <td>...</td>\n",
              "      <td>...</td>\n",
              "      <td>...</td>\n",
              "      <td>...</td>\n",
              "      <td>...</td>\n",
              "      <td>...</td>\n",
              "      <td>...</td>\n",
              "    </tr>\n",
              "    <tr>\n",
              "      <th>1872</th>\n",
              "      <td>1477000</td>\n",
              "      <td>328731</td>\n",
              "      <td>Blue Ribbon Fried Chicken</td>\n",
              "      <td>American</td>\n",
              "      <td>29.59</td>\n",
              "      <td>Weekend</td>\n",
              "      <td>5</td>\n",
              "      <td>23</td>\n",
              "      <td>25</td>\n",
              "    </tr>\n",
              "    <tr>\n",
              "      <th>1878</th>\n",
              "      <td>1477194</td>\n",
              "      <td>62540</td>\n",
              "      <td>Blue Ribbon Sushi</td>\n",
              "      <td>Japanese</td>\n",
              "      <td>5.92</td>\n",
              "      <td>Weekday</td>\n",
              "      <td>Not given</td>\n",
              "      <td>27</td>\n",
              "      <td>31</td>\n",
              "    </tr>\n",
              "    <tr>\n",
              "      <th>1879</th>\n",
              "      <td>1477132</td>\n",
              "      <td>110792</td>\n",
              "      <td>Blue Ribbon Sushi</td>\n",
              "      <td>Japanese</td>\n",
              "      <td>12.13</td>\n",
              "      <td>Weekend</td>\n",
              "      <td>5</td>\n",
              "      <td>28</td>\n",
              "      <td>15</td>\n",
              "    </tr>\n",
              "    <tr>\n",
              "      <th>1895</th>\n",
              "      <td>1477819</td>\n",
              "      <td>35309</td>\n",
              "      <td>Blue Ribbon Sushi</td>\n",
              "      <td>Japanese</td>\n",
              "      <td>25.22</td>\n",
              "      <td>Weekday</td>\n",
              "      <td>Not given</td>\n",
              "      <td>31</td>\n",
              "      <td>24</td>\n",
              "    </tr>\n",
              "    <tr>\n",
              "      <th>1897</th>\n",
              "      <td>1478056</td>\n",
              "      <td>120353</td>\n",
              "      <td>Blue Ribbon Sushi</td>\n",
              "      <td>Japanese</td>\n",
              "      <td>19.45</td>\n",
              "      <td>Weekend</td>\n",
              "      <td>Not given</td>\n",
              "      <td>28</td>\n",
              "      <td>24</td>\n",
              "    </tr>\n",
              "  </tbody>\n",
              "</table>\n",
              "<p>292 rows × 9 columns</p>\n",
              "</div>\n",
              "    <div class=\"colab-df-buttons\">\n",
              "\n",
              "  <div class=\"colab-df-container\">\n",
              "    <button class=\"colab-df-convert\" onclick=\"convertToInteractive('df-f2070740-9ecf-4fef-a141-520546481932')\"\n",
              "            title=\"Convert this dataframe to an interactive table.\"\n",
              "            style=\"display:none;\">\n",
              "\n",
              "  <svg xmlns=\"http://www.w3.org/2000/svg\" height=\"24px\" viewBox=\"0 -960 960 960\">\n",
              "    <path d=\"M120-120v-720h720v720H120Zm60-500h600v-160H180v160Zm220 220h160v-160H400v160Zm0 220h160v-160H400v160ZM180-400h160v-160H180v160Zm440 0h160v-160H620v160ZM180-180h160v-160H180v160Zm440 0h160v-160H620v160Z\"/>\n",
              "  </svg>\n",
              "    </button>\n",
              "\n",
              "  <style>\n",
              "    .colab-df-container {\n",
              "      display:flex;\n",
              "      gap: 12px;\n",
              "    }\n",
              "\n",
              "    .colab-df-convert {\n",
              "      background-color: #E8F0FE;\n",
              "      border: none;\n",
              "      border-radius: 50%;\n",
              "      cursor: pointer;\n",
              "      display: none;\n",
              "      fill: #1967D2;\n",
              "      height: 32px;\n",
              "      padding: 0 0 0 0;\n",
              "      width: 32px;\n",
              "    }\n",
              "\n",
              "    .colab-df-convert:hover {\n",
              "      background-color: #E2EBFA;\n",
              "      box-shadow: 0px 1px 2px rgba(60, 64, 67, 0.3), 0px 1px 3px 1px rgba(60, 64, 67, 0.15);\n",
              "      fill: #174EA6;\n",
              "    }\n",
              "\n",
              "    .colab-df-buttons div {\n",
              "      margin-bottom: 4px;\n",
              "    }\n",
              "\n",
              "    [theme=dark] .colab-df-convert {\n",
              "      background-color: #3B4455;\n",
              "      fill: #D2E3FC;\n",
              "    }\n",
              "\n",
              "    [theme=dark] .colab-df-convert:hover {\n",
              "      background-color: #434B5C;\n",
              "      box-shadow: 0px 1px 3px 1px rgba(0, 0, 0, 0.15);\n",
              "      filter: drop-shadow(0px 1px 2px rgba(0, 0, 0, 0.3));\n",
              "      fill: #FFFFFF;\n",
              "    }\n",
              "  </style>\n",
              "\n",
              "    <script>\n",
              "      const buttonEl =\n",
              "        document.querySelector('#df-f2070740-9ecf-4fef-a141-520546481932 button.colab-df-convert');\n",
              "      buttonEl.style.display =\n",
              "        google.colab.kernel.accessAllowed ? 'block' : 'none';\n",
              "\n",
              "      async function convertToInteractive(key) {\n",
              "        const element = document.querySelector('#df-f2070740-9ecf-4fef-a141-520546481932');\n",
              "        const dataTable =\n",
              "          await google.colab.kernel.invokeFunction('convertToInteractive',\n",
              "                                                    [key], {});\n",
              "        if (!dataTable) return;\n",
              "\n",
              "        const docLinkHtml = 'Like what you see? Visit the ' +\n",
              "          '<a target=\"_blank\" href=https://colab.research.google.com/notebooks/data_table.ipynb>data table notebook</a>'\n",
              "          + ' to learn more about interactive tables.';\n",
              "        element.innerHTML = '';\n",
              "        dataTable['output_type'] = 'display_data';\n",
              "        await google.colab.output.renderOutput(dataTable, element);\n",
              "        const docLink = document.createElement('div');\n",
              "        docLink.innerHTML = docLinkHtml;\n",
              "        element.appendChild(docLink);\n",
              "      }\n",
              "    </script>\n",
              "  </div>\n",
              "\n",
              "\n",
              "<div id=\"df-7b93fa8b-7433-40ec-b628-ee4c04fd658e\">\n",
              "  <button class=\"colab-df-quickchart\" onclick=\"quickchart('df-7b93fa8b-7433-40ec-b628-ee4c04fd658e')\"\n",
              "            title=\"Suggest charts\"\n",
              "            style=\"display:none;\">\n",
              "\n",
              "<svg xmlns=\"http://www.w3.org/2000/svg\" height=\"24px\"viewBox=\"0 0 24 24\"\n",
              "     width=\"24px\">\n",
              "    <g>\n",
              "        <path d=\"M19 3H5c-1.1 0-2 .9-2 2v14c0 1.1.9 2 2 2h14c1.1 0 2-.9 2-2V5c0-1.1-.9-2-2-2zM9 17H7v-7h2v7zm4 0h-2V7h2v10zm4 0h-2v-4h2v4z\"/>\n",
              "    </g>\n",
              "</svg>\n",
              "  </button>\n",
              "\n",
              "<style>\n",
              "  .colab-df-quickchart {\n",
              "      --bg-color: #E8F0FE;\n",
              "      --fill-color: #1967D2;\n",
              "      --hover-bg-color: #E2EBFA;\n",
              "      --hover-fill-color: #174EA6;\n",
              "      --disabled-fill-color: #AAA;\n",
              "      --disabled-bg-color: #DDD;\n",
              "  }\n",
              "\n",
              "  [theme=dark] .colab-df-quickchart {\n",
              "      --bg-color: #3B4455;\n",
              "      --fill-color: #D2E3FC;\n",
              "      --hover-bg-color: #434B5C;\n",
              "      --hover-fill-color: #FFFFFF;\n",
              "      --disabled-bg-color: #3B4455;\n",
              "      --disabled-fill-color: #666;\n",
              "  }\n",
              "\n",
              "  .colab-df-quickchart {\n",
              "    background-color: var(--bg-color);\n",
              "    border: none;\n",
              "    border-radius: 50%;\n",
              "    cursor: pointer;\n",
              "    display: none;\n",
              "    fill: var(--fill-color);\n",
              "    height: 32px;\n",
              "    padding: 0;\n",
              "    width: 32px;\n",
              "  }\n",
              "\n",
              "  .colab-df-quickchart:hover {\n",
              "    background-color: var(--hover-bg-color);\n",
              "    box-shadow: 0 1px 2px rgba(60, 64, 67, 0.3), 0 1px 3px 1px rgba(60, 64, 67, 0.15);\n",
              "    fill: var(--button-hover-fill-color);\n",
              "  }\n",
              "\n",
              "  .colab-df-quickchart-complete:disabled,\n",
              "  .colab-df-quickchart-complete:disabled:hover {\n",
              "    background-color: var(--disabled-bg-color);\n",
              "    fill: var(--disabled-fill-color);\n",
              "    box-shadow: none;\n",
              "  }\n",
              "\n",
              "  .colab-df-spinner {\n",
              "    border: 2px solid var(--fill-color);\n",
              "    border-color: transparent;\n",
              "    border-bottom-color: var(--fill-color);\n",
              "    animation:\n",
              "      spin 1s steps(1) infinite;\n",
              "  }\n",
              "\n",
              "  @keyframes spin {\n",
              "    0% {\n",
              "      border-color: transparent;\n",
              "      border-bottom-color: var(--fill-color);\n",
              "      border-left-color: var(--fill-color);\n",
              "    }\n",
              "    20% {\n",
              "      border-color: transparent;\n",
              "      border-left-color: var(--fill-color);\n",
              "      border-top-color: var(--fill-color);\n",
              "    }\n",
              "    30% {\n",
              "      border-color: transparent;\n",
              "      border-left-color: var(--fill-color);\n",
              "      border-top-color: var(--fill-color);\n",
              "      border-right-color: var(--fill-color);\n",
              "    }\n",
              "    40% {\n",
              "      border-color: transparent;\n",
              "      border-right-color: var(--fill-color);\n",
              "      border-top-color: var(--fill-color);\n",
              "    }\n",
              "    60% {\n",
              "      border-color: transparent;\n",
              "      border-right-color: var(--fill-color);\n",
              "    }\n",
              "    80% {\n",
              "      border-color: transparent;\n",
              "      border-right-color: var(--fill-color);\n",
              "      border-bottom-color: var(--fill-color);\n",
              "    }\n",
              "    90% {\n",
              "      border-color: transparent;\n",
              "      border-bottom-color: var(--fill-color);\n",
              "    }\n",
              "  }\n",
              "</style>\n",
              "\n",
              "  <script>\n",
              "    async function quickchart(key) {\n",
              "      const quickchartButtonEl =\n",
              "        document.querySelector('#' + key + ' button');\n",
              "      quickchartButtonEl.disabled = true;  // To prevent multiple clicks.\n",
              "      quickchartButtonEl.classList.add('colab-df-spinner');\n",
              "      try {\n",
              "        const charts = await google.colab.kernel.invokeFunction(\n",
              "            'suggestCharts', [key], {});\n",
              "      } catch (error) {\n",
              "        console.error('Error during call to suggestCharts:', error);\n",
              "      }\n",
              "      quickchartButtonEl.classList.remove('colab-df-spinner');\n",
              "      quickchartButtonEl.classList.add('colab-df-quickchart-complete');\n",
              "    }\n",
              "    (() => {\n",
              "      let quickchartButtonEl =\n",
              "        document.querySelector('#df-7b93fa8b-7433-40ec-b628-ee4c04fd658e button');\n",
              "      quickchartButtonEl.style.display =\n",
              "        google.colab.kernel.accessAllowed ? 'block' : 'none';\n",
              "    })();\n",
              "  </script>\n",
              "</div>\n",
              "\n",
              "  <div id=\"id_3ff41985-d3fa-4739-b7a7-930d2a7b3443\">\n",
              "    <style>\n",
              "      .colab-df-generate {\n",
              "        background-color: #E8F0FE;\n",
              "        border: none;\n",
              "        border-radius: 50%;\n",
              "        cursor: pointer;\n",
              "        display: none;\n",
              "        fill: #1967D2;\n",
              "        height: 32px;\n",
              "        padding: 0 0 0 0;\n",
              "        width: 32px;\n",
              "      }\n",
              "\n",
              "      .colab-df-generate:hover {\n",
              "        background-color: #E2EBFA;\n",
              "        box-shadow: 0px 1px 2px rgba(60, 64, 67, 0.3), 0px 1px 3px 1px rgba(60, 64, 67, 0.15);\n",
              "        fill: #174EA6;\n",
              "      }\n",
              "\n",
              "      [theme=dark] .colab-df-generate {\n",
              "        background-color: #3B4455;\n",
              "        fill: #D2E3FC;\n",
              "      }\n",
              "\n",
              "      [theme=dark] .colab-df-generate:hover {\n",
              "        background-color: #434B5C;\n",
              "        box-shadow: 0px 1px 3px 1px rgba(0, 0, 0, 0.15);\n",
              "        filter: drop-shadow(0px 1px 2px rgba(0, 0, 0, 0.3));\n",
              "        fill: #FFFFFF;\n",
              "      }\n",
              "    </style>\n",
              "    <button class=\"colab-df-generate\" onclick=\"generateWithVariable('blue_ribbon_df')\"\n",
              "            title=\"Generate code using this dataframe.\"\n",
              "            style=\"display:none;\">\n",
              "\n",
              "  <svg xmlns=\"http://www.w3.org/2000/svg\" height=\"24px\"viewBox=\"0 0 24 24\"\n",
              "       width=\"24px\">\n",
              "    <path d=\"M7,19H8.4L18.45,9,17,7.55,7,17.6ZM5,21V16.75L18.45,3.32a2,2,0,0,1,2.83,0l1.4,1.43a1.91,1.91,0,0,1,.58,1.4,1.91,1.91,0,0,1-.58,1.4L9.25,21ZM18.45,9,17,7.55Zm-12,3A5.31,5.31,0,0,0,4.9,8.1,5.31,5.31,0,0,0,1,6.5,5.31,5.31,0,0,0,4.9,4.9,5.31,5.31,0,0,0,6.5,1,5.31,5.31,0,0,0,8.1,4.9,5.31,5.31,0,0,0,12,6.5,5.46,5.46,0,0,0,6.5,12Z\"/>\n",
              "  </svg>\n",
              "    </button>\n",
              "    <script>\n",
              "      (() => {\n",
              "      const buttonEl =\n",
              "        document.querySelector('#id_3ff41985-d3fa-4739-b7a7-930d2a7b3443 button.colab-df-generate');\n",
              "      buttonEl.style.display =\n",
              "        google.colab.kernel.accessAllowed ? 'block' : 'none';\n",
              "\n",
              "      buttonEl.onclick = () => {\n",
              "        google.colab.notebook.generateWithVariable('blue_ribbon_df');\n",
              "      }\n",
              "      })();\n",
              "    </script>\n",
              "  </div>\n",
              "\n",
              "    </div>\n",
              "  </div>\n"
            ],
            "application/vnd.google.colaboratory.intrinsic+json": {
              "type": "dataframe",
              "variable_name": "blue_ribbon_df",
              "summary": "{\n  \"name\": \"blue_ribbon_df\",\n  \"rows\": 292,\n  \"fields\": [\n    {\n      \"column\": \"order_id\",\n      \"properties\": {\n        \"dtype\": \"number\",\n        \"std\": 560,\n        \"min\": 1476548,\n        \"max\": 1478438,\n        \"num_unique_values\": 292,\n        \"samples\": [\n          1478357,\n          1477759,\n          1478081\n        ],\n        \"semantic_type\": \"\",\n        \"description\": \"\"\n      }\n    },\n    {\n      \"column\": \"customer_id\",\n      \"properties\": {\n        \"dtype\": \"number\",\n        \"std\": 117495,\n        \"min\": 27609,\n        \"max\": 399729,\n        \"num_unique_values\": 187,\n        \"samples\": [\n          328731,\n          90113,\n          42755\n        ],\n        \"semantic_type\": \"\",\n        \"description\": \"\"\n      }\n    },\n    {\n      \"column\": \"restaurant_name\",\n      \"properties\": {\n        \"dtype\": \"category\",\n        \"num_unique_values\": 5,\n        \"samples\": [\n          \"Blue Ribbon Fried Chicken\",\n          \"Blue Ribbon Brooklyn\",\n          \"Blue Ribbon Sushi\"\n        ],\n        \"semantic_type\": \"\",\n        \"description\": \"\"\n      }\n    },\n    {\n      \"column\": \"cuisine_type\",\n      \"properties\": {\n        \"dtype\": \"category\",\n        \"num_unique_values\": 2,\n        \"samples\": [\n          \"American\",\n          \"Japanese\"\n        ],\n        \"semantic_type\": \"\",\n        \"description\": \"\"\n      }\n    },\n    {\n      \"column\": \"cost_of_the_order\",\n      \"properties\": {\n        \"dtype\": \"number\",\n        \"std\": 7.29253020838005,\n        \"min\": 4.85,\n        \"max\": 33.37,\n        \"num_unique_values\": 139,\n        \"samples\": [\n          9.27,\n          16.15\n        ],\n        \"semantic_type\": \"\",\n        \"description\": \"\"\n      }\n    },\n    {\n      \"column\": \"day_of_the_week\",\n      \"properties\": {\n        \"dtype\": \"category\",\n        \"num_unique_values\": 2,\n        \"samples\": [\n          \"Weekday\",\n          \"Weekend\"\n        ],\n        \"semantic_type\": \"\",\n        \"description\": \"\"\n      }\n    },\n    {\n      \"column\": \"rating\",\n      \"properties\": {\n        \"dtype\": \"category\",\n        \"num_unique_values\": 4,\n        \"samples\": [\n          \"3\",\n          \"4\"\n        ],\n        \"semantic_type\": \"\",\n        \"description\": \"\"\n      }\n    },\n    {\n      \"column\": \"food_preparation_time\",\n      \"properties\": {\n        \"dtype\": \"number\",\n        \"std\": 4,\n        \"min\": 20,\n        \"max\": 35,\n        \"num_unique_values\": 16,\n        \"samples\": [\n          25,\n          23\n        ],\n        \"semantic_type\": \"\",\n        \"description\": \"\"\n      }\n    },\n    {\n      \"column\": \"delivery_time\",\n      \"properties\": {\n        \"dtype\": \"number\",\n        \"std\": 4,\n        \"min\": 15,\n        \"max\": 33,\n        \"num_unique_values\": 19,\n        \"samples\": [\n          23,\n          31\n        ],\n        \"semantic_type\": \"\",\n        \"description\": \"\"\n      }\n    }\n  ]\n}"
            }
          },
          "metadata": {},
          "execution_count": 360
        }
      ]
    },
    {
      "cell_type": "code",
      "source": [
        "top_5restaurant_blue_ribbon_df=blue_ribbon_df.value_counts('restaurant_name').nlargest(5)\n",
        "\n",
        "\n",
        "# Print the results\n",
        "print(top_5restaurant_blue_ribbon_df)\n",
        "\n",
        "# Print total orders recived by Blue Ribbon Restaurant\n",
        "\n",
        "\n",
        "\n",
        "print(\"Total orders received by Blue Ribbon Restaurant \",top_5restaurant_blue_ribbon_df.sum())\n"
      ],
      "metadata": {
        "colab": {
          "base_uri": "https://localhost:8080/"
        },
        "id": "uFbJufkbt2j6",
        "outputId": "7a943b0a-dd0e-4299-8608-a81657d1d035"
      },
      "execution_count": 361,
      "outputs": [
        {
          "output_type": "stream",
          "name": "stdout",
          "text": [
            "restaurant_name\n",
            "Blue Ribbon Sushi                119\n",
            "Blue Ribbon Fried Chicken         96\n",
            "Blue Ribbon Sushi Bar & Grill     44\n",
            "Blue Ribbon Sushi Izakaya         29\n",
            "Blue Ribbon Brooklyn               4\n",
            "Name: count, dtype: int64\n",
            "Total orders received by Blue Ribbon Restaurant  292\n"
          ]
        }
      ]
    },
    {
      "cell_type": "markdown",
      "source": [
        "#Observations\n",
        "\n",
        "If we were to total up the orders recived by Blue Ribbon then Rank #1 would go to Blue Ribbon restaurant .\n",
        "\n",
        "\n",
        "\n"
      ],
      "metadata": {
        "id": "Et5nENpGwDzg"
      }
    },
    {
      "cell_type": "code",
      "source": [
        "# Other Data entry issues include same restaurant names containing different location name\n",
        "\n",
        "RedFarm_df = Read_data[Read_data[\"restaurant_name\"].str.contains(\"RedFarm\", case=False)]\n",
        "RedFarm_df"
      ],
      "metadata": {
        "colab": {
          "base_uri": "https://localhost:8080/",
          "height": 565
        },
        "id": "Tt6tBoMLxW8R",
        "outputId": "9a7135d5-6ffa-4c87-8893-11ccc2d448be"
      },
      "execution_count": 362,
      "outputs": [
        {
          "output_type": "execute_result",
          "data": {
            "text/plain": [
              "      order_id  customer_id   restaurant_name cuisine_type  cost_of_the_order  \\\n",
              "18     1477138        47280    RedFarm Hudson      Chinese              14.12   \n",
              "42     1477267       133637  RedFarm Broadway      Chinese              24.25   \n",
              "53     1478107        73895  RedFarm Broadway      Chinese              29.10   \n",
              "57     1477889       177250    RedFarm Hudson      Chinese              12.23   \n",
              "66     1476841       398426  RedFarm Broadway      Chinese              12.46   \n",
              "...        ...          ...               ...          ...                ...   \n",
              "1774   1476993       301825  RedFarm Broadway      Chinese              12.23   \n",
              "1828   1478166       177250    RedFarm Hudson      Chinese              12.13   \n",
              "1855   1476723       136807    RedFarm Hudson      Chinese              19.35   \n",
              "1868   1477778       100889  RedFarm Broadway      Chinese              31.43   \n",
              "1889   1478190        94152  RedFarm Broadway      Chinese               8.68   \n",
              "\n",
              "     day_of_the_week     rating  food_preparation_time  delivery_time  \n",
              "18           Weekend          4                     25             24  \n",
              "42           Weekend          5                     22             15  \n",
              "53           Weekend  Not given                     22             23  \n",
              "57           Weekday          5                     25             33  \n",
              "66           Weekend          4                     24             20  \n",
              "...              ...        ...                    ...            ...  \n",
              "1774         Weekend  Not given                     32             19  \n",
              "1828         Weekend  Not given                     31             27  \n",
              "1855         Weekday          5                     35             28  \n",
              "1868         Weekend          4                     30             23  \n",
              "1889         Weekday          3                     33             30  \n",
              "\n",
              "[114 rows x 9 columns]"
            ],
            "text/html": [
              "\n",
              "  <div id=\"df-c3cd401c-bd2a-4326-b28a-3dfeb4347551\" class=\"colab-df-container\">\n",
              "    <div>\n",
              "<style scoped>\n",
              "    .dataframe tbody tr th:only-of-type {\n",
              "        vertical-align: middle;\n",
              "    }\n",
              "\n",
              "    .dataframe tbody tr th {\n",
              "        vertical-align: top;\n",
              "    }\n",
              "\n",
              "    .dataframe thead th {\n",
              "        text-align: right;\n",
              "    }\n",
              "</style>\n",
              "<table border=\"1\" class=\"dataframe\">\n",
              "  <thead>\n",
              "    <tr style=\"text-align: right;\">\n",
              "      <th></th>\n",
              "      <th>order_id</th>\n",
              "      <th>customer_id</th>\n",
              "      <th>restaurant_name</th>\n",
              "      <th>cuisine_type</th>\n",
              "      <th>cost_of_the_order</th>\n",
              "      <th>day_of_the_week</th>\n",
              "      <th>rating</th>\n",
              "      <th>food_preparation_time</th>\n",
              "      <th>delivery_time</th>\n",
              "    </tr>\n",
              "  </thead>\n",
              "  <tbody>\n",
              "    <tr>\n",
              "      <th>18</th>\n",
              "      <td>1477138</td>\n",
              "      <td>47280</td>\n",
              "      <td>RedFarm Hudson</td>\n",
              "      <td>Chinese</td>\n",
              "      <td>14.12</td>\n",
              "      <td>Weekend</td>\n",
              "      <td>4</td>\n",
              "      <td>25</td>\n",
              "      <td>24</td>\n",
              "    </tr>\n",
              "    <tr>\n",
              "      <th>42</th>\n",
              "      <td>1477267</td>\n",
              "      <td>133637</td>\n",
              "      <td>RedFarm Broadway</td>\n",
              "      <td>Chinese</td>\n",
              "      <td>24.25</td>\n",
              "      <td>Weekend</td>\n",
              "      <td>5</td>\n",
              "      <td>22</td>\n",
              "      <td>15</td>\n",
              "    </tr>\n",
              "    <tr>\n",
              "      <th>53</th>\n",
              "      <td>1478107</td>\n",
              "      <td>73895</td>\n",
              "      <td>RedFarm Broadway</td>\n",
              "      <td>Chinese</td>\n",
              "      <td>29.10</td>\n",
              "      <td>Weekend</td>\n",
              "      <td>Not given</td>\n",
              "      <td>22</td>\n",
              "      <td>23</td>\n",
              "    </tr>\n",
              "    <tr>\n",
              "      <th>57</th>\n",
              "      <td>1477889</td>\n",
              "      <td>177250</td>\n",
              "      <td>RedFarm Hudson</td>\n",
              "      <td>Chinese</td>\n",
              "      <td>12.23</td>\n",
              "      <td>Weekday</td>\n",
              "      <td>5</td>\n",
              "      <td>25</td>\n",
              "      <td>33</td>\n",
              "    </tr>\n",
              "    <tr>\n",
              "      <th>66</th>\n",
              "      <td>1476841</td>\n",
              "      <td>398426</td>\n",
              "      <td>RedFarm Broadway</td>\n",
              "      <td>Chinese</td>\n",
              "      <td>12.46</td>\n",
              "      <td>Weekend</td>\n",
              "      <td>4</td>\n",
              "      <td>24</td>\n",
              "      <td>20</td>\n",
              "    </tr>\n",
              "    <tr>\n",
              "      <th>...</th>\n",
              "      <td>...</td>\n",
              "      <td>...</td>\n",
              "      <td>...</td>\n",
              "      <td>...</td>\n",
              "      <td>...</td>\n",
              "      <td>...</td>\n",
              "      <td>...</td>\n",
              "      <td>...</td>\n",
              "      <td>...</td>\n",
              "    </tr>\n",
              "    <tr>\n",
              "      <th>1774</th>\n",
              "      <td>1476993</td>\n",
              "      <td>301825</td>\n",
              "      <td>RedFarm Broadway</td>\n",
              "      <td>Chinese</td>\n",
              "      <td>12.23</td>\n",
              "      <td>Weekend</td>\n",
              "      <td>Not given</td>\n",
              "      <td>32</td>\n",
              "      <td>19</td>\n",
              "    </tr>\n",
              "    <tr>\n",
              "      <th>1828</th>\n",
              "      <td>1478166</td>\n",
              "      <td>177250</td>\n",
              "      <td>RedFarm Hudson</td>\n",
              "      <td>Chinese</td>\n",
              "      <td>12.13</td>\n",
              "      <td>Weekend</td>\n",
              "      <td>Not given</td>\n",
              "      <td>31</td>\n",
              "      <td>27</td>\n",
              "    </tr>\n",
              "    <tr>\n",
              "      <th>1855</th>\n",
              "      <td>1476723</td>\n",
              "      <td>136807</td>\n",
              "      <td>RedFarm Hudson</td>\n",
              "      <td>Chinese</td>\n",
              "      <td>19.35</td>\n",
              "      <td>Weekday</td>\n",
              "      <td>5</td>\n",
              "      <td>35</td>\n",
              "      <td>28</td>\n",
              "    </tr>\n",
              "    <tr>\n",
              "      <th>1868</th>\n",
              "      <td>1477778</td>\n",
              "      <td>100889</td>\n",
              "      <td>RedFarm Broadway</td>\n",
              "      <td>Chinese</td>\n",
              "      <td>31.43</td>\n",
              "      <td>Weekend</td>\n",
              "      <td>4</td>\n",
              "      <td>30</td>\n",
              "      <td>23</td>\n",
              "    </tr>\n",
              "    <tr>\n",
              "      <th>1889</th>\n",
              "      <td>1478190</td>\n",
              "      <td>94152</td>\n",
              "      <td>RedFarm Broadway</td>\n",
              "      <td>Chinese</td>\n",
              "      <td>8.68</td>\n",
              "      <td>Weekday</td>\n",
              "      <td>3</td>\n",
              "      <td>33</td>\n",
              "      <td>30</td>\n",
              "    </tr>\n",
              "  </tbody>\n",
              "</table>\n",
              "<p>114 rows × 9 columns</p>\n",
              "</div>\n",
              "    <div class=\"colab-df-buttons\">\n",
              "\n",
              "  <div class=\"colab-df-container\">\n",
              "    <button class=\"colab-df-convert\" onclick=\"convertToInteractive('df-c3cd401c-bd2a-4326-b28a-3dfeb4347551')\"\n",
              "            title=\"Convert this dataframe to an interactive table.\"\n",
              "            style=\"display:none;\">\n",
              "\n",
              "  <svg xmlns=\"http://www.w3.org/2000/svg\" height=\"24px\" viewBox=\"0 -960 960 960\">\n",
              "    <path d=\"M120-120v-720h720v720H120Zm60-500h600v-160H180v160Zm220 220h160v-160H400v160Zm0 220h160v-160H400v160ZM180-400h160v-160H180v160Zm440 0h160v-160H620v160ZM180-180h160v-160H180v160Zm440 0h160v-160H620v160Z\"/>\n",
              "  </svg>\n",
              "    </button>\n",
              "\n",
              "  <style>\n",
              "    .colab-df-container {\n",
              "      display:flex;\n",
              "      gap: 12px;\n",
              "    }\n",
              "\n",
              "    .colab-df-convert {\n",
              "      background-color: #E8F0FE;\n",
              "      border: none;\n",
              "      border-radius: 50%;\n",
              "      cursor: pointer;\n",
              "      display: none;\n",
              "      fill: #1967D2;\n",
              "      height: 32px;\n",
              "      padding: 0 0 0 0;\n",
              "      width: 32px;\n",
              "    }\n",
              "\n",
              "    .colab-df-convert:hover {\n",
              "      background-color: #E2EBFA;\n",
              "      box-shadow: 0px 1px 2px rgba(60, 64, 67, 0.3), 0px 1px 3px 1px rgba(60, 64, 67, 0.15);\n",
              "      fill: #174EA6;\n",
              "    }\n",
              "\n",
              "    .colab-df-buttons div {\n",
              "      margin-bottom: 4px;\n",
              "    }\n",
              "\n",
              "    [theme=dark] .colab-df-convert {\n",
              "      background-color: #3B4455;\n",
              "      fill: #D2E3FC;\n",
              "    }\n",
              "\n",
              "    [theme=dark] .colab-df-convert:hover {\n",
              "      background-color: #434B5C;\n",
              "      box-shadow: 0px 1px 3px 1px rgba(0, 0, 0, 0.15);\n",
              "      filter: drop-shadow(0px 1px 2px rgba(0, 0, 0, 0.3));\n",
              "      fill: #FFFFFF;\n",
              "    }\n",
              "  </style>\n",
              "\n",
              "    <script>\n",
              "      const buttonEl =\n",
              "        document.querySelector('#df-c3cd401c-bd2a-4326-b28a-3dfeb4347551 button.colab-df-convert');\n",
              "      buttonEl.style.display =\n",
              "        google.colab.kernel.accessAllowed ? 'block' : 'none';\n",
              "\n",
              "      async function convertToInteractive(key) {\n",
              "        const element = document.querySelector('#df-c3cd401c-bd2a-4326-b28a-3dfeb4347551');\n",
              "        const dataTable =\n",
              "          await google.colab.kernel.invokeFunction('convertToInteractive',\n",
              "                                                    [key], {});\n",
              "        if (!dataTable) return;\n",
              "\n",
              "        const docLinkHtml = 'Like what you see? Visit the ' +\n",
              "          '<a target=\"_blank\" href=https://colab.research.google.com/notebooks/data_table.ipynb>data table notebook</a>'\n",
              "          + ' to learn more about interactive tables.';\n",
              "        element.innerHTML = '';\n",
              "        dataTable['output_type'] = 'display_data';\n",
              "        await google.colab.output.renderOutput(dataTable, element);\n",
              "        const docLink = document.createElement('div');\n",
              "        docLink.innerHTML = docLinkHtml;\n",
              "        element.appendChild(docLink);\n",
              "      }\n",
              "    </script>\n",
              "  </div>\n",
              "\n",
              "\n",
              "<div id=\"df-2ba040b0-792c-4436-820a-75ebc194f9bb\">\n",
              "  <button class=\"colab-df-quickchart\" onclick=\"quickchart('df-2ba040b0-792c-4436-820a-75ebc194f9bb')\"\n",
              "            title=\"Suggest charts\"\n",
              "            style=\"display:none;\">\n",
              "\n",
              "<svg xmlns=\"http://www.w3.org/2000/svg\" height=\"24px\"viewBox=\"0 0 24 24\"\n",
              "     width=\"24px\">\n",
              "    <g>\n",
              "        <path d=\"M19 3H5c-1.1 0-2 .9-2 2v14c0 1.1.9 2 2 2h14c1.1 0 2-.9 2-2V5c0-1.1-.9-2-2-2zM9 17H7v-7h2v7zm4 0h-2V7h2v10zm4 0h-2v-4h2v4z\"/>\n",
              "    </g>\n",
              "</svg>\n",
              "  </button>\n",
              "\n",
              "<style>\n",
              "  .colab-df-quickchart {\n",
              "      --bg-color: #E8F0FE;\n",
              "      --fill-color: #1967D2;\n",
              "      --hover-bg-color: #E2EBFA;\n",
              "      --hover-fill-color: #174EA6;\n",
              "      --disabled-fill-color: #AAA;\n",
              "      --disabled-bg-color: #DDD;\n",
              "  }\n",
              "\n",
              "  [theme=dark] .colab-df-quickchart {\n",
              "      --bg-color: #3B4455;\n",
              "      --fill-color: #D2E3FC;\n",
              "      --hover-bg-color: #434B5C;\n",
              "      --hover-fill-color: #FFFFFF;\n",
              "      --disabled-bg-color: #3B4455;\n",
              "      --disabled-fill-color: #666;\n",
              "  }\n",
              "\n",
              "  .colab-df-quickchart {\n",
              "    background-color: var(--bg-color);\n",
              "    border: none;\n",
              "    border-radius: 50%;\n",
              "    cursor: pointer;\n",
              "    display: none;\n",
              "    fill: var(--fill-color);\n",
              "    height: 32px;\n",
              "    padding: 0;\n",
              "    width: 32px;\n",
              "  }\n",
              "\n",
              "  .colab-df-quickchart:hover {\n",
              "    background-color: var(--hover-bg-color);\n",
              "    box-shadow: 0 1px 2px rgba(60, 64, 67, 0.3), 0 1px 3px 1px rgba(60, 64, 67, 0.15);\n",
              "    fill: var(--button-hover-fill-color);\n",
              "  }\n",
              "\n",
              "  .colab-df-quickchart-complete:disabled,\n",
              "  .colab-df-quickchart-complete:disabled:hover {\n",
              "    background-color: var(--disabled-bg-color);\n",
              "    fill: var(--disabled-fill-color);\n",
              "    box-shadow: none;\n",
              "  }\n",
              "\n",
              "  .colab-df-spinner {\n",
              "    border: 2px solid var(--fill-color);\n",
              "    border-color: transparent;\n",
              "    border-bottom-color: var(--fill-color);\n",
              "    animation:\n",
              "      spin 1s steps(1) infinite;\n",
              "  }\n",
              "\n",
              "  @keyframes spin {\n",
              "    0% {\n",
              "      border-color: transparent;\n",
              "      border-bottom-color: var(--fill-color);\n",
              "      border-left-color: var(--fill-color);\n",
              "    }\n",
              "    20% {\n",
              "      border-color: transparent;\n",
              "      border-left-color: var(--fill-color);\n",
              "      border-top-color: var(--fill-color);\n",
              "    }\n",
              "    30% {\n",
              "      border-color: transparent;\n",
              "      border-left-color: var(--fill-color);\n",
              "      border-top-color: var(--fill-color);\n",
              "      border-right-color: var(--fill-color);\n",
              "    }\n",
              "    40% {\n",
              "      border-color: transparent;\n",
              "      border-right-color: var(--fill-color);\n",
              "      border-top-color: var(--fill-color);\n",
              "    }\n",
              "    60% {\n",
              "      border-color: transparent;\n",
              "      border-right-color: var(--fill-color);\n",
              "    }\n",
              "    80% {\n",
              "      border-color: transparent;\n",
              "      border-right-color: var(--fill-color);\n",
              "      border-bottom-color: var(--fill-color);\n",
              "    }\n",
              "    90% {\n",
              "      border-color: transparent;\n",
              "      border-bottom-color: var(--fill-color);\n",
              "    }\n",
              "  }\n",
              "</style>\n",
              "\n",
              "  <script>\n",
              "    async function quickchart(key) {\n",
              "      const quickchartButtonEl =\n",
              "        document.querySelector('#' + key + ' button');\n",
              "      quickchartButtonEl.disabled = true;  // To prevent multiple clicks.\n",
              "      quickchartButtonEl.classList.add('colab-df-spinner');\n",
              "      try {\n",
              "        const charts = await google.colab.kernel.invokeFunction(\n",
              "            'suggestCharts', [key], {});\n",
              "      } catch (error) {\n",
              "        console.error('Error during call to suggestCharts:', error);\n",
              "      }\n",
              "      quickchartButtonEl.classList.remove('colab-df-spinner');\n",
              "      quickchartButtonEl.classList.add('colab-df-quickchart-complete');\n",
              "    }\n",
              "    (() => {\n",
              "      let quickchartButtonEl =\n",
              "        document.querySelector('#df-2ba040b0-792c-4436-820a-75ebc194f9bb button');\n",
              "      quickchartButtonEl.style.display =\n",
              "        google.colab.kernel.accessAllowed ? 'block' : 'none';\n",
              "    })();\n",
              "  </script>\n",
              "</div>\n",
              "\n",
              "  <div id=\"id_114ee420-2324-4e6c-bb91-f3b4e3879204\">\n",
              "    <style>\n",
              "      .colab-df-generate {\n",
              "        background-color: #E8F0FE;\n",
              "        border: none;\n",
              "        border-radius: 50%;\n",
              "        cursor: pointer;\n",
              "        display: none;\n",
              "        fill: #1967D2;\n",
              "        height: 32px;\n",
              "        padding: 0 0 0 0;\n",
              "        width: 32px;\n",
              "      }\n",
              "\n",
              "      .colab-df-generate:hover {\n",
              "        background-color: #E2EBFA;\n",
              "        box-shadow: 0px 1px 2px rgba(60, 64, 67, 0.3), 0px 1px 3px 1px rgba(60, 64, 67, 0.15);\n",
              "        fill: #174EA6;\n",
              "      }\n",
              "\n",
              "      [theme=dark] .colab-df-generate {\n",
              "        background-color: #3B4455;\n",
              "        fill: #D2E3FC;\n",
              "      }\n",
              "\n",
              "      [theme=dark] .colab-df-generate:hover {\n",
              "        background-color: #434B5C;\n",
              "        box-shadow: 0px 1px 3px 1px rgba(0, 0, 0, 0.15);\n",
              "        filter: drop-shadow(0px 1px 2px rgba(0, 0, 0, 0.3));\n",
              "        fill: #FFFFFF;\n",
              "      }\n",
              "    </style>\n",
              "    <button class=\"colab-df-generate\" onclick=\"generateWithVariable('RedFarm_df')\"\n",
              "            title=\"Generate code using this dataframe.\"\n",
              "            style=\"display:none;\">\n",
              "\n",
              "  <svg xmlns=\"http://www.w3.org/2000/svg\" height=\"24px\"viewBox=\"0 0 24 24\"\n",
              "       width=\"24px\">\n",
              "    <path d=\"M7,19H8.4L18.45,9,17,7.55,7,17.6ZM5,21V16.75L18.45,3.32a2,2,0,0,1,2.83,0l1.4,1.43a1.91,1.91,0,0,1,.58,1.4,1.91,1.91,0,0,1-.58,1.4L9.25,21ZM18.45,9,17,7.55Zm-12,3A5.31,5.31,0,0,0,4.9,8.1,5.31,5.31,0,0,0,1,6.5,5.31,5.31,0,0,0,4.9,4.9,5.31,5.31,0,0,0,6.5,1,5.31,5.31,0,0,0,8.1,4.9,5.31,5.31,0,0,0,12,6.5,5.46,5.46,0,0,0,6.5,12Z\"/>\n",
              "  </svg>\n",
              "    </button>\n",
              "    <script>\n",
              "      (() => {\n",
              "      const buttonEl =\n",
              "        document.querySelector('#id_114ee420-2324-4e6c-bb91-f3b4e3879204 button.colab-df-generate');\n",
              "      buttonEl.style.display =\n",
              "        google.colab.kernel.accessAllowed ? 'block' : 'none';\n",
              "\n",
              "      buttonEl.onclick = () => {\n",
              "        google.colab.notebook.generateWithVariable('RedFarm_df');\n",
              "      }\n",
              "      })();\n",
              "    </script>\n",
              "  </div>\n",
              "\n",
              "    </div>\n",
              "  </div>\n"
            ],
            "application/vnd.google.colaboratory.intrinsic+json": {
              "type": "dataframe",
              "variable_name": "RedFarm_df",
              "summary": "{\n  \"name\": \"RedFarm_df\",\n  \"rows\": 114,\n  \"fields\": [\n    {\n      \"column\": \"order_id\",\n      \"properties\": {\n        \"dtype\": \"number\",\n        \"std\": 531,\n        \"min\": 1476588,\n        \"max\": 1478441,\n        \"num_unique_values\": 114,\n        \"samples\": [\n          1477842,\n          1476841,\n          1476964\n        ],\n        \"semantic_type\": \"\",\n        \"description\": \"\"\n      }\n    },\n    {\n      \"column\": \"customer_id\",\n      \"properties\": {\n        \"dtype\": \"number\",\n        \"std\": 120157,\n        \"min\": 36118,\n        \"max\": 402215,\n        \"num_unique_values\": 86,\n        \"samples\": [\n          123535,\n          47280,\n          338599\n        ],\n        \"semantic_type\": \"\",\n        \"description\": \"\"\n      }\n    },\n    {\n      \"column\": \"restaurant_name\",\n      \"properties\": {\n        \"dtype\": \"category\",\n        \"num_unique_values\": 2,\n        \"samples\": [\n          \"RedFarm Broadway\",\n          \"RedFarm Hudson\"\n        ],\n        \"semantic_type\": \"\",\n        \"description\": \"\"\n      }\n    },\n    {\n      \"column\": \"cuisine_type\",\n      \"properties\": {\n        \"dtype\": \"category\",\n        \"num_unique_values\": 1,\n        \"samples\": [\n          \"Chinese\"\n        ],\n        \"semantic_type\": \"\",\n        \"description\": \"\"\n      }\n    },\n    {\n      \"column\": \"cost_of_the_order\",\n      \"properties\": {\n        \"dtype\": \"number\",\n        \"std\": 7.598462037654757,\n        \"min\": 4.75,\n        \"max\": 33.03,\n        \"num_unique_values\": 76,\n        \"samples\": [\n          12.46\n        ],\n        \"semantic_type\": \"\",\n        \"description\": \"\"\n      }\n    },\n    {\n      \"column\": \"day_of_the_week\",\n      \"properties\": {\n        \"dtype\": \"category\",\n        \"num_unique_values\": 2,\n        \"samples\": [\n          \"Weekday\"\n        ],\n        \"semantic_type\": \"\",\n        \"description\": \"\"\n      }\n    },\n    {\n      \"column\": \"rating\",\n      \"properties\": {\n        \"dtype\": \"category\",\n        \"num_unique_values\": 4,\n        \"samples\": [\n          \"5\"\n        ],\n        \"semantic_type\": \"\",\n        \"description\": \"\"\n      }\n    },\n    {\n      \"column\": \"food_preparation_time\",\n      \"properties\": {\n        \"dtype\": \"number\",\n        \"std\": 4,\n        \"min\": 20,\n        \"max\": 35,\n        \"num_unique_values\": 16,\n        \"samples\": [\n          25\n        ],\n        \"semantic_type\": \"\",\n        \"description\": \"\"\n      }\n    },\n    {\n      \"column\": \"delivery_time\",\n      \"properties\": {\n        \"dtype\": \"number\",\n        \"std\": 4,\n        \"min\": 15,\n        \"max\": 33,\n        \"num_unique_values\": 19,\n        \"samples\": [\n          24\n        ],\n        \"semantic_type\": \"\",\n        \"description\": \"\"\n      }\n    }\n  ]\n}"
            }
          },
          "metadata": {},
          "execution_count": 362
        }
      ]
    },
    {
      "cell_type": "code",
      "source": [
        "#find number of locations using head function\n",
        "\n",
        "print(\"Names of REDFARM restaurants location:\",RedFarm_df['restaurant_name'].unique())\n",
        "df_test = RedFarm_df['restaurant_name'].unique()\n",
        "# Using numpy.unique\n",
        "unique, counts = np.unique(df_test, return_counts=True)\n",
        "#print(dict(zip(unique, counts)))\n",
        "\n",
        "# Using collections.Counter\n",
        "import collections\n",
        "counter = collections.Counter(df_test)\n",
        "print(counter)\n",
        "\n",
        "\n",
        "\n",
        "#print(\"test\",df_test.count())\n",
        "\n"
      ],
      "metadata": {
        "colab": {
          "base_uri": "https://localhost:8080/"
        },
        "id": "k3tzPo0HyCUG",
        "outputId": "36865b4f-fee5-4533-e82d-adfcb63f3082"
      },
      "execution_count": 363,
      "outputs": [
        {
          "output_type": "stream",
          "name": "stdout",
          "text": [
            "Names of REDFARM restaurants location: ['RedFarm Hudson' 'RedFarm Broadway']\n",
            "Counter({'RedFarm Hudson': 1, 'RedFarm Broadway': 1})\n"
          ]
        }
      ]
    },
    {
      "cell_type": "markdown",
      "metadata": {
        "id": "gWPMqGq0JY_U"
      },
      "source": [
        "### **Question 8**: Which is the most popular cuisine on weekends? [1 mark]"
      ]
    },
    {
      "cell_type": "code",
      "execution_count": 364,
      "metadata": {
        "id": "c-Xnus3VJY_U",
        "colab": {
          "base_uri": "https://localhost:8080/",
          "height": 617
        },
        "outputId": "9cbbfbed-3f34-471c-e103-d75cab150126"
      },
      "outputs": [
        {
          "output_type": "execute_result",
          "data": {
            "text/plain": [
              "      order_id  customer_id                        restaurant_name  \\\n",
              "0      1477147       337525                                Hangawi   \n",
              "1      1477685       358141              Blue Ribbon Sushi Izakaya   \n",
              "3      1477334       106968              Blue Ribbon Fried Chicken   \n",
              "6      1477894       157711                      The Meatball Shop   \n",
              "11     1478437       221206                 Empanada Mama (closed)   \n",
              "...        ...          ...                                    ...   \n",
              "1891   1476981       138586                            Shake Shack   \n",
              "1892   1477473        97838                            Han Dynasty   \n",
              "1893   1476701       292602  Chipotle Mexican Grill $1.99 Delivery   \n",
              "1894   1477421       397537                              The Smile   \n",
              "1897   1478056       120353                      Blue Ribbon Sushi   \n",
              "\n",
              "     cuisine_type  cost_of_the_order day_of_the_week     rating  \\\n",
              "0          Korean              30.75         Weekend  Not given   \n",
              "1        Japanese              12.08         Weekend  Not given   \n",
              "3        American              29.20         Weekend          3   \n",
              "6         Italian               6.07         Weekend  Not given   \n",
              "11        Mexican               8.10         Weekend          5   \n",
              "...           ...                ...             ...        ...   \n",
              "1891     American               5.82         Weekend  Not given   \n",
              "1892      Chinese              29.15         Weekend  Not given   \n",
              "1893      Mexican              22.31         Weekend          5   \n",
              "1894     American              12.18         Weekend          5   \n",
              "1897     Japanese              19.45         Weekend  Not given   \n",
              "\n",
              "      food_preparation_time  delivery_time  \n",
              "0                        25             20  \n",
              "1                        25             23  \n",
              "3                        25             15  \n",
              "6                        28             21  \n",
              "11                       23             22  \n",
              "...                     ...            ...  \n",
              "1891                     22             28  \n",
              "1892                     29             21  \n",
              "1893                     31             17  \n",
              "1894                     31             19  \n",
              "1897                     28             24  \n",
              "\n",
              "[1351 rows x 9 columns]"
            ],
            "text/html": [
              "\n",
              "  <div id=\"df-8ce9f758-c473-434e-a10c-17c6ad21e112\" class=\"colab-df-container\">\n",
              "    <div>\n",
              "<style scoped>\n",
              "    .dataframe tbody tr th:only-of-type {\n",
              "        vertical-align: middle;\n",
              "    }\n",
              "\n",
              "    .dataframe tbody tr th {\n",
              "        vertical-align: top;\n",
              "    }\n",
              "\n",
              "    .dataframe thead th {\n",
              "        text-align: right;\n",
              "    }\n",
              "</style>\n",
              "<table border=\"1\" class=\"dataframe\">\n",
              "  <thead>\n",
              "    <tr style=\"text-align: right;\">\n",
              "      <th></th>\n",
              "      <th>order_id</th>\n",
              "      <th>customer_id</th>\n",
              "      <th>restaurant_name</th>\n",
              "      <th>cuisine_type</th>\n",
              "      <th>cost_of_the_order</th>\n",
              "      <th>day_of_the_week</th>\n",
              "      <th>rating</th>\n",
              "      <th>food_preparation_time</th>\n",
              "      <th>delivery_time</th>\n",
              "    </tr>\n",
              "  </thead>\n",
              "  <tbody>\n",
              "    <tr>\n",
              "      <th>0</th>\n",
              "      <td>1477147</td>\n",
              "      <td>337525</td>\n",
              "      <td>Hangawi</td>\n",
              "      <td>Korean</td>\n",
              "      <td>30.75</td>\n",
              "      <td>Weekend</td>\n",
              "      <td>Not given</td>\n",
              "      <td>25</td>\n",
              "      <td>20</td>\n",
              "    </tr>\n",
              "    <tr>\n",
              "      <th>1</th>\n",
              "      <td>1477685</td>\n",
              "      <td>358141</td>\n",
              "      <td>Blue Ribbon Sushi Izakaya</td>\n",
              "      <td>Japanese</td>\n",
              "      <td>12.08</td>\n",
              "      <td>Weekend</td>\n",
              "      <td>Not given</td>\n",
              "      <td>25</td>\n",
              "      <td>23</td>\n",
              "    </tr>\n",
              "    <tr>\n",
              "      <th>3</th>\n",
              "      <td>1477334</td>\n",
              "      <td>106968</td>\n",
              "      <td>Blue Ribbon Fried Chicken</td>\n",
              "      <td>American</td>\n",
              "      <td>29.20</td>\n",
              "      <td>Weekend</td>\n",
              "      <td>3</td>\n",
              "      <td>25</td>\n",
              "      <td>15</td>\n",
              "    </tr>\n",
              "    <tr>\n",
              "      <th>6</th>\n",
              "      <td>1477894</td>\n",
              "      <td>157711</td>\n",
              "      <td>The Meatball Shop</td>\n",
              "      <td>Italian</td>\n",
              "      <td>6.07</td>\n",
              "      <td>Weekend</td>\n",
              "      <td>Not given</td>\n",
              "      <td>28</td>\n",
              "      <td>21</td>\n",
              "    </tr>\n",
              "    <tr>\n",
              "      <th>11</th>\n",
              "      <td>1478437</td>\n",
              "      <td>221206</td>\n",
              "      <td>Empanada Mama (closed)</td>\n",
              "      <td>Mexican</td>\n",
              "      <td>8.10</td>\n",
              "      <td>Weekend</td>\n",
              "      <td>5</td>\n",
              "      <td>23</td>\n",
              "      <td>22</td>\n",
              "    </tr>\n",
              "    <tr>\n",
              "      <th>...</th>\n",
              "      <td>...</td>\n",
              "      <td>...</td>\n",
              "      <td>...</td>\n",
              "      <td>...</td>\n",
              "      <td>...</td>\n",
              "      <td>...</td>\n",
              "      <td>...</td>\n",
              "      <td>...</td>\n",
              "      <td>...</td>\n",
              "    </tr>\n",
              "    <tr>\n",
              "      <th>1891</th>\n",
              "      <td>1476981</td>\n",
              "      <td>138586</td>\n",
              "      <td>Shake Shack</td>\n",
              "      <td>American</td>\n",
              "      <td>5.82</td>\n",
              "      <td>Weekend</td>\n",
              "      <td>Not given</td>\n",
              "      <td>22</td>\n",
              "      <td>28</td>\n",
              "    </tr>\n",
              "    <tr>\n",
              "      <th>1892</th>\n",
              "      <td>1477473</td>\n",
              "      <td>97838</td>\n",
              "      <td>Han Dynasty</td>\n",
              "      <td>Chinese</td>\n",
              "      <td>29.15</td>\n",
              "      <td>Weekend</td>\n",
              "      <td>Not given</td>\n",
              "      <td>29</td>\n",
              "      <td>21</td>\n",
              "    </tr>\n",
              "    <tr>\n",
              "      <th>1893</th>\n",
              "      <td>1476701</td>\n",
              "      <td>292602</td>\n",
              "      <td>Chipotle Mexican Grill $1.99 Delivery</td>\n",
              "      <td>Mexican</td>\n",
              "      <td>22.31</td>\n",
              "      <td>Weekend</td>\n",
              "      <td>5</td>\n",
              "      <td>31</td>\n",
              "      <td>17</td>\n",
              "    </tr>\n",
              "    <tr>\n",
              "      <th>1894</th>\n",
              "      <td>1477421</td>\n",
              "      <td>397537</td>\n",
              "      <td>The Smile</td>\n",
              "      <td>American</td>\n",
              "      <td>12.18</td>\n",
              "      <td>Weekend</td>\n",
              "      <td>5</td>\n",
              "      <td>31</td>\n",
              "      <td>19</td>\n",
              "    </tr>\n",
              "    <tr>\n",
              "      <th>1897</th>\n",
              "      <td>1478056</td>\n",
              "      <td>120353</td>\n",
              "      <td>Blue Ribbon Sushi</td>\n",
              "      <td>Japanese</td>\n",
              "      <td>19.45</td>\n",
              "      <td>Weekend</td>\n",
              "      <td>Not given</td>\n",
              "      <td>28</td>\n",
              "      <td>24</td>\n",
              "    </tr>\n",
              "  </tbody>\n",
              "</table>\n",
              "<p>1351 rows × 9 columns</p>\n",
              "</div>\n",
              "    <div class=\"colab-df-buttons\">\n",
              "\n",
              "  <div class=\"colab-df-container\">\n",
              "    <button class=\"colab-df-convert\" onclick=\"convertToInteractive('df-8ce9f758-c473-434e-a10c-17c6ad21e112')\"\n",
              "            title=\"Convert this dataframe to an interactive table.\"\n",
              "            style=\"display:none;\">\n",
              "\n",
              "  <svg xmlns=\"http://www.w3.org/2000/svg\" height=\"24px\" viewBox=\"0 -960 960 960\">\n",
              "    <path d=\"M120-120v-720h720v720H120Zm60-500h600v-160H180v160Zm220 220h160v-160H400v160Zm0 220h160v-160H400v160ZM180-400h160v-160H180v160Zm440 0h160v-160H620v160ZM180-180h160v-160H180v160Zm440 0h160v-160H620v160Z\"/>\n",
              "  </svg>\n",
              "    </button>\n",
              "\n",
              "  <style>\n",
              "    .colab-df-container {\n",
              "      display:flex;\n",
              "      gap: 12px;\n",
              "    }\n",
              "\n",
              "    .colab-df-convert {\n",
              "      background-color: #E8F0FE;\n",
              "      border: none;\n",
              "      border-radius: 50%;\n",
              "      cursor: pointer;\n",
              "      display: none;\n",
              "      fill: #1967D2;\n",
              "      height: 32px;\n",
              "      padding: 0 0 0 0;\n",
              "      width: 32px;\n",
              "    }\n",
              "\n",
              "    .colab-df-convert:hover {\n",
              "      background-color: #E2EBFA;\n",
              "      box-shadow: 0px 1px 2px rgba(60, 64, 67, 0.3), 0px 1px 3px 1px rgba(60, 64, 67, 0.15);\n",
              "      fill: #174EA6;\n",
              "    }\n",
              "\n",
              "    .colab-df-buttons div {\n",
              "      margin-bottom: 4px;\n",
              "    }\n",
              "\n",
              "    [theme=dark] .colab-df-convert {\n",
              "      background-color: #3B4455;\n",
              "      fill: #D2E3FC;\n",
              "    }\n",
              "\n",
              "    [theme=dark] .colab-df-convert:hover {\n",
              "      background-color: #434B5C;\n",
              "      box-shadow: 0px 1px 3px 1px rgba(0, 0, 0, 0.15);\n",
              "      filter: drop-shadow(0px 1px 2px rgba(0, 0, 0, 0.3));\n",
              "      fill: #FFFFFF;\n",
              "    }\n",
              "  </style>\n",
              "\n",
              "    <script>\n",
              "      const buttonEl =\n",
              "        document.querySelector('#df-8ce9f758-c473-434e-a10c-17c6ad21e112 button.colab-df-convert');\n",
              "      buttonEl.style.display =\n",
              "        google.colab.kernel.accessAllowed ? 'block' : 'none';\n",
              "\n",
              "      async function convertToInteractive(key) {\n",
              "        const element = document.querySelector('#df-8ce9f758-c473-434e-a10c-17c6ad21e112');\n",
              "        const dataTable =\n",
              "          await google.colab.kernel.invokeFunction('convertToInteractive',\n",
              "                                                    [key], {});\n",
              "        if (!dataTable) return;\n",
              "\n",
              "        const docLinkHtml = 'Like what you see? Visit the ' +\n",
              "          '<a target=\"_blank\" href=https://colab.research.google.com/notebooks/data_table.ipynb>data table notebook</a>'\n",
              "          + ' to learn more about interactive tables.';\n",
              "        element.innerHTML = '';\n",
              "        dataTable['output_type'] = 'display_data';\n",
              "        await google.colab.output.renderOutput(dataTable, element);\n",
              "        const docLink = document.createElement('div');\n",
              "        docLink.innerHTML = docLinkHtml;\n",
              "        element.appendChild(docLink);\n",
              "      }\n",
              "    </script>\n",
              "  </div>\n",
              "\n",
              "\n",
              "<div id=\"df-5b27e75c-8f24-4b19-8416-bd17d0ae7075\">\n",
              "  <button class=\"colab-df-quickchart\" onclick=\"quickchart('df-5b27e75c-8f24-4b19-8416-bd17d0ae7075')\"\n",
              "            title=\"Suggest charts\"\n",
              "            style=\"display:none;\">\n",
              "\n",
              "<svg xmlns=\"http://www.w3.org/2000/svg\" height=\"24px\"viewBox=\"0 0 24 24\"\n",
              "     width=\"24px\">\n",
              "    <g>\n",
              "        <path d=\"M19 3H5c-1.1 0-2 .9-2 2v14c0 1.1.9 2 2 2h14c1.1 0 2-.9 2-2V5c0-1.1-.9-2-2-2zM9 17H7v-7h2v7zm4 0h-2V7h2v10zm4 0h-2v-4h2v4z\"/>\n",
              "    </g>\n",
              "</svg>\n",
              "  </button>\n",
              "\n",
              "<style>\n",
              "  .colab-df-quickchart {\n",
              "      --bg-color: #E8F0FE;\n",
              "      --fill-color: #1967D2;\n",
              "      --hover-bg-color: #E2EBFA;\n",
              "      --hover-fill-color: #174EA6;\n",
              "      --disabled-fill-color: #AAA;\n",
              "      --disabled-bg-color: #DDD;\n",
              "  }\n",
              "\n",
              "  [theme=dark] .colab-df-quickchart {\n",
              "      --bg-color: #3B4455;\n",
              "      --fill-color: #D2E3FC;\n",
              "      --hover-bg-color: #434B5C;\n",
              "      --hover-fill-color: #FFFFFF;\n",
              "      --disabled-bg-color: #3B4455;\n",
              "      --disabled-fill-color: #666;\n",
              "  }\n",
              "\n",
              "  .colab-df-quickchart {\n",
              "    background-color: var(--bg-color);\n",
              "    border: none;\n",
              "    border-radius: 50%;\n",
              "    cursor: pointer;\n",
              "    display: none;\n",
              "    fill: var(--fill-color);\n",
              "    height: 32px;\n",
              "    padding: 0;\n",
              "    width: 32px;\n",
              "  }\n",
              "\n",
              "  .colab-df-quickchart:hover {\n",
              "    background-color: var(--hover-bg-color);\n",
              "    box-shadow: 0 1px 2px rgba(60, 64, 67, 0.3), 0 1px 3px 1px rgba(60, 64, 67, 0.15);\n",
              "    fill: var(--button-hover-fill-color);\n",
              "  }\n",
              "\n",
              "  .colab-df-quickchart-complete:disabled,\n",
              "  .colab-df-quickchart-complete:disabled:hover {\n",
              "    background-color: var(--disabled-bg-color);\n",
              "    fill: var(--disabled-fill-color);\n",
              "    box-shadow: none;\n",
              "  }\n",
              "\n",
              "  .colab-df-spinner {\n",
              "    border: 2px solid var(--fill-color);\n",
              "    border-color: transparent;\n",
              "    border-bottom-color: var(--fill-color);\n",
              "    animation:\n",
              "      spin 1s steps(1) infinite;\n",
              "  }\n",
              "\n",
              "  @keyframes spin {\n",
              "    0% {\n",
              "      border-color: transparent;\n",
              "      border-bottom-color: var(--fill-color);\n",
              "      border-left-color: var(--fill-color);\n",
              "    }\n",
              "    20% {\n",
              "      border-color: transparent;\n",
              "      border-left-color: var(--fill-color);\n",
              "      border-top-color: var(--fill-color);\n",
              "    }\n",
              "    30% {\n",
              "      border-color: transparent;\n",
              "      border-left-color: var(--fill-color);\n",
              "      border-top-color: var(--fill-color);\n",
              "      border-right-color: var(--fill-color);\n",
              "    }\n",
              "    40% {\n",
              "      border-color: transparent;\n",
              "      border-right-color: var(--fill-color);\n",
              "      border-top-color: var(--fill-color);\n",
              "    }\n",
              "    60% {\n",
              "      border-color: transparent;\n",
              "      border-right-color: var(--fill-color);\n",
              "    }\n",
              "    80% {\n",
              "      border-color: transparent;\n",
              "      border-right-color: var(--fill-color);\n",
              "      border-bottom-color: var(--fill-color);\n",
              "    }\n",
              "    90% {\n",
              "      border-color: transparent;\n",
              "      border-bottom-color: var(--fill-color);\n",
              "    }\n",
              "  }\n",
              "</style>\n",
              "\n",
              "  <script>\n",
              "    async function quickchart(key) {\n",
              "      const quickchartButtonEl =\n",
              "        document.querySelector('#' + key + ' button');\n",
              "      quickchartButtonEl.disabled = true;  // To prevent multiple clicks.\n",
              "      quickchartButtonEl.classList.add('colab-df-spinner');\n",
              "      try {\n",
              "        const charts = await google.colab.kernel.invokeFunction(\n",
              "            'suggestCharts', [key], {});\n",
              "      } catch (error) {\n",
              "        console.error('Error during call to suggestCharts:', error);\n",
              "      }\n",
              "      quickchartButtonEl.classList.remove('colab-df-spinner');\n",
              "      quickchartButtonEl.classList.add('colab-df-quickchart-complete');\n",
              "    }\n",
              "    (() => {\n",
              "      let quickchartButtonEl =\n",
              "        document.querySelector('#df-5b27e75c-8f24-4b19-8416-bd17d0ae7075 button');\n",
              "      quickchartButtonEl.style.display =\n",
              "        google.colab.kernel.accessAllowed ? 'block' : 'none';\n",
              "    })();\n",
              "  </script>\n",
              "</div>\n",
              "\n",
              "  <div id=\"id_861da042-41ea-457f-8fcb-2595b485cf31\">\n",
              "    <style>\n",
              "      .colab-df-generate {\n",
              "        background-color: #E8F0FE;\n",
              "        border: none;\n",
              "        border-radius: 50%;\n",
              "        cursor: pointer;\n",
              "        display: none;\n",
              "        fill: #1967D2;\n",
              "        height: 32px;\n",
              "        padding: 0 0 0 0;\n",
              "        width: 32px;\n",
              "      }\n",
              "\n",
              "      .colab-df-generate:hover {\n",
              "        background-color: #E2EBFA;\n",
              "        box-shadow: 0px 1px 2px rgba(60, 64, 67, 0.3), 0px 1px 3px 1px rgba(60, 64, 67, 0.15);\n",
              "        fill: #174EA6;\n",
              "      }\n",
              "\n",
              "      [theme=dark] .colab-df-generate {\n",
              "        background-color: #3B4455;\n",
              "        fill: #D2E3FC;\n",
              "      }\n",
              "\n",
              "      [theme=dark] .colab-df-generate:hover {\n",
              "        background-color: #434B5C;\n",
              "        box-shadow: 0px 1px 3px 1px rgba(0, 0, 0, 0.15);\n",
              "        filter: drop-shadow(0px 1px 2px rgba(0, 0, 0, 0.3));\n",
              "        fill: #FFFFFF;\n",
              "      }\n",
              "    </style>\n",
              "    <button class=\"colab-df-generate\" onclick=\"generateWithVariable('Weekend_Data')\"\n",
              "            title=\"Generate code using this dataframe.\"\n",
              "            style=\"display:none;\">\n",
              "\n",
              "  <svg xmlns=\"http://www.w3.org/2000/svg\" height=\"24px\"viewBox=\"0 0 24 24\"\n",
              "       width=\"24px\">\n",
              "    <path d=\"M7,19H8.4L18.45,9,17,7.55,7,17.6ZM5,21V16.75L18.45,3.32a2,2,0,0,1,2.83,0l1.4,1.43a1.91,1.91,0,0,1,.58,1.4,1.91,1.91,0,0,1-.58,1.4L9.25,21ZM18.45,9,17,7.55Zm-12,3A5.31,5.31,0,0,0,4.9,8.1,5.31,5.31,0,0,0,1,6.5,5.31,5.31,0,0,0,4.9,4.9,5.31,5.31,0,0,0,6.5,1,5.31,5.31,0,0,0,8.1,4.9,5.31,5.31,0,0,0,12,6.5,5.46,5.46,0,0,0,6.5,12Z\"/>\n",
              "  </svg>\n",
              "    </button>\n",
              "    <script>\n",
              "      (() => {\n",
              "      const buttonEl =\n",
              "        document.querySelector('#id_861da042-41ea-457f-8fcb-2595b485cf31 button.colab-df-generate');\n",
              "      buttonEl.style.display =\n",
              "        google.colab.kernel.accessAllowed ? 'block' : 'none';\n",
              "\n",
              "      buttonEl.onclick = () => {\n",
              "        google.colab.notebook.generateWithVariable('Weekend_Data');\n",
              "      }\n",
              "      })();\n",
              "    </script>\n",
              "  </div>\n",
              "\n",
              "    </div>\n",
              "  </div>\n"
            ],
            "application/vnd.google.colaboratory.intrinsic+json": {
              "type": "dataframe",
              "variable_name": "Weekend_Data",
              "summary": "{\n  \"name\": \"Weekend_Data\",\n  \"rows\": 1351,\n  \"fields\": [\n    {\n      \"column\": \"order_id\",\n      \"properties\": {\n        \"dtype\": \"number\",\n        \"std\": 554,\n        \"min\": 1476547,\n        \"max\": 1478444,\n        \"num_unique_values\": 1351,\n        \"samples\": [\n          1476643,\n          1478272,\n          1476910\n        ],\n        \"semantic_type\": \"\",\n        \"description\": \"\"\n      }\n    },\n    {\n      \"column\": \"customer_id\",\n      \"properties\": {\n        \"dtype\": \"number\",\n        \"std\": 113403,\n        \"min\": 1311,\n        \"max\": 405334,\n        \"num_unique_values\": 938,\n        \"samples\": [\n          234089,\n          86233,\n          342515\n        ],\n        \"semantic_type\": \"\",\n        \"description\": \"\"\n      }\n    },\n    {\n      \"column\": \"restaurant_name\",\n      \"properties\": {\n        \"dtype\": \"category\",\n        \"num_unique_values\": 159,\n        \"samples\": [\n          \"ilili Restaurant\",\n          \"Wa Jeal\",\n          \"Big Daddy's\"\n        ],\n        \"semantic_type\": \"\",\n        \"description\": \"\"\n      }\n    },\n    {\n      \"column\": \"cuisine_type\",\n      \"properties\": {\n        \"dtype\": \"category\",\n        \"num_unique_values\": 14,\n        \"samples\": [\n          \"Southern\",\n          \"Spanish\",\n          \"Korean\"\n        ],\n        \"semantic_type\": \"\",\n        \"description\": \"\"\n      }\n    },\n    {\n      \"column\": \"cost_of_the_order\",\n      \"properties\": {\n        \"dtype\": \"number\",\n        \"std\": 7.486978906001369,\n        \"min\": 4.47,\n        \"max\": 33.37,\n        \"num_unique_values\": 274,\n        \"samples\": [\n          21.88,\n          13.1,\n          5.48\n        ],\n        \"semantic_type\": \"\",\n        \"description\": \"\"\n      }\n    },\n    {\n      \"column\": \"day_of_the_week\",\n      \"properties\": {\n        \"dtype\": \"category\",\n        \"num_unique_values\": 1,\n        \"samples\": [\n          \"Weekend\"\n        ],\n        \"semantic_type\": \"\",\n        \"description\": \"\"\n      }\n    },\n    {\n      \"column\": \"rating\",\n      \"properties\": {\n        \"dtype\": \"category\",\n        \"num_unique_values\": 4,\n        \"samples\": [\n          \"3\"\n        ],\n        \"semantic_type\": \"\",\n        \"description\": \"\"\n      }\n    },\n    {\n      \"column\": \"food_preparation_time\",\n      \"properties\": {\n        \"dtype\": \"number\",\n        \"std\": 4,\n        \"min\": 20,\n        \"max\": 35,\n        \"num_unique_values\": 16,\n        \"samples\": [\n          25\n        ],\n        \"semantic_type\": \"\",\n        \"description\": \"\"\n      }\n    },\n    {\n      \"column\": \"delivery_time\",\n      \"properties\": {\n        \"dtype\": \"number\",\n        \"std\": 4,\n        \"min\": 15,\n        \"max\": 30,\n        \"num_unique_values\": 16,\n        \"samples\": [\n          20\n        ],\n        \"semantic_type\": \"\",\n        \"description\": \"\"\n      }\n    }\n  ]\n}"
            }
          },
          "metadata": {},
          "execution_count": 364
        }
      ],
      "source": [
        "# Write the code here\n",
        "\n",
        "Weekend_Data = Read_data[Read_data['day_of_the_week'] == 'Weekend']\n",
        "# viewing Weekend_Data\n",
        "#Most_pop_cusine_weekend = Weekend_Data.cuisine_type\n",
        "\n",
        "Weekend_Data\n"
      ]
    },
    {
      "cell_type": "code",
      "source": [
        "#Most popular cuisine on weekend\n",
        "Most_pop_cuisine_weekend = Weekend_Data.value_counts('cuisine_type').nlargest(1)\n",
        "#Most_pop_cuisine_weekend1 =Most_pop_cusine_weekend.to_csv('Most_pop_cusine_weekend.csv',header=)\n",
        "print (\"The most popular cuisine on weekend is : \",Most_pop_cuisine_weekend )\n",
        "#print(type(Most_pop_cuisine_weekend))\n",
        "#print(Most_pop_cuisine_weekend.to_string(index=False))\n",
        "\n",
        "#Most_pop_cuisine_weekend.drop(labels=Most_pop_cuisine_weekend.index[1], inplace=False)\n"
      ],
      "metadata": {
        "colab": {
          "base_uri": "https://localhost:8080/"
        },
        "id": "P0ASK-BYO2Yx",
        "outputId": "55b8a670-dee9-4095-dbdc-984a48829be0"
      },
      "execution_count": 365,
      "outputs": [
        {
          "output_type": "stream",
          "name": "stdout",
          "text": [
            "The most popular cuisine on weekend is :  cuisine_type\n",
            "American    415\n",
            "Name: count, dtype: int64\n"
          ]
        }
      ]
    },
    {
      "cell_type": "markdown",
      "source": [
        "#Additional analysis"
      ],
      "metadata": {
        "id": "ZLbcGZA8OiOD"
      }
    },
    {
      "cell_type": "code",
      "source": [
        "Weekend_Data = Read_data[Read_data['day_of_the_week'] == 'Weekend']\n",
        "# viewing Weekend_Data\n",
        "#Most_pop_cusine_weekend = Weekend_Data.cuisine_type\n",
        "\n",
        "Weekend_Data\n",
        "#Most popular cuisine on weekend\n",
        "Most_pop_cuisine_weekend = Weekend_Data.value_counts('cuisine_type').nlargest(1)\n",
        "#Most_pop_cuisine_weekend1 =Most_pop_cusine_weekend.to_csv('Most_pop_cusine_weekend.csv',header=)\n",
        "print (\"The most popular cuisine on weekend is : \",Most_pop_cuisine_weekend )\n",
        "#print(type(Most_pop_cuisine_weekend))\n",
        "\n",
        "Weekday_Data = Read_data[Read_data['day_of_the_week'] == 'Weekday']\n",
        "# viewing Weekend_Data\n",
        "#Most_pop_cusine_weekend = Weekend_Data.cuisine_type\n",
        "\n",
        "Weekday_Data\n",
        "#Most popular cuisine on weekend\n",
        "Most_pop_cuisine_weekday = Weekday_Data.value_counts('cuisine_type').nlargest(1)\n",
        "#Most_pop_cuisine_weekend1 =Most_pop_cusine_weekend.to_csv('Most_pop_cusine_weekend.csv',header=)\n",
        "print (\"The most popular cuisine on weekday is : \",Most_pop_cuisine_weekday )\n",
        "#print(type(Most_pop_cuisine_weekend))\n",
        "\n"
      ],
      "metadata": {
        "colab": {
          "base_uri": "https://localhost:8080/"
        },
        "id": "J-xfZhZvNjc2",
        "outputId": "e4b88fa3-68c2-48d2-fac0-eaa6191e21fe"
      },
      "execution_count": 366,
      "outputs": [
        {
          "output_type": "stream",
          "name": "stdout",
          "text": [
            "The most popular cuisine on weekend is :  cuisine_type\n",
            "American    415\n",
            "Name: count, dtype: int64\n",
            "The most popular cuisine on weekday is :  cuisine_type\n",
            "American    169\n",
            "Name: count, dtype: int64\n"
          ]
        }
      ]
    },
    {
      "cell_type": "markdown",
      "metadata": {
        "id": "bpQ270TUJY_U"
      },
      "source": [
        "#### Observations:\n",
        "**American cuisine has the most orders on the weekend tallying to 415 orders**.\n"
      ]
    },
    {
      "cell_type": "markdown",
      "metadata": {
        "id": "88xgTqkxJY_U"
      },
      "source": [
        "### **Question 9**: What percentage of the orders cost more than 20 dollars? [2 marks]"
      ]
    },
    {
      "cell_type": "code",
      "execution_count": 367,
      "metadata": {
        "id": "OTpHyTdzJY_U",
        "colab": {
          "base_uri": "https://localhost:8080/"
        },
        "outputId": "e4d11f91-0048-4ed2-a276-63ae761f9f44"
      },
      "outputs": [
        {
          "output_type": "stream",
          "name": "stdout",
          "text": [
            "555\n",
            "1898\n",
            "Percentage of orders above 20 dollars: 29.24 %\n"
          ]
        }
      ],
      "source": [
        "# Write the code here\n",
        "\n",
        "Perc = (Read_data[Read_data['cost_of_the_order']>20].shape[0]/Read_data.shape[0])*100\n",
        "print(Read_data[Read_data['cost_of_the_order']>20].shape[0])\n",
        "print(Read_data.shape[0])\n",
        "\n",
        "\n",
        "print(\"Percentage of orders above 20 dollars:\", round(Perc, 2), '%')"
      ]
    },
    {
      "cell_type": "markdown",
      "metadata": {
        "id": "77KNAC5zJY_U"
      },
      "source": [
        "#### Observations:\n",
        "**About 29 percent of the orders are priced at 20 dollars**"
      ]
    },
    {
      "cell_type": "markdown",
      "metadata": {
        "id": "HFyHn7hsJY_V"
      },
      "source": [
        "### **Question 10**: What is the mean order delivery time? [1 mark]"
      ]
    },
    {
      "cell_type": "code",
      "execution_count": 368,
      "metadata": {
        "id": "cyFL13hNJY_V",
        "colab": {
          "base_uri": "https://localhost:8080/"
        },
        "outputId": "8c4b4519-e188-44a8-8fc1-648635e92b39"
      },
      "outputs": [
        {
          "output_type": "stream",
          "name": "stdout",
          "text": [
            "24.161749209694417\n",
            "The mean delivery time for this dataset is 24.16 minutes\n"
          ]
        }
      ],
      "source": [
        "# Write the code here\n",
        "Mean_del_time= Read_data['delivery_time'].mean()\n",
        "print(Mean_del_time)\n",
        "\n",
        "print('The mean delivery time for this dataset is', round(Mean_del_time, 2), 'minutes')"
      ]
    },
    {
      "cell_type": "markdown",
      "metadata": {
        "id": "F35SRV-HJY_V"
      },
      "source": [
        "#### Observations:\n",
        "\n",
        "**Mean order Delivery time is 24 minutes**\n"
      ]
    },
    {
      "cell_type": "markdown",
      "metadata": {
        "id": "48IjaOuDJY_V"
      },
      "source": [
        "### **Question 11:** The company has decided to give 20% discount vouchers to the top 3 most frequent customers. Find the IDs of these customers and the number of orders they placed. [1 mark]"
      ]
    },
    {
      "cell_type": "code",
      "source": [
        "# Write the code here\n",
        "#count of customer id - to find the frequency\n",
        "customer_data = Read_data['customer_id']\n",
        "\n",
        "# Get the counts of  each customer_id\n",
        "Read_data['customer_id'].value_counts().head(3)"
      ],
      "metadata": {
        "colab": {
          "base_uri": "https://localhost:8080/"
        },
        "id": "LiWUg2jEoTE4",
        "outputId": "3d58a64e-60b1-4b25-9eb3-972c2b7d600a"
      },
      "execution_count": 369,
      "outputs": [
        {
          "output_type": "execute_result",
          "data": {
            "text/plain": [
              "customer_id\n",
              "52832    13\n",
              "47440    10\n",
              "83287     9\n",
              "Name: count, dtype: int64"
            ]
          },
          "metadata": {},
          "execution_count": 369
        }
      ]
    },
    {
      "cell_type": "code",
      "execution_count": 370,
      "metadata": {
        "id": "Hz8-DE4Zge0j",
        "colab": {
          "base_uri": "https://localhost:8080/",
          "height": 576
        },
        "outputId": "cc9ee6ed-8b50-4e37-cbae-d0dd5fd6a9c6"
      },
      "outputs": [
        {
          "output_type": "stream",
          "name": "stdout",
          "text": [
            "customer_id\n",
            "52832    13\n",
            "47440    10\n",
            "83287     9\n",
            "Name: count, dtype: int64\n",
            "<class 'pandas.core.series.Series'>\n"
          ]
        },
        {
          "output_type": "display_data",
          "data": {
            "text/plain": [
              "<Figure size 640x480 with 1 Axes>"
            ],
            "image/png": "[encoded data removed]"
          },
          "metadata": {}
        }
      ],
      "source": [
        "\n",
        "\n",
        "TOP_3_customer_id = Read_data.value_counts(customer_data).nlargest(3)\n",
        "print(TOP_3_customer_id)\n",
        "print(type(TOP_3_customer_id))\n",
        "\n",
        "# adding countplot for visualization\n",
        "\n",
        "sns.countplot(x=TOP_3_customer_id)\n",
        "plt.xlabel('Customer_id')\n",
        "plt.ylabel('Count')\n",
        "plt.title('Count Plot for Customers')\n",
        "plt.show()\n",
        "\n",
        "for i, count in enumerate(TOP_3_customer_id):\n",
        "    ax.annotate(f\"{count}\", xy=(i, count), ha='center', va='bottom')\n",
        "\n",
        "plt.show()"
      ]
    },
    {
      "cell_type": "markdown",
      "metadata": {
        "id": "9tWVwfX6JY_V"
      },
      "source": [
        "#### Observations:\n",
        "The top 3 customers are the following -\n",
        "\n",
        "*   52832  with   13 orders\n",
        "\n",
        "\n",
        "*   47440  with   10 orders\n",
        "\n",
        "* 83287    with  9   orders\n",
        "\n",
        "\n",
        "\n"
      ]
    },
    {
      "cell_type": "markdown",
      "metadata": {
        "id": "AfIc2jPaJY_V"
      },
      "source": [
        "### Multivariate Analysis"
      ]
    },
    {
      "cell_type": "markdown",
      "metadata": {
        "id": "iqiS0RT_JY_V"
      },
      "source": [
        "### **Question 12**: Perform a multivariate analysis to explore relationships between the important variables in the dataset. (It is a good idea to explore relations between numerical variables as well as relations between numerical and categorical variables) [10 marks]\n"
      ]
    },
    {
      "cell_type": "markdown",
      "source": [
        "#### Cuisine vs Cost of the order"
      ],
      "metadata": {
        "id": "lWDM-L71oekK"
      }
    },
    {
      "cell_type": "code",
      "source": [
        "# Relationship between cost of the order and cuisine type\n",
        "plt.figure(figsize=(15,7))\n",
        "sns.boxplot(x = \"cuisine_type\", y = \"cost_of_the_order\", data = Read_data, palette = 'PuBu', hue = \"cuisine_type\")\n",
        "plt.xticks(rotation = 60)\n",
        "plt.show()"
      ],
      "metadata": {
        "colab": {
          "base_uri": "https://localhost:8080/",
          "height": 493
        },
        "id": "WJzALtTBokXb",
        "outputId": "71a66431-630c-440b-9a6d-9363c17cdf20"
      },
      "execution_count": 371,
      "outputs": [
        {
          "output_type": "display_data",
          "data": {
            "text/plain": [
              "<Figure size 1500x700 with 1 Axes>"
            ],
            "image/png": "[encoded data removed]"
          },
          "metadata": {}
        }
      ]
    },
    {
      "cell_type": "markdown",
      "source": [
        "#Observations\n",
        "Mediterranean cuisine seems to have some outliers that show that they are more expensive in some cases.\n",
        "\n",
        "Korean Cusine seems to have outliers  that shows that they are least expensive in some cases\n",
        "\n",
        "Vietnamese cuisine seems to be the least priced ."
      ],
      "metadata": {
        "id": "CBbrrESLo3SW"
      }
    },
    {
      "cell_type": "markdown",
      "source": [
        "#### Cuisine vs Food Preparation time"
      ],
      "metadata": {
        "id": "8imcUAKIp6me"
      }
    },
    {
      "cell_type": "code",
      "source": [
        "plt.figure(figsize=(15,7))\n",
        "sns.boxplot(x = \"cuisine_type\", y = 'food_preparation_time', data = Read_data,palette = 'Spectral', hue = \"cuisine_type\")\n",
        "plt.xticks(rotation = 60)\n",
        "plt.show()"
      ],
      "metadata": {
        "colab": {
          "base_uri": "https://localhost:8080/",
          "height": 493
        },
        "id": "1nY_KaRup9-F",
        "outputId": "1c180e20-0165-461f-ba71-2fe12cb05091"
      },
      "execution_count": 372,
      "outputs": [
        {
          "output_type": "display_data",
          "data": {
            "text/plain": [
              "<Figure size 1500x700 with 1 Axes>"
            ],
            "image/png": "[encoded data removed]"
          },
          "metadata": {}
        }
      ]
    },
    {
      "cell_type": "markdown",
      "source": [
        "#Observations\n",
        "\n",
        "Korean cusine takes the shortest time to prepare under 30 mins\n",
        "\n",
        "Majority (11) of the cuisine take more than 34 mins to prepare\n",
        "\n",
        "Middle Eastern cuisine dishes mostly seems to have the least preparation time\n",
        "\n",
        "\n",
        "\n",
        "\n",
        "\n"
      ],
      "metadata": {
        "id": "byi9R_WHs-Wp"
      }
    },
    {
      "cell_type": "markdown",
      "source": [
        "#### Day of the Week vs Delivery time"
      ],
      "metadata": {
        "id": "lq6YbCnNxmmY"
      }
    },
    {
      "cell_type": "code",
      "source": [
        "# Relationship between day of the week and delivery time\n",
        "plt.figure(figsize=(15,7))\n",
        "sns.boxplot(x = \"day_of_the_week\", y = 'delivery_time', data = Read_data, palette = 'PuBu', hue = \"day_of_the_week\")\n",
        "plt.show()"
      ],
      "metadata": {
        "colab": {
          "base_uri": "https://localhost:8080/",
          "height": 431
        },
        "id": "fIeUIeXjx_8C",
        "outputId": "09bc6bf3-215f-457c-c28a-8589fa6a372a"
      },
      "execution_count": 373,
      "outputs": [
        {
          "output_type": "display_data",
          "data": {
            "text/plain": [
              "<Figure size 1500x700 with 1 Axes>"
            ],
            "image/png": "[encoded data removed]"
          },
          "metadata": {}
        }
      ]
    },
    {
      "cell_type": "markdown",
      "source": [
        "#Observation\n",
        "Delivery times are shorter on the weekend than weekday.\n"
      ],
      "metadata": {
        "id": "CXmmkS2P2b3B"
      }
    },
    {
      "cell_type": "markdown",
      "source": [
        "#Total Revenue for  Restaurant ordered in descending order for first 15 top revenue earners"
      ],
      "metadata": {
        "id": "X2zpVle243qs"
      }
    },
    {
      "cell_type": "code",
      "source": [
        "Read_data.groupby(['restaurant_name'])['cost_of_the_order'].sum().sort_values(ascending = False).head(15)"
      ],
      "metadata": {
        "colab": {
          "base_uri": "https://localhost:8080/"
        },
        "id": "JyXfeDul4uND",
        "outputId": "06f5ee69-87cf-4c49-e422-415cdc615326"
      },
      "execution_count": 374,
      "outputs": [
        {
          "output_type": "execute_result",
          "data": {
            "text/plain": [
              "restaurant_name\n",
              "Shake Shack                      3579.53\n",
              "The Meatball Shop                2145.21\n",
              "Blue Ribbon Sushi                1903.95\n",
              "Blue Ribbon Fried Chicken        1662.29\n",
              "Parm                             1112.76\n",
              "RedFarm Broadway                  965.13\n",
              "RedFarm Hudson                    921.21\n",
              "TAO                               834.50\n",
              "Han Dynasty                       755.29\n",
              "Blue Ribbon Sushi Bar & Grill     666.62\n",
              "Rubirosa                          660.45\n",
              "Sushi of Gari 46                  640.87\n",
              "Nobu Next Door                    623.67\n",
              "Five Guys Burgers and Fries       506.47\n",
              "Momoya                            492.13\n",
              "Name: cost_of_the_order, dtype: float64"
            ]
          },
          "metadata": {},
          "execution_count": 374
        }
      ]
    },
    {
      "cell_type": "markdown",
      "source": [
        "#Rating Vs delivery time"
      ],
      "metadata": {
        "id": "D68k4RCn7Anm"
      }
    },
    {
      "cell_type": "code",
      "source": [
        "# Relationship between rating and delivery time\n",
        "plt.figure(figsize=(15, 7))\n",
        "sns.pointplot(x = 'rating', y = 'delivery_time', data = Read_data)\n",
        "plt.show()"
      ],
      "metadata": {
        "colab": {
          "base_uri": "https://localhost:8080/",
          "height": 428
        },
        "id": "V9jMF3l57BFi",
        "outputId": "6cd8cd10-98e3-4333-9670-c2474984209c"
      },
      "execution_count": 375,
      "outputs": [
        {
          "output_type": "display_data",
          "data": {
            "text/plain": [
              "<Figure size 1500x700 with 1 Axes>"
            ],
            "image/png": "[encoded data removed]"
          },
          "metadata": {}
        }
      ]
    },
    {
      "cell_type": "markdown",
      "source": [
        "# Observation\n",
        "rating and delivery time :\n",
        "The mean delivery time for this dataset is 24.16 minutes\n",
        "\n",
        "Point plot is usually used  to check  correlation between categorical and numerical values .\n",
        "\n",
        "The mean Delivery time for each rating is depicted here.\n",
        "\n",
        "Rating 5 - About 24.25 minutes is the mean delivery time\n",
        "\n",
        "Rating 4 - About 24 minutes is the mean delivery time\n",
        "Rating 3 - About 24.50 minutes is the mean delivery time\n",
        "\n",
        "**Which means that faster delivery time can improve Ratings **\n"
      ],
      "metadata": {
        "id": "i3QB9JQ47Yle"
      }
    },
    {
      "cell_type": "markdown",
      "source": [
        "#Rating vs Cost of the order"
      ],
      "metadata": {
        "id": "kJZbPkTSllA4"
      }
    },
    {
      "cell_type": "code",
      "source": [
        "# Relationship between rating and cost of the order\n",
        "plt.figure(figsize=(15, 7))\n",
        "sns.pointplot(x = 'rating', y = 'cost_of_the_order', data = Read_data)\n",
        "plt.show()\n",
        "\n",
        "\n"
      ],
      "metadata": {
        "colab": {
          "base_uri": "https://localhost:8080/",
          "height": 431
        },
        "id": "8vNgxgVglpqp",
        "outputId": "28149ba7-fc83-44fc-f955-632b283c25d9"
      },
      "execution_count": 376,
      "outputs": [
        {
          "output_type": "display_data",
          "data": {
            "text/plain": [
              "<Figure size 1500x700 with 1 Axes>"
            ],
            "image/png": "[encoded data removed]"
          },
          "metadata": {}
        }
      ]
    },
    {
      "cell_type": "markdown",
      "source": [
        "# Observation\n",
        "rating and Cost of the order  :\n",
        "\n",
        "\n",
        "Point plot is usually used  to check  correlation between categorical and numerical values .\n",
        "\n",
        "The mean COst of the order for each rating is depicted here.\n",
        "\n",
        "\n",
        "Rating 5 - About 17 dollars is the mean cost of order for this rating\n",
        "\n",
        "Rating 4 - About 16.50 dollars is the mean cost of the order for this rating\n",
        "Rating 3 - About 16 dollars  is the mean cost of order for this rating\n",
        "\n",
        "**Which means although average cost of order is about 16.50$ and Ratings are not really affected by price or cost of the order  **"
      ],
      "metadata": {
        "id": "21xMfTLEmIDP"
      }
    },
    {
      "cell_type": "markdown",
      "source": [
        "#### **Correlation by Heatmap**"
      ],
      "metadata": {
        "id": "EbIeHsTlg_k5"
      }
    },
    {
      "cell_type": "code",
      "execution_count": 377,
      "metadata": {
        "id": "3qt4MCNTJY_V",
        "colab": {
          "base_uri": "https://localhost:8080/",
          "height": 555
        },
        "outputId": "8c4efefb-b7d5-4728-b092-74f6371628a9"
      },
      "outputs": [
        {
          "output_type": "display_data",
          "data": {
            "text/plain": [
              "<Figure size 1000x500 with 2 Axes>"
            ],
            "image/png": "[encoded data removed]"
          },
          "metadata": {}
        }
      ],
      "source": [
        "# Write the code here\n",
        "\n",
        "#heatmap\n",
        "#Heatmap does not show categorical variables , hence choosing quantitative data\n",
        "plt.figure(figsize=(10,5))\n",
        "sns.heatmap(data=data_replace[['cost_of_the_order','food_preparation_time','delivery_time','order_id','customer_id','rating']].corr(), annot=True, vmin=-1, vmax=1, fmt=\".2f\", cmap=\"Spectral\");\n",
        "plt.show()\n",
        "#sns.heatmap(data.corr(), annot=True, cmap='YlGnBu') # vmin=-1, vmax= 1, );\n",
        "\n"
      ]
    },
    {
      "cell_type": "markdown",
      "source": [
        "#removing data that is not a value add : order id , Customer Id"
      ],
      "metadata": {
        "id": "Hd6bNTzEZLRJ"
      }
    },
    {
      "cell_type": "code",
      "source": [
        "sns.heatmap(data=Read_data[['cost_of_the_order','food_preparation_time','delivery_time']].corr(), annot=True, vmin=-1, vmax=1, fmt=\".2f\", cmap=\"Spectral\");\n",
        "plt.show()"
      ],
      "metadata": {
        "colab": {
          "base_uri": "https://localhost:8080/",
          "height": 579
        },
        "id": "0Y16ElFTNFCE",
        "outputId": "68150045-3e55-4f6d-cad8-209c1354e662"
      },
      "execution_count": 378,
      "outputs": [
        {
          "output_type": "display_data",
          "data": {
            "text/plain": [
              "<Figure size 640x480 with 2 Axes>"
            ],
            "image/png": "[encoded data removed]"
          },
          "metadata": {}
        }
      ]
    },
    {
      "cell_type": "markdown",
      "source": [
        "* *As expected, Cost of the order  shows high correlation with food preparation time.If order is expensive, then the time taken to prepare the dish carefully will be High. This is aligned with our intuitive understanding*\n",
        "* *Delivery time is negatively correlated with Cost of the order.*\n",
        "\n",
        "* *It is important to note that correlation does not imply causation*\n",
        "\n",
        "* *There seems to be a strong relationship between cost of the order  and Food preparation time*\n",
        "\n",
        "\n"
      ],
      "metadata": {
        "id": "tqJJPaarN7WU"
      }
    },
    {
      "cell_type": "markdown",
      "source": [
        "#### **Bivariate Scatter Plots**"
      ],
      "metadata": {
        "id": "_m_poKWFhcmM"
      }
    },
    {
      "cell_type": "markdown",
      "source": [
        "A **scatterplot** displays the relationship between 2 numeric variables. For each data point, the value of its first variable is represented on the X axis, the second on the Y axis\n",
        "\n",
        "![Screenshot 2022-02-26 153458.jpg](data:image/jpeg;base64,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)"
      ],
      "metadata": {
        "id": "zNQuBKwTqean"
      }
    },
    {
      "cell_type": "code",
      "source": [
        "data1=Read_data[['cost_of_the_order','food_preparation_time','delivery_time','order_id','customer_id']]\n",
        "\n",
        "sns.pairplot(data=data1, diag_kind=\"kde\")\n",
        "plt.show()"
      ],
      "metadata": {
        "id": "-EDSmW7VhghL"
      },
      "execution_count": null,
      "outputs": []
    },
    {
      "cell_type": "markdown",
      "source": [
        " - *We get the same insights as before from the correlation plot*\n",
        "- *There seems to be a strong relationship between cost of the order  and Food preparation time*"
      ],
      "metadata": {
        "id": "VcA8ioJ4iAc5"
      }
    },
    {
      "cell_type": "code",
      "source": [
        "#Countplot\n",
        "\n",
        "sns.countplot(data=Read_data, x='rating', hue='day_of_the_week');"
      ],
      "metadata": {
        "id": "tfHAXmsAo1kH"
      },
      "execution_count": null,
      "outputs": []
    },
    {
      "cell_type": "markdown",
      "metadata": {
        "id": "YLkMf09YJY_V"
      },
      "source": [
        "### **Question 13:** The company wants to provide a promotional offer in the advertisement of the restaurants. The condition to get the offer is that the restaurants must have a rating count of more than 50 and the average rating should be greater than 4. Find the restaurants fulfilling the criteria to get the promotional offer. [3 marks]"
      ]
    },
    {
      "cell_type": "code",
      "execution_count": null,
      "metadata": {
        "id": "0M_QDvbYJY_V"
      },
      "outputs": [],
      "source": [
        "# Write the code here\n",
        "#1) filter restaurant data that do not have a ratingas 'NOt Given'\n",
        "Rating_with_valid_data = Read_data[Read_data['rating'] != 'Not given']\n",
        "\n",
        "print(\"The data type of rating is :\",Rating_with_valid_data.dtypes['rating'])\n",
        "print(Rating_with_valid_data)\n",
        "\n",
        "\n"
      ]
    },
    {
      "cell_type": "code",
      "source": [
        "#2 Converting rating column converted to Integer datatype\n",
        "Rating_with_valid_data['rating'] = Rating_with_valid_data['rating'].astype(int)\n",
        "print(\"The data type of rating is :\",Rating_with_valid_data.dtypes['rating'])"
      ],
      "metadata": {
        "id": "44oRsHEYz28r"
      },
      "execution_count": null,
      "outputs": []
    },
    {
      "cell_type": "code",
      "source": [
        "#FIlter for data with count of 50 or more rating for a given restaurant and having rating and avg rating of 4\n",
        "\n",
        "\n",
        "filtered_data=Rating_with_valid_data.filter(items=['restaurant_name','rating'])\n",
        "#filtered_data\n",
        "df= filtered_data\n",
        "df\n",
        "\n"
      ],
      "metadata": {
        "id": "B35TMx55z2sS"
      },
      "execution_count": null,
      "outputs": []
    },
    {
      "cell_type": "code",
      "source": [
        "#Grouping Rating data by restaurant 1) having counts greater than 50 and 2)having an avg rating of 4\n",
        "#1) Count > = 50\n",
        "\n",
        "Rating_count = filtered_data.groupby(by = ['restaurant_name'])['rating'].count()\n",
        "\n",
        "\n",
        "filtered_Rating_count = Rating_count[Rating_count >= 50]\n",
        "print(filtered_Rating_count)\n",
        "\n"
      ],
      "metadata": {
        "id": "8UMbni4M3ziV"
      },
      "execution_count": null,
      "outputs": []
    },
    {
      "cell_type": "code",
      "source": [
        "# Creating a dataframe that contains the restaurant names with their rating counts in Descending order\n",
        "df_rating_count = filtered_data.groupby(['restaurant_name'])['rating'].count().sort_values(ascending = False).reset_index()\n",
        "df_rating_count.head()\n",
        "\n"
      ],
      "metadata": {
        "id": "QNkhLfJTHguJ"
      },
      "execution_count": null,
      "outputs": []
    },
    {
      "cell_type": "code",
      "source": [
        "# Get the restaurant names with rating count more than 50\n",
        "rating_counts = df.groupby('restaurant_name')['rating'].count()\n",
        "top_rated_restaurants = rating_counts[rating_counts > 50].index\n",
        "\n",
        "# Calculate mean ratings for top-rated restaurants\n",
        "mean_ratings = df[df['restaurant_name'].isin(top_rated_restaurants)]\n",
        "mean_ratings = mean_ratings.groupby('restaurant_name')['rating'].mean().reset_index()\n",
        "\n",
        "print(mean_ratings)"
      ],
      "metadata": {
        "id": "NVz8b73WJ8cd"
      },
      "execution_count": null,
      "outputs": []
    },
    {
      "cell_type": "markdown",
      "metadata": {
        "id": "10uryUMhJY_V"
      },
      "source": [
        "#### Observations:\n",
        "\n",
        "* Only 4 restaurants were found to be fulfilling the criteria to get the promotional offer\n",
        "\n",
        "* The 4 restaurants are\n",
        "\n",
        "1.   Blue Ribbon Fried Chicken\n",
        "\n",
        "2.   Blue Ribbon Sushi\n",
        "3.Shake Shack\n",
        "4. The Meatball Shop\n",
        "\n"
      ]
    },
    {
      "cell_type": "markdown",
      "metadata": {
        "id": "1gvWBkRUJY_V"
      },
      "source": [
        "### **Question 14:** The company charges the restaurant 25% on the orders having cost greater than 20 dollars and 15% on the orders having cost greater than 5 dollars. Find the net revenue generated by the company across all orders. [3 marks]"
      ]
    },
    {
      "cell_type": "code",
      "execution_count": null,
      "metadata": {
        "id": "rEjbnTNEJY_W"
      },
      "outputs": [],
      "source": [
        "# Write the code here\n",
        "df1= Rating_with_valid_data\n",
        "\n",
        "def calculate_net_revenue(order_costs):\n",
        "    total_revenue = 0\n",
        "\n",
        "    for cost in order_costs:\n",
        "        if cost > 20:\n",
        "            total_revenue += 0.25 * cost\n",
        "        elif cost > 5:\n",
        "            total_revenue += 0.15 * cost\n",
        "\n",
        "    return total_revenue\n",
        "\n",
        "\n",
        "order_costs = df1['cost_of_the_order']\n",
        "\n",
        "net_revenue = calculate_net_revenue(order_costs)\n",
        "print(f\"Net revenue generated by the company is about: ${net_revenue:.2f}\")\n",
        "\n",
        "\n",
        "\n",
        "\n"
      ]
    },
    {
      "cell_type": "markdown",
      "metadata": {
        "id": "XHCEJgH0JY_W"
      },
      "source": [
        "#### Observations:\n",
        "The net revenue generated by the company is $3865.57 across all orders"
      ]
    },
    {
      "cell_type": "markdown",
      "metadata": {
        "id": "pRlVW-oeJY_W"
      },
      "source": [
        "### **Question 15:** The company wants to analyze the total time required to deliver the food. What percentage of orders take more than 60 minutes to get delivered from the time the order is placed? (The food has to be prepared and then delivered.) [2 marks]"
      ]
    },
    {
      "cell_type": "code",
      "execution_count": null,
      "metadata": {
        "id": "zxoTrxfLJY_W"
      },
      "outputs": [],
      "source": [
        "# Write the code here\n",
        "\n",
        "preparation_times = df1['food_preparation_time']\n",
        "delivery_times = df1['delivery_time']\n",
        "\n",
        "def calculate_percentage_above_threshold(times, threshold_minutes):\n",
        "    times = preparation_times + delivery_times\n",
        "    above_threshold = sum(time > threshold_minutes for time in times)\n",
        "    total_orders = len(times)\n",
        "    percentage = (above_threshold / total_orders) * 100\n",
        "    return percentage\n",
        "\n",
        "\n",
        "# Calculate percentage of orders taking more than 60 minutes\n",
        "threshold_minutes = 60\n",
        "percentage_above_60 = calculate_percentage_above_threshold(delivery_times, threshold_minutes)\n",
        "\n",
        "print(f\"Percentage of orders taking more than {threshold_minutes} minutes: {percentage_above_60:.2f}%\")\n"
      ]
    },
    {
      "cell_type": "markdown",
      "metadata": {
        "id": "iqzBXn2yJY_W"
      },
      "source": [
        "#### Observations:\n",
        "We found that 10.24% of orders are taking more than 60 minutes"
      ]
    },
    {
      "cell_type": "markdown",
      "metadata": {
        "id": "bUd6cYpPJY_W"
      },
      "source": [
        "### **Question 16:** The company wants to analyze the delivery time of the orders on weekdays and weekends. How does the mean delivery time vary during weekdays and weekends? [2 marks]"
      ]
    },
    {
      "cell_type": "code",
      "execution_count": null,
      "metadata": {
        "id": "pIU5xZZ6JY_W"
      },
      "outputs": [],
      "source": [
        "# Write the code here\n",
        "\n",
        "\n",
        "# Separate weekdays and weekends\n",
        "weekdays_df = df1[df1['day_of_the_week'] == 'Weekend']  # Data for Weekend\n",
        "weekends_df = df1[df1['day_of_the_week'] == 'Weekday']  # Data for weekday\n",
        "\n",
        "# Calculate mean delivery time for weekdays and weekends\n",
        "mean_delivery_time_weekdays = weekdays_df['delivery_time'].mean()\n",
        "mean_delivery_time_weekends = weekends_df['delivery_time'].mean()\n",
        "\n",
        "print(f\"Mean delivery time (weekdays): {mean_delivery_time_weekdays:.2f} minutes\")\n",
        "print(f\"Mean delivery time (weekends): {mean_delivery_time_weekends:.2f} minutes\")\n"
      ]
    },
    {
      "cell_type": "markdown",
      "metadata": {
        "id": "8H-ODxbVJY_W"
      },
      "source": [
        "#### Observations:\n",
        "\n",
        "* The Mean Delivery time on weekdays is 22.44 minutes\n",
        "* the Mean Delivery time on weekends is 28.31 minutes\n"
      ]
    },
    {
      "cell_type": "markdown",
      "metadata": {
        "id": "17roJywaJY_W"
      },
      "source": [
        "### Conclusion and Recommendations"
      ]
    },
    {
      "cell_type": "markdown",
      "metadata": {
        "id": "ZdX2Wz4FJY_W"
      },
      "source": [
        "### **Question 17:** What are your conclusions from the analysis? What recommendations would you like to share to help improve the business? (You can use cuisine type and feedback ratings to drive your business recommendations.) [6 marks]"
      ]
    },
    {
      "cell_type": "code",
      "source": [
        "#Profiling the data\n",
        "\n"
      ],
      "metadata": {
        "id": "_DRH7m6Dc6qW"
      },
      "execution_count": null,
      "outputs": []
    },
    {
      "cell_type": "code",
      "source": [
        "ProfileReport(Read_data)\n",
        "profile = ProfileReport(Read_data, title='Sample Data Profile Report')\n",
        "profile.to_file('sample_data_report.html')"
      ],
      "metadata": {
        "id": "6Km7NjOfrpSM"
      },
      "execution_count": null,
      "outputs": []
    },
    {
      "cell_type": "markdown",
      "metadata": {
        "id": "VTugVsL4Ddz-"
      },
      "source": [
        "### Conclusions:\n",
        "Observations:\n",
        "#Q1)The Dataset has 1898 number of rows with 9 columns\n",
        "\n",
        "#Q2) There is only 1 Float Dataype column\n",
        "  4 object datatype column\n",
        "  4 numerical datatypes\n",
        "All the columns have 1898 observations.\n",
        "\n",
        "*There are 3 Categorical variables -\n",
        "     \n",
        "\n",
        "1.   Cuisine Name\n",
        "2.   rating\n",
        "3. Day of week\n",
        "\n",
        "* 1 Object Text data : Restaurant  Name\n",
        "\n",
        "* 4 Numeric Data -\n",
        "1.   Order id\n",
        "2.   Customer id\n",
        "3.   Food Preparation Time\n",
        "4.   Delivery Time  \n",
        "\n",
        "#Q3)\n",
        "\n",
        "Although isnull function shows that all records are Not null. Rating is a Data attribute which is  actually missing data as customers chose not give give a response and therefore has missing values.\n",
        "\n",
        "Imputation by Mode - which means Replacing missing values with the most frequently occurring value\n",
        "in the column - primarily used for categorical variables\n",
        "\n",
        "But this needs to be consulted with Business to understand if they approve this approach.\n",
        "\n",
        "#Q4)\n",
        "\n",
        "Observations:The minimum, average, and maximum time it takes for food to be prepared once an order is placed are the following\n",
        "#Minimum : 20 minutes\n",
        "#Average : 27.37 minutes\n",
        "#Maximum: 35 minutes\n",
        "\n",
        "#Q5) The number of orders that were not rated by customers: 736\n",
        "\n",
        " #Percentage of missing data in rating data : 38.77766069546891\n",
        "\n",
        " Observations:\n",
        "736 orders did not get any Rating\n",
        "\n",
        "-'Not given' can be treated as a missing values. 38% of data is missing\n",
        "\n",
        "-We need to treat missing values.\n",
        "\n",
        "\n",
        "#Q6)EDA: Observations:\n",
        "A histogram is a univariate plot which helps us understand the distribution of a continuous numerical variable. It breaks the range of the continuous variables into a intervals of equal length and then counts the number of observations in each interval. We will use the histplot() function of seaborn to create histograms.\n",
        "\n",
        "For this project ,\n",
        "\n",
        "a) we can see that orders that cost between 10 dollars to 15 dollars have the highest number of order (count is more for orders that cost between 10 to 18 USD) The tallest clusters of bars, i.e., peaks, in a histogram represent the modes of the data. A histogram skewed to the right has a large number of occurrences on the left side of the plot and a few on the right side of the plot. Similarly, a histogram skewed to the left has a large number of occurrences on the right side of the plot and few on the left side of the plot.\n",
        "\n",
        "b) From the KDE plot(Meant for Categorical data), we can say that it is right skewed and has majority of the data points concentrated more on the left side\n",
        "\n",
        "\n",
        "Observations for Categorical Data\n",
        "\n",
        "#Cost of  the order\n",
        "----------------------\n",
        "\n",
        " Data has no outliers and is Right Skewed .\n",
        "\n",
        "#Median< Mean\n",
        "\n",
        "When the median is closer to the left of the box and the whisker is shorter on the left end of the box, we say that the distribution is positively skewed (skewed right)\n",
        "\n",
        "#Food Preparation time\n",
        "----------------------\n",
        " Food Preparation time data has the following observations: we can see that longest time to prepare food took 32 to 34 minutes The tallest clusters of bars, i.e., peaks, in a histogram represent the modes of the data. 2) From the KDE plot(Meant for Categorical data), A histogram skewness is almost flat and equal which means the data is even .\n",
        " #Median is same as Mode\n",
        "\n",
        "#Delivery time Data\n",
        "----------------------\n",
        "Delivery time Data has no outliers and is left Skewed .\n",
        "\n",
        "#Median > Mean\n",
        "\n",
        "When the median is closer to the right of the box and the whisker is shorter on the right end of the box, we say that the distribution is negatively skewed (skewed left)\n",
        "\n",
        "# Treatment evaluation  for categorical missing values\n",
        "\n",
        "- **Evaluation Method** Replace with value based on percentages\n",
        "\n",
        "- Need to find the perc of missing data\n",
        " Observation:\n",
        "\n",
        "If Percentage greater than 25% , need to treat categorical missing values . Will treat with Mode imputation\n",
        "\n",
        " # Treatment for categorical missing values\n",
        "\n",
        "- **Treatment Method** Imputation by Mode - which means Replacing missing values with the most frequently occurring value\n",
        "in the column - primarily used for categorical variables\n",
        "\n",
        "- Need to find the mode of Rating data\n",
        "\n",
        "#Observations:\n",
        "* * Although we have bad data , later we may or may choose to treat the data depending on the question .\n",
        "* * This is just an attempt to treat bad data when needed based on the questions asked by business.\n",
        "\n",
        "* * If we were to treat Bad data , we will do the imputation method in the following manner\n",
        "\n",
        "#Q7) 1.   Rank 1 : Shake Shack\n",
        "2.   Rank 2 : The Meatball Shop\n",
        "3.   Rank 3 :Blue Ribbon Sushi\n",
        "4.   Rank 4 : Blue Ribbon fried Chicken\n",
        "5.   Rank 5 : Parm\n",
        "\n",
        "Further Data Analysis revealed that Blue Ribbon restaurants had multiple cuisines and order could tally to more than 200 .But we noticed that Blue Ribbon restaurant seems to have menu items entered as restaurant name instead of a whole food company and one name consisted of location. Data may need to be corrected\n",
        "\n",
        "Observations\n",
        "If we were to total up the orders received by Blue Ribbon then Rank #1 would go to Blue Ribbon restaurant .\n",
        "\n",
        "restaurant_name\n",
        "Blue Ribbon Sushi                119\n",
        "Blue Ribbon Fried Chicken         96\n",
        "Blue Ribbon Sushi Bar & Grill     44\n",
        "Blue Ribbon Sushi Izakaya         29\n",
        "Blue Ribbon Brooklyn               4\n",
        "Name: count, dtype: int64\n",
        "Total orders received by Blue Ribbon Restaurant  292\n",
        "\n",
        " Similarly a restaurant named REDFARM also had two locations in it's name\n",
        "\n",
        "restaurant_name\n",
        "RedFarm Broadway    59\n",
        "RedFarm Hudson      55\n",
        "Name: count, dtype: int64\n",
        "Total orders received by REDFARM group of  Restaurants  114\n",
        "\n",
        "\n",
        "#Q8)American cuisine has the most orders on the weekend tallying to 415 orders.\n",
        "\n",
        "#Q9)About 29 percent of the orders are priced at 20 dollars\n",
        "\n",
        "#Q10) Mean order Delivery time is 24 minutes\n",
        "\n",
        "#Q11)#### Observations:\n",
        "The top 3 customers are the following -\n",
        "\n",
        "*   52832  with   13 orders\n",
        "\n",
        "\n",
        "*   47440  with   10 orders\n",
        "\n",
        "* 83287    with  9   orders\n",
        "\n",
        "\n",
        "Company may need to introduce a loyalty program for these repeat customers to encourage them to place more future orders\n",
        "\n",
        "#Q12)# Observation\n",
        "rating and delivery time :\n",
        "The mean delivery time for this dataset is 24.16 minutes\n",
        "\n",
        "Point plot is usually used  to check  correlation between categorical and numerical values .\n",
        "\n",
        "The mean Delivery time for each rating is depicted here.\n",
        "\n",
        "Rating 5 - About 24.25 minutes is the mean delivery time\n",
        "\n",
        "Rating 4 - About 24 minutes is the mean delivery time\n",
        "Rating 3 - About 24.50 minutes is the mean delivery time\n",
        "\n",
        "**Which means that faster delivery time can improve Ratings **\n",
        "\n",
        "#Observations:\n",
        "Using heatmap:\n",
        "As expected, Cost of the order shows high correlation with food preparation time.If order is expensive, then the time taken to prepare the dish carefully will be High. This is aligned with our intuitive understanding\n",
        "\n",
        "Delivery time is negatively correlated with Cost of the order.\n",
        "\n",
        "It is important to note that correlation does not imply causation\n",
        "\n",
        "Using Pairplot:\n",
        "\n",
        "- *We get the same insights as before from the correlation plot*\n",
        "- *There seems to be a strong relationship between cost of the order  and Food preparation time*\n",
        "\n",
        "There seems to be a strong relationship between cost of the order and Food preparation time\n",
        "\n",
        "#Q13)First we treated data to  filter restaurant data that do not have a rating as 'Not Given'\n",
        "\n",
        "\n",
        "Observations:\n",
        "Only 4 restaurants were found to be fulfilling the criteria to get the promotional offer\n",
        "\n",
        "The 4 restaurants are\n",
        "\n",
        "Blue Ribbon Fried Chicken\n",
        "\n",
        "Blue Ribbon Sushi\n",
        "\n",
        "Shake Shack\n",
        "\n",
        "The Meatball Shop\n",
        "\n",
        "\n",
        "#Q14)Net revenue generated by the company: $3865.57\n",
        "\n",
        "#Q15) We found that 10.24% of orders are taking more than 60 minutes\n",
        "\n",
        "#Q16) The Mean Delivery time on weekdays is 22.44 minutes and the Mean Delivery time on weekends is 28.31 minutes\n",
        "\n"
      ]
    },
    {
      "cell_type": "code",
      "source": [],
      "metadata": {
        "id": "cIdYKEzCKodN"
      },
      "execution_count": null,
      "outputs": []
    },
    {
      "cell_type": "markdown",
      "metadata": {
        "id": "PWnsI0i_guWJ"
      },
      "source": [
        "### Recommendations:\n",
        "\n",
        "*  Data Collection can be improved and other details such as location and type of cusine can also be collected to better predict customer sentiments : Blue Ribbon and RedFarm restaurants\n",
        "*  Loyalty Programe can be started for repeat customers encouraging them to place more frequent orders\n",
        "*  4 restaurants were found to be fulfilling the criteria to get the promotional offer of  advertisement of the restaurants\n",
        "*  But also poor performance of some restaurants may need a boost specifically restaurants having American cuisine.  There is potential there to boost patronage from cusomers as most favored cuisine on weekends was \"American\" (counts were 169 in weekdays and 415 on weekends). This can be running promotional offers on weekends  \n",
        "\n",
        "* Rating and delivery time correlation showed  that faster delivery time can improve Ratings. THe Company can focus on improving delivery time to increase Rating for a given restaurant.\n"
      ]
    },
    {
      "cell_type": "markdown",
      "metadata": {
        "id": "tSoucKKbg9Hc"
      },
      "source": [
        "---"
      ]
    },
    {
      "cell_type": "markdown",
      "source": [],
      "metadata": {
        "id": "mU_zk4l6Xu_D"
      }
    }
  ],
  "metadata": {
    "colab": {
      "provenance": []
    },
    "kernelspec": {
      "display_name": "Python 3 (ipykernel)",
      "language": "python",
      "name": "python3"
    },
    "language_info": {
      "codemirror_mode": {
        "name": "ipython",
        "version": 3
      },
      "file_extension": ".py",
      "mimetype": "text/x-python",
      "name": "python",
      "nbconvert_exporter": "python",
      "pygments_lexer": "ipython3",
      "version": "3.8.12"
    }
  },
  "nbformat": 4,
  "nbformat_minor": 0
}